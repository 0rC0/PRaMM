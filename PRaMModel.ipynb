{
 "cells": [
  {
   "cell_type": "code",
   "execution_count": 1,
   "id": "946a2e7a-5d50-47b5-8a81-fc70d2f813e6",
   "metadata": {},
   "outputs": [],
   "source": [
    "import suspect\n",
    "import pandas as pd\n",
    "import numpy as np\n",
    "import glob\n",
    "import os"
   ]
  },
  {
   "cell_type": "code",
   "execution_count": 2,
   "id": "b20f4c82-d2c9-48de-bf80-9d2c8a25f470",
   "metadata": {},
   "outputs": [],
   "source": [
    "#basis = '/home/orco/data/MacroMols/MRS/MacroMols_7T/derivatives/LCModel_basis/7T_SE_TE9_NoMM.basis'\n",
    "#basis = '/home/orco/data/MacroMols/MRS/MacroMols_7T/derivatives/NewBasis/7T_SPECIAL_real_TE9.basis'\n",
    "basis = '/home/orco/data/MacroMols/MRS/MacroMols_7T/derivatives/NewBasis/7T_SPECIAL_real_TE9_NoMM.basis'"
   ]
  },
  {
   "cell_type": "code",
   "execution_count": 3,
   "id": "c7ddd720-9fc0-46db-abce-a51eacf81339",
   "metadata": {},
   "outputs": [
    {
     "data": {
      "text/plain": [
       "['/home/orco/data/MacroMols/MRS/MacroMols_7T/derivatives/suspect_preprocessing/sub-703/mrs/sub-703_nuc-1H_loc-wm_spec-lr-specialavg_ecc_hlsvd.raw',\n",
       " '/home/orco/data/MacroMols/MRS/MacroMols_7T/derivatives/suspect_preprocessing/sub-703/mrs/sub-703_nuc-1H_loc-pcc_spec-lr-specialavg_ecc_hlsvd.raw',\n",
       " '/home/orco/data/MacroMols/MRS/MacroMols_7T/derivatives/suspect_preprocessing/sub-703/mrs/sub-703_nuc-1H_loc-acc_spec-lr-specialavg_ecc_hlsvd.raw',\n",
       " '/home/orco/data/MacroMols/MRS/MacroMols_7T/derivatives/suspect_preprocessing/sub-706/mrs/sub-706_nuc-1H_loc-pcc_spec-lr-specialavg_ecc_hlsvd.raw',\n",
       " '/home/orco/data/MacroMols/MRS/MacroMols_7T/derivatives/suspect_preprocessing/sub-706/mrs/sub-706_nuc-1H_loc-wm_spec-lr-specialavg_ecc_hlsvd.raw',\n",
       " '/home/orco/data/MacroMols/MRS/MacroMols_7T/derivatives/suspect_preprocessing/sub-706/mrs/sub-706_nuc-1H_loc-acc_spec-lr-specialavg_ecc_hlsvd.raw',\n",
       " '/home/orco/data/MacroMols/MRS/MacroMols_7T/derivatives/suspect_preprocessing/sub-702/mrs/sub-702_nuc-1H_loc-pcc_spec-lr-specialavg_ecc_hlsvd.raw',\n",
       " '/home/orco/data/MacroMols/MRS/MacroMols_7T/derivatives/suspect_preprocessing/sub-702/mrs/sub-702_nuc-1H_loc-wm_spec-lr-specialavg_ecc_hlsvd.raw',\n",
       " '/home/orco/data/MacroMols/MRS/MacroMols_7T/derivatives/suspect_preprocessing/sub-702/mrs/sub-702_nuc-1H_loc-acc_spec-lr-specialavg_ecc_hlsvd.raw',\n",
       " '/home/orco/data/MacroMols/MRS/MacroMols_7T/derivatives/suspect_preprocessing/sub-701/mrs/sub-701_nuc-1H_loc-pcc_spec-lr-specialavg_ecc_hlsvd.raw',\n",
       " '/home/orco/data/MacroMols/MRS/MacroMols_7T/derivatives/suspect_preprocessing/sub-704/mrs/sub-704_nuc-1H_loc-wm_spec-lr-specialavg_ecc_hlsvd.raw',\n",
       " '/home/orco/data/MacroMols/MRS/MacroMols_7T/derivatives/suspect_preprocessing/sub-705/mrs/sub-705_nuc-1H_loc-acc_spec-lr-specialavg_ecc_hlsvd.raw',\n",
       " '/home/orco/data/MacroMols/MRS/MacroMols_7T/derivatives/suspect_preprocessing/sub-705/mrs/sub-705_nuc-1H_loc-wm_spec-lr-specialavg_ecc_hlsvd.raw',\n",
       " '/home/orco/data/MacroMols/MRS/MacroMols_7T/derivatives/suspect_preprocessing/sub-705/mrs/sub-705_nuc-1H_loc-pcc_spec-lr-specialavg_ecc_hlsvd.raw']"
      ]
     },
     "execution_count": 3,
     "metadata": {},
     "output_type": "execute_result"
    }
   ],
   "source": [
    "fullspecs = glob.glob('/home/orco/data/MacroMols/MRS/MacroMols_7T/derivatives/suspect_preprocessing/sub-*/mrs/sub-*_nuc-1H_loc-*_spec-lr-special*hlsvd.raw')\n",
    "fullspecs"
   ]
  },
  {
   "cell_type": "code",
   "execution_count": 4,
   "id": "c88d5f07-47c5-43b2-8987-f97a9ce602ac",
   "metadata": {},
   "outputs": [],
   "source": [
    "water = [i.replace('spec-lr-specialavg_ecc_hlsvd.raw', 'spec-lr-special_water_woOVSavg.raw') for i in fullspecs]"
   ]
  },
  {
   "cell_type": "code",
   "execution_count": 5,
   "id": "3f0cef37-d618-4032-a45e-8c66848e7380",
   "metadata": {},
   "outputs": [
    {
     "data": {
      "text/plain": [
       "['/home/orco/data/MacroMols/MRS/MacroMols_7T/derivatives/suspect_preprocessing/sub-703/mrs/sub-703_nuc-1H_loc-wm_spec-lr-special_water_woOVSavg.raw',\n",
       " '/home/orco/data/MacroMols/MRS/MacroMols_7T/derivatives/suspect_preprocessing/sub-703/mrs/sub-703_nuc-1H_loc-pcc_spec-lr-special_water_woOVSavg.raw',\n",
       " '/home/orco/data/MacroMols/MRS/MacroMols_7T/derivatives/suspect_preprocessing/sub-703/mrs/sub-703_nuc-1H_loc-acc_spec-lr-special_water_woOVSavg.raw',\n",
       " '/home/orco/data/MacroMols/MRS/MacroMols_7T/derivatives/suspect_preprocessing/sub-706/mrs/sub-706_nuc-1H_loc-pcc_spec-lr-special_water_woOVSavg.raw',\n",
       " '/home/orco/data/MacroMols/MRS/MacroMols_7T/derivatives/suspect_preprocessing/sub-706/mrs/sub-706_nuc-1H_loc-wm_spec-lr-special_water_woOVSavg.raw',\n",
       " '/home/orco/data/MacroMols/MRS/MacroMols_7T/derivatives/suspect_preprocessing/sub-706/mrs/sub-706_nuc-1H_loc-acc_spec-lr-special_water_woOVSavg.raw',\n",
       " '/home/orco/data/MacroMols/MRS/MacroMols_7T/derivatives/suspect_preprocessing/sub-702/mrs/sub-702_nuc-1H_loc-pcc_spec-lr-special_water_woOVSavg.raw',\n",
       " '/home/orco/data/MacroMols/MRS/MacroMols_7T/derivatives/suspect_preprocessing/sub-702/mrs/sub-702_nuc-1H_loc-wm_spec-lr-special_water_woOVSavg.raw',\n",
       " '/home/orco/data/MacroMols/MRS/MacroMols_7T/derivatives/suspect_preprocessing/sub-702/mrs/sub-702_nuc-1H_loc-acc_spec-lr-special_water_woOVSavg.raw',\n",
       " '/home/orco/data/MacroMols/MRS/MacroMols_7T/derivatives/suspect_preprocessing/sub-701/mrs/sub-701_nuc-1H_loc-pcc_spec-lr-special_water_woOVSavg.raw',\n",
       " '/home/orco/data/MacroMols/MRS/MacroMols_7T/derivatives/suspect_preprocessing/sub-704/mrs/sub-704_nuc-1H_loc-wm_spec-lr-special_water_woOVSavg.raw',\n",
       " '/home/orco/data/MacroMols/MRS/MacroMols_7T/derivatives/suspect_preprocessing/sub-705/mrs/sub-705_nuc-1H_loc-acc_spec-lr-special_water_woOVSavg.raw',\n",
       " '/home/orco/data/MacroMols/MRS/MacroMols_7T/derivatives/suspect_preprocessing/sub-705/mrs/sub-705_nuc-1H_loc-wm_spec-lr-special_water_woOVSavg.raw',\n",
       " '/home/orco/data/MacroMols/MRS/MacroMols_7T/derivatives/suspect_preprocessing/sub-705/mrs/sub-705_nuc-1H_loc-pcc_spec-lr-special_water_woOVSavg.raw']"
      ]
     },
     "execution_count": 5,
     "metadata": {},
     "output_type": "execute_result"
    }
   ],
   "source": [
    "water"
   ]
  },
  {
   "cell_type": "code",
   "execution_count": 6,
   "id": "67571f94-a1a8-4efc-8529-f74d3e4ad1ec",
   "metadata": {},
   "outputs": [
    {
     "data": {
      "text/plain": [
       "[True,\n",
       " True,\n",
       " True,\n",
       " True,\n",
       " True,\n",
       " True,\n",
       " True,\n",
       " True,\n",
       " True,\n",
       " True,\n",
       " True,\n",
       " True,\n",
       " True,\n",
       " True]"
      ]
     },
     "execution_count": 6,
     "metadata": {},
     "output_type": "execute_result"
    }
   ],
   "source": [
    "[os.path.isfile(i) for i in water]"
   ]
  },
  {
   "cell_type": "code",
   "execution_count": 7,
   "id": "0585d8f8-6194-475c-bf5d-fb28a637b88e",
   "metadata": {},
   "outputs": [],
   "source": [
    "# Copy file to derivatives Directory"
   ]
  },
  {
   "cell_type": "code",
   "execution_count": 8,
   "id": "c76dfe45-ba5a-4e93-b5e9-f7a73fbe113d",
   "metadata": {},
   "outputs": [],
   "source": [
    "import shutil"
   ]
  },
  {
   "cell_type": "code",
   "execution_count": 9,
   "id": "094d0ee2-9c97-472b-96fb-02f1e7b9b60b",
   "metadata": {},
   "outputs": [],
   "source": [
    "for i in fullspecs:\n",
    "    outname = i.replace('derivatives/suspect_preprocessing', 'derivatives/PRaMM')\n",
    "    os.makedirs(os.path.dirname(outname), exist_ok=True)\n",
    "    shutil.copyfile(i, outname)"
   ]
  },
  {
   "cell_type": "code",
   "execution_count": 10,
   "id": "be6d6f63-8532-4a7b-a6a1-e1939794fb40",
   "metadata": {},
   "outputs": [],
   "source": [
    "for i in water:\n",
    "    outname = i.replace('derivatives/suspect_preprocessing', 'derivatives/PRaMM')\n",
    "    os.makedirs(os.path.dirname(outname), exist_ok=True)\n",
    "    shutil.copyfile(i, outname)"
   ]
  },
  {
   "cell_type": "markdown",
   "id": "0f2c2968-0c2b-4523-a435-06693fabb755",
   "metadata": {
    "jupyter": {
     "source_hidden": true
    },
    "tags": []
   },
   "source": [
    "#Start 19.05\n",
    "pramm_control = '''\n",
    "$LCMODL\n",
    "title='PRaMM_{sub}_{roi}'\n",
    "atth2o= 0.8111\n",
    "key = 210387309\n",
    "deltat= 1.250e-04\n",
    "doecc= F\n",
    "dows= T\n",
    "hzpppm= 2.9721e+02\n",
    "neach= 999\n",
    "nunfil= 4096\n",
    "SDDEGZ = 1\n",
    "SDDEGP = 0\n",
    "shifmn = -0.05\n",
    "shifmx = 0.05\n",
    "FIXSHF = T\n",
    "ppmend= 0.2\n",
    "ppmst= 4.2\n",
    "wconc= 43432\n",
    "dkntmn= 0.25\n",
    "echot= 9\n",
    "nsimul= 15\n",
    "chsimu(15) = 'MM4.04 @ 4.05 +- .05 FWHM=0.001 < 0.08 +- .005 AMP=1'\n",
    "chsimu(14) = 'MM3.90 @ 3.92 +- .01 FWHM=0.08 < 0.10 +- .005 AMP=1'\n",
    "chsimu(13) = 'MM3.79 @ 3.79 +- .01 FWHM=0.02 < 0.08 +- .001 AMP=1'\n",
    "chsimu(12) = 'MM3.71 @ 3.71 +- .01 FWHM=0.04 < 0.10 +- .005 AMP=1'\n",
    "chsimu(11) = 'MM3.59 @ 3.59 +- .01 FWHM=0.04 < 0.07 +- .005 AMP=1'\n",
    "chsimu(10) = 'MM3.21 @ 3.21 +- .005 FWHM= 0.14 < 0.16 +- .01 AMP=1'\n",
    "chsimu(9) = 'MM3.00 @ 3.00 +- .005 FWHM= 0.10 < 0.12 +- .01 AMP=1.'\n",
    "chsimu(8) = 'MM2.74 @ 2.75 +- .01 FWHM= 0.10 < 0.13 +- .005 AMP=1.'\n",
    "chsimu(7) = 'MM2.54 @ 2.59 +- .01 FWHM= 0.11 < 0.14 +- .005 AMP=1.'\n",
    "chsimu(6) = 'MM2.27 @ 2.27  +- .005 FWHM= 0.09 < 0.15 +- .01 AMP=1.'\n",
    "chsimu(5) = 'MM2.05 @ 2.05 +- .005 FWHM= 0.15 < 0.28 +- .02 AMP=1.'\n",
    "chsimu(4) = 'MM1.70 @ 1.70 +- .01 FWHM= 0.17 < 0.19 +- .01 AMP= 1.'\n",
    "chsimu(3) = 'MM1.43 @ 1.43 +- .01 FWHM= 0.08 < 0.11 +- .01 AMP= 1.'\n",
    "chsimu(2) = 'MM1.22 @ 1.22 +- .01 FWHM= 0.07 < 0.09 +- .005 AMP= 1.'\n",
    "chsimu(1) = 'MM0.94 @ 0.94 +- .005 FWHM= 0.08 < 0.11 +- .01 AMP= 1.'\n",
    "nratio = 13\n",
    "chrato(1) = 'MM2.05/MM0.94 = 3.93 +- 0.001'\n",
    "chrato(2) = 'MM3.00/MM0.94 = 0.38 +- 0.001'\n",
    "chrato(3) = 'MM2.05/MM1.43 = 1.57 +- 0.001'\n",
    "chrato(4) = 'MM2.27/MM1.70 = 0.48 +- 0.001'\n",
    "chrato(5) = 'MM2.54/MM2.27 = 0.27 +- 0.001'\n",
    "chrato(6) = 'MM2.74/MM2.54 = 0.75 +- 0.001'\n",
    "chrato(7) = 'MM3.21/MM2.74 = 0.75 +- 0.001'\n",
    "chrato(8) = 'MM3.90/MM2.74 = 0.73 +- 0.001'\n",
    "chrato(9) = 'MM3.59/MM3.00 = 0.37 +- 0.001'\n",
    "chrato(10) = 'MM3.71/MM3.00 = 0.73 +- 0.001'\n",
    "chrato(11) = 'MM3.79/MM3.00 = 0.66 +- 0.001'\n",
    "chrato(12) = 'MM3.71/MM3.59 = 1.15 +- 0.001'\n",
    "chrato(13) = 'MM3.79/MM3.71 = 0.63 +- 0.001'\n",
    "nomit= 12\n",
    "chomit= '-CrCH2' 'Gua' 'Ser' 'Lip13a' 'Lip13b' 'Lip09' 'MM09' 'Lip20' 'MM20' 'MM12' 'MM14' 'MM17'\n",
    "chcomb= 'GPC+PCho'\n",
    "FILBAS='{basis}'\n",
    "FILRAW='{filename}.raw'\n",
    "LTABLE=7, FILTAB='{filename}/{filename}.table'\n",
    "FILPS='{filename}.ps'\n",
    "LCSV=11, FILCSV='{filename}/{filename}.csv'\n",
    "LCOORD=9, FILCOO='{filename}/{filename}.coord'\n",
    "LPRINT=6, FILPRI='{filename}/{filename}.print'\n",
    "LCORAW=10, FILCOR='{filename}/{filename}.coraw'\n",
    "filh2o='{water}'\n",
    "$END'''"
   ]
  },
  {
   "cell_type": "markdown",
   "id": "92733294-f09e-4f4f-a96d-24990860f7b5",
   "metadata": {
    "jupyter": {
     "source_hidden": true
    },
    "tags": []
   },
   "source": [
    "#Best 19.05\n",
    "pramm_control = '''\n",
    "$LCMODL\n",
    "title='PRaMM_{sub}_{roi}'\n",
    "atth2o= 0.8111\n",
    "key = 210387309\n",
    "deltat= 1.250e-04\n",
    "doecc= F\n",
    "dows= F\n",
    "hzpppm= 2.9721e+02\n",
    "neach= 999\n",
    "nunfil= 4096\n",
    "SDDEGZ = 1\n",
    "SDDEGP = 0\n",
    "shifmn = -0.05\n",
    "shifmx = 0.05\n",
    "FIXSHF = T\n",
    "ppmend= 0.2\n",
    "ppmst= 4.2\n",
    "wconc= 43432\n",
    "dkntmn= 0.25\n",
    "echot= 9\n",
    "nsimul= 15\n",
    "chsimu(15) = 'MM4.04 @ 4.05 +- .05 FWHM=0.001 < 0.08 +- .005 AMP=1'\n",
    "chsimu(14) = 'MM3.90 @ 3.92 +- .005 FWHM=0.08 < 0.10 +- .005 AMP=1'\n",
    "chsimu(13) = 'MM3.79 @ 3.79 +- .005 FWHM=0.02 < 0.08 +- .001 AMP=1'\n",
    "chsimu(12) = 'MM3.71 @ 3.71 +- .005 FWHM=0.04 < 0.10 +- .005 AMP=1'\n",
    "chsimu(11) = 'MM3.59 @ 3.59 +- .005 FWHM=0.04 < 0.07 +- .005 AMP=1'\n",
    "chsimu(10) = 'MM3.21 @ 3.21 +- .005 FWHM= 0.14 < 0.16 +- .01 AMP=1'\n",
    "chsimu(9) = 'MM3.00 @ 3.00 +- .005 FWHM= 0.10 < 0.12 +- .01 AMP=1.'\n",
    "chsimu(8) = 'MM2.74 @ 2.75 +- .01 FWHM= 0.10 < 0.13 +- .005 AMP=1.'\n",
    "chsimu(7) = 'MM2.54 @ 2.59 +- .01 FWHM= 0.11 < 0.14 +- .005 AMP=1.'\n",
    "chsimu(6) = 'MM2.27 @ 2.27  +- .005 FWHM= 0.09 < 0.15 +- .01 AMP=1.'\n",
    "chsimu(5) = 'MM2.05 @ 2.05 +- .005 FWHM= 0.15 < 0.28 +- .02 AMP=1.'\n",
    "chsimu(4) = 'MM1.70 @ 1.70 +- .01 FWHM= 0.17 < 0.19 +- .01 AMP= 1.'\n",
    "chsimu(3) = 'MM1.43 @ 1.43 +- .01 FWHM= 0.08 < 0.11 +- .01 AMP= 1.'\n",
    "chsimu(2) = 'MM1.22 @ 1.22 +- .01 FWHM= 0.07 < 0.09 +- .005 AMP= 1.'\n",
    "chsimu(1) = 'MM0.94 @ 0.94 +- .005 FWHM= 0.08 < 0.11 +- .01 AMP= 1.'\n",
    "nratio = 13\n",
    "chrato(1) = 'MM1.22/MM0.94 = 0.46 +- 0.04'\n",
    "chrato(2) = 'MM1.70/MM0.94 = 2.02 +- 0.20'\n",
    "chrato(3) = 'MM2.74/MM2.54 = 0.81 +- 0.08'\n",
    "chrato(4) = 'MM3.00/MM1.70 = 0.97 +- 0.10'\n",
    "chrato(5) = 'MM3.00/MM2.74 = 3.53 +- 0.35'\n",
    "chrato(6) = 'MM3.21/MM2.74 = 3.78 +- 0.37'\n",
    "chrato(7) = 'MM3.21/MM3.00 = 0.97 +- 0.10'\n",
    "chrato(8) = 'MM3.59/MM3.21 = 0.08 +- 0.008'\n",
    "chrato(9) = 'MM3.71/MM3.59 = 1.34 +- 0.13'\n",
    "chrato(10) = 'MM3.79/MM3.59 = 1.05 +- 0.10'\n",
    "chrato(11) = 'MM3.79/MM3.71 = 0.61 +- 0.06'\n",
    "chrato(12) = 'MM3.90/MM3.79 = 1.58 +- 0.16'\n",
    "chrato(13) = 'MM4.04/MM3.79 = 1.57 +- 0.16'\n",
    "nomit= 12\n",
    "chomit= '-CrCH2' 'Gua' 'Ser' 'Lip13a' 'Lip13b' 'Lip09' 'MM09' 'Lip20' 'MM20' 'MM12' 'MM14' 'MM17'\n",
    "chcomb= 'GPC+PCho'\n",
    "FILBAS='{basis}'\n",
    "FILRAW='{filename}.raw'\n",
    "LTABLE=7, FILTAB='{filename}/{filename}.table'\n",
    "FILPS='{filename}.ps'\n",
    "LCSV=11, FILCSV='{filename}/{filename}.csv'\n",
    "LCOORD=9, FILCOO='{filename}/{filename}.coord'\n",
    "LPRINT=6, FILPRI='{filename}/{filename}.print'\n",
    "LCORAW=10, FILCOR='{filename}/{filename}.coraw'\n",
    "filh2o='{water}'\n",
    "$END'''"
   ]
  },
  {
   "cell_type": "code",
   "execution_count": 11,
   "id": "e8182232-6f4a-47bc-8273-b06edb4e239f",
   "metadata": {},
   "outputs": [],
   "source": [
    "#Dev 20.05\n",
    "pramm_control = '''\n",
    "$LCMODL\n",
    "title='PRaMM_{sub}_{roi}'\n",
    "atth2o= 0.8111\n",
    "key = 210387309\n",
    "deltat= 1.250e-04\n",
    "doecc= F\n",
    "dows= T\n",
    "hzpppm= 2.9721e+02\n",
    "neach= 999\n",
    "nunfil= 4096\n",
    "SDDEGZ = 1\n",
    "SDDEGP = 0\n",
    "shifmn = -0.05\n",
    "shifmx = 0.05\n",
    "FIXSHF = T\n",
    "ppmend= 0.2\n",
    "ppmst= 4.2\n",
    "wconc= 43432\n",
    "dkntmn= 0.25\n",
    "echot= 9\n",
    "nsimul= 15\n",
    "chsimu(15) = 'MM4.04 @ 4.05 +- .05 FWHM=0.001 < 0.08 +- .005 AMP=1'\n",
    "chsimu(14) = 'MM3.90 @ 3.92 +- .005 FWHM=0.08 < 0.10 +- .005 AMP=1'\n",
    "chsimu(13) = 'MM3.79 @ 3.79 +- .005 FWHM=0.02 < 0.08 +- .001 AMP=1'\n",
    "chsimu(12) = 'MM3.71 @ 3.71 +- .005 FWHM=0.04 < 0.10 +- .005 AMP=1'\n",
    "chsimu(11) = 'MM3.59 @ 3.59 +- .005 FWHM=0.04 < 0.07 +- .005 AMP=1'\n",
    "chsimu(10) = 'MM3.21 @ 3.21 +- .005 FWHM= 0.14 < 0.16 +- .01 AMP=1'\n",
    "chsimu(9) = 'MM3.00 @ 3.00 +- .005 FWHM= 0.10 < 0.12 +- .01 AMP=1.'\n",
    "chsimu(8) = 'MM2.74 @ 2.75 +- .01 FWHM= 0.10 < 0.13 +- .005 AMP=1.'\n",
    "chsimu(7) = 'MM2.54 @ 2.59 +- .01 FWHM= 0.11 < 0.14 +- .005 AMP=1.'\n",
    "chsimu(6) = 'MM2.27 @ 2.27  +- .005 FWHM= 0.09 < 0.15 +- .01 AMP=1.'\n",
    "chsimu(5) = 'MM2.05 @ 2.05 +- .005 FWHM= 0.15 < 0.28 +- .02 AMP=1.'\n",
    "chsimu(4) = 'MM1.70 @ 1.70 +- .01 FWHM= 0.17 < 0.19 +- .01 AMP= 1.'\n",
    "chsimu(3) = 'MM1.43 @ 1.43 +- .01 FWHM= 0.08 < 0.11 +- .01 AMP= 1.'\n",
    "chsimu(2) = 'MM1.22 @ 1.22 +- .01 FWHM= 0.07 < 0.09 +- .005 AMP= 1.'\n",
    "chsimu(1) = 'MM0.94 @ 0.94 +- .005 FWHM= 0.08 < 0.11 +- .01 AMP= 1.'\n",
    "nratio = 13\n",
    "chrato(1) = 'MM1.22/MM0.94 = 0.46 +- 0.04'\n",
    "chrato(2) = 'MM1.70/MM0.94 = 2.02 +- 0.20'\n",
    "chrato(3) = 'MM2.74/MM2.54 = 0.81 +- 0.08'\n",
    "chrato(4) = 'MM3.00/MM1.70 = 0.97 +- 0.10'\n",
    "chrato(5) = 'MM3.00/MM2.74 = 3.53 +- 0.35'\n",
    "chrato(6) = 'MM3.21/MM2.74 = 3.78 +- 0.37'\n",
    "chrato(7) = 'MM3.21/MM3.00 = 0.97 +- 0.10'\n",
    "chrato(8) = 'MM3.59/MM3.21 = 0.08 +- 0.008'\n",
    "chrato(9) = 'MM3.71/MM3.59 = 1.34 +- 0.13'\n",
    "chrato(10) = 'MM3.79/MM3.59 = 1.05 +- 0.10'\n",
    "chrato(11) = 'MM3.79/MM3.71 = 0.61 +- 0.06'\n",
    "chrato(12) = 'MM3.90/MM3.79 = 1.58 +- 0.16'\n",
    "chrato(13) = 'MM4.04/MM3.79 = 1.57 +- 0.16'\n",
    "nomit= 12\n",
    "chomit= '-CrCH2' 'Gua' 'Ser' 'Lip13a' 'Lip13b' 'Lip09' 'MM09' 'Lip20' 'MM20' 'MM12' 'MM14' 'MM17'\n",
    "chcomb= 'GPC+PCho'\n",
    "FILBAS='{basis}'\n",
    "FILRAW='{filename}.raw'\n",
    "LTABLE=7, FILTAB='{filename}/{filename}.table'\n",
    "FILPS='{filename}.ps'\n",
    "LCSV=11, FILCSV='{filename}/{filename}.csv'\n",
    "LCOORD=9, FILCOO='{filename}/{filename}.coord'\n",
    "LPRINT=6, FILPRI='{filename}/{filename}.print'\n",
    "LCORAW=10, FILCOR='{filename}/{filename}.coraw'\n",
    "filh2o='{water}'\n",
    "$END'''"
   ]
  },
  {
   "cell_type": "code",
   "execution_count": 12,
   "id": "6c88f907-17c3-4b09-a90e-d9b13a1fda49",
   "metadata": {},
   "outputs": [
    {
     "data": {
      "text/plain": [
       "<function os.makedirs(name, mode=511, exist_ok=False)>"
      ]
     },
     "execution_count": 12,
     "metadata": {},
     "output_type": "execute_result"
    }
   ],
   "source": [
    "os.makedirs"
   ]
  },
  {
   "cell_type": "code",
   "execution_count": 13,
   "id": "f198e1e1-3a66-48ce-a37d-3bf6975ef813",
   "metadata": {
    "tags": []
   },
   "outputs": [
    {
     "name": "stdout",
     "output_type": "stream",
     "text": [
      "/home/orco/data/MacroMols/MRS/MacroMols_7T/derivatives/PRaMM/sub-703/mrs/sub-703_nuc-1H_loc-wm_spec-lr-specialavg_ecc_hlsvd_PRaMM.control\n",
      "/home/orco/data/MacroMols/MRS/MacroMols_7T/derivatives/PRaMM/sub-703/mrs/sub-703_nuc-1H_loc-wm_spec-lr-specialavg_ecc_hlsvd\n",
      "/home/orco/data/MacroMols/MRS/MacroMols_7T/derivatives/PRaMM/sub-703/mrs/sub-703_nuc-1H_loc-pcc_spec-lr-specialavg_ecc_hlsvd_PRaMM.control\n",
      "/home/orco/data/MacroMols/MRS/MacroMols_7T/derivatives/PRaMM/sub-703/mrs/sub-703_nuc-1H_loc-pcc_spec-lr-specialavg_ecc_hlsvd\n",
      "/home/orco/data/MacroMols/MRS/MacroMols_7T/derivatives/PRaMM/sub-703/mrs/sub-703_nuc-1H_loc-acc_spec-lr-specialavg_ecc_hlsvd_PRaMM.control\n",
      "/home/orco/data/MacroMols/MRS/MacroMols_7T/derivatives/PRaMM/sub-703/mrs/sub-703_nuc-1H_loc-acc_spec-lr-specialavg_ecc_hlsvd\n",
      "/home/orco/data/MacroMols/MRS/MacroMols_7T/derivatives/PRaMM/sub-706/mrs/sub-706_nuc-1H_loc-pcc_spec-lr-specialavg_ecc_hlsvd_PRaMM.control\n",
      "/home/orco/data/MacroMols/MRS/MacroMols_7T/derivatives/PRaMM/sub-706/mrs/sub-706_nuc-1H_loc-pcc_spec-lr-specialavg_ecc_hlsvd\n",
      "/home/orco/data/MacroMols/MRS/MacroMols_7T/derivatives/PRaMM/sub-706/mrs/sub-706_nuc-1H_loc-wm_spec-lr-specialavg_ecc_hlsvd_PRaMM.control\n",
      "/home/orco/data/MacroMols/MRS/MacroMols_7T/derivatives/PRaMM/sub-706/mrs/sub-706_nuc-1H_loc-wm_spec-lr-specialavg_ecc_hlsvd\n",
      "/home/orco/data/MacroMols/MRS/MacroMols_7T/derivatives/PRaMM/sub-706/mrs/sub-706_nuc-1H_loc-acc_spec-lr-specialavg_ecc_hlsvd_PRaMM.control\n",
      "/home/orco/data/MacroMols/MRS/MacroMols_7T/derivatives/PRaMM/sub-706/mrs/sub-706_nuc-1H_loc-acc_spec-lr-specialavg_ecc_hlsvd\n",
      "/home/orco/data/MacroMols/MRS/MacroMols_7T/derivatives/PRaMM/sub-702/mrs/sub-702_nuc-1H_loc-pcc_spec-lr-specialavg_ecc_hlsvd_PRaMM.control\n",
      "/home/orco/data/MacroMols/MRS/MacroMols_7T/derivatives/PRaMM/sub-702/mrs/sub-702_nuc-1H_loc-pcc_spec-lr-specialavg_ecc_hlsvd\n",
      "/home/orco/data/MacroMols/MRS/MacroMols_7T/derivatives/PRaMM/sub-702/mrs/sub-702_nuc-1H_loc-wm_spec-lr-specialavg_ecc_hlsvd_PRaMM.control\n",
      "/home/orco/data/MacroMols/MRS/MacroMols_7T/derivatives/PRaMM/sub-702/mrs/sub-702_nuc-1H_loc-wm_spec-lr-specialavg_ecc_hlsvd\n",
      "/home/orco/data/MacroMols/MRS/MacroMols_7T/derivatives/PRaMM/sub-702/mrs/sub-702_nuc-1H_loc-acc_spec-lr-specialavg_ecc_hlsvd_PRaMM.control\n",
      "/home/orco/data/MacroMols/MRS/MacroMols_7T/derivatives/PRaMM/sub-702/mrs/sub-702_nuc-1H_loc-acc_spec-lr-specialavg_ecc_hlsvd\n",
      "/home/orco/data/MacroMols/MRS/MacroMols_7T/derivatives/PRaMM/sub-701/mrs/sub-701_nuc-1H_loc-pcc_spec-lr-specialavg_ecc_hlsvd_PRaMM.control\n",
      "/home/orco/data/MacroMols/MRS/MacroMols_7T/derivatives/PRaMM/sub-701/mrs/sub-701_nuc-1H_loc-pcc_spec-lr-specialavg_ecc_hlsvd\n",
      "/home/orco/data/MacroMols/MRS/MacroMols_7T/derivatives/PRaMM/sub-704/mrs/sub-704_nuc-1H_loc-wm_spec-lr-specialavg_ecc_hlsvd_PRaMM.control\n",
      "/home/orco/data/MacroMols/MRS/MacroMols_7T/derivatives/PRaMM/sub-704/mrs/sub-704_nuc-1H_loc-wm_spec-lr-specialavg_ecc_hlsvd\n",
      "/home/orco/data/MacroMols/MRS/MacroMols_7T/derivatives/PRaMM/sub-705/mrs/sub-705_nuc-1H_loc-acc_spec-lr-specialavg_ecc_hlsvd_PRaMM.control\n",
      "/home/orco/data/MacroMols/MRS/MacroMols_7T/derivatives/PRaMM/sub-705/mrs/sub-705_nuc-1H_loc-acc_spec-lr-specialavg_ecc_hlsvd\n",
      "/home/orco/data/MacroMols/MRS/MacroMols_7T/derivatives/PRaMM/sub-705/mrs/sub-705_nuc-1H_loc-wm_spec-lr-specialavg_ecc_hlsvd_PRaMM.control\n",
      "/home/orco/data/MacroMols/MRS/MacroMols_7T/derivatives/PRaMM/sub-705/mrs/sub-705_nuc-1H_loc-wm_spec-lr-specialavg_ecc_hlsvd\n",
      "/home/orco/data/MacroMols/MRS/MacroMols_7T/derivatives/PRaMM/sub-705/mrs/sub-705_nuc-1H_loc-pcc_spec-lr-specialavg_ecc_hlsvd_PRaMM.control\n",
      "/home/orco/data/MacroMols/MRS/MacroMols_7T/derivatives/PRaMM/sub-705/mrs/sub-705_nuc-1H_loc-pcc_spec-lr-specialavg_ecc_hlsvd\n"
     ]
    }
   ],
   "source": [
    "for n,i in enumerate(fullspecs):\n",
    "    control_name = i.replace('derivatives/suspect_preprocessing', 'derivatives/PRaMM').replace('.raw', '_PRaMM.control')\n",
    "    print(control_name)\n",
    "    file_name = os.path.basename(i).rstrip('.raw')\n",
    "    sub=file_name.split('_')[0]\n",
    "    roi=file_name.split('_')[2]\n",
    "    #print(file_name)\n",
    "    print(control_name.replace('_PRaMM.control',''))\n",
    "    os.makedirs(control_name.replace('_PRaMM.control',''), exist_ok=True)\n",
    "    with open(control_name, 'w') as ctrl:\n",
    "        ctrl.write(pramm_control.format(basis=basis, \n",
    "                                        filename=file_name,\n",
    "                                        water=water[n],\n",
    "                                        sub=sub,\n",
    "                                        roi=roi))"
   ]
  },
  {
   "cell_type": "code",
   "execution_count": 14,
   "id": "5ff015f0-5f34-492a-a569-d3cc3f1e6377",
   "metadata": {},
   "outputs": [],
   "source": [
    "import subprocess"
   ]
  },
  {
   "cell_type": "code",
   "execution_count": 15,
   "id": "72c79882-bad2-43c7-bb60-d79fdbc13730",
   "metadata": {},
   "outputs": [],
   "source": [
    "import sys\n",
    "sys.path.append('/home/orco/data/MacroMols/MRS/MRSpype')\n",
    "from mrspype.utils import utils"
   ]
  },
  {
   "cell_type": "code",
   "execution_count": null,
   "id": "4f806b23-8924-40c3-b0ae-68bb5087b6a3",
   "metadata": {},
   "outputs": [],
   "source": []
  },
  {
   "cell_type": "code",
   "execution_count": null,
   "id": "cd8217ce-6aba-4072-8fa0-d728ffc98791",
   "metadata": {},
   "outputs": [],
   "source": []
  },
  {
   "cell_type": "code",
   "execution_count": 16,
   "id": "457ee532-4f5f-4ce1-91df-a0af334d6a2a",
   "metadata": {},
   "outputs": [],
   "source": [
    "spec_ctrls = '/home/orco/data/MacroMols/MRS/MacroMols_7T/derivatives/PRaMM/sub-*/mrs/sub-*_nuc-1H_loc-*_spec-lr-special*hlsvd*_PRaMM.control'"
   ]
  },
  {
   "cell_type": "code",
   "execution_count": 17,
   "id": "299d70c6-b404-4a29-b983-910a9467bfa5",
   "metadata": {},
   "outputs": [],
   "source": [
    "spec_ctrls = glob.glob(spec_ctrls)"
   ]
  },
  {
   "cell_type": "code",
   "execution_count": 18,
   "id": "a28996a7-3a55-4299-88ac-0405bd0181f0",
   "metadata": {},
   "outputs": [
    {
     "data": {
      "text/plain": [
       "['/home/orco/data/MacroMols/MRS/MacroMols_7T/derivatives/PRaMM/sub-703/mrs/sub-703_nuc-1H_loc-pcc_spec-lr-specialavg_ecc_hlsvd_PRaMM.control',\n",
       " '/home/orco/data/MacroMols/MRS/MacroMols_7T/derivatives/PRaMM/sub-703/mrs/sub-703_nuc-1H_loc-acc_spec-lr-specialavg_ecc_hlsvd_PRaMM.control',\n",
       " '/home/orco/data/MacroMols/MRS/MacroMols_7T/derivatives/PRaMM/sub-703/mrs/sub-703_nuc-1H_loc-wm_spec-lr-specialavg_ecc_hlsvd_PRaMM.control',\n",
       " '/home/orco/data/MacroMols/MRS/MacroMols_7T/derivatives/PRaMM/sub-706/mrs/sub-706_nuc-1H_loc-pcc_spec-lr-specialavg_ecc_hlsvd_PRaMM.control',\n",
       " '/home/orco/data/MacroMols/MRS/MacroMols_7T/derivatives/PRaMM/sub-706/mrs/sub-706_nuc-1H_loc-acc_spec-lr-specialavg_ecc_hlsvd_PRaMM.control',\n",
       " '/home/orco/data/MacroMols/MRS/MacroMols_7T/derivatives/PRaMM/sub-706/mrs/sub-706_nuc-1H_loc-wm_spec-lr-specialavg_ecc_hlsvd_PRaMM.control',\n",
       " '/home/orco/data/MacroMols/MRS/MacroMols_7T/derivatives/PRaMM/sub-702/mrs/sub-702_nuc-1H_loc-acc_spec-lr-specialavg_ecc_hlsvd_PRaMM.control',\n",
       " '/home/orco/data/MacroMols/MRS/MacroMols_7T/derivatives/PRaMM/sub-702/mrs/sub-702_nuc-1H_loc-pcc_spec-lr-specialavg_ecc_hlsvd_PRaMM.control',\n",
       " '/home/orco/data/MacroMols/MRS/MacroMols_7T/derivatives/PRaMM/sub-702/mrs/sub-702_nuc-1H_loc-wm_spec-lr-specialavg_ecc_hlsvd_PRaMM.control',\n",
       " '/home/orco/data/MacroMols/MRS/MacroMols_7T/derivatives/PRaMM/sub-701/mrs/sub-701_nuc-1H_loc-pcc_spec-lr-specialavg_ecc_hlsvd_PRaMM.control',\n",
       " '/home/orco/data/MacroMols/MRS/MacroMols_7T/derivatives/PRaMM/sub-704/mrs/sub-704_nuc-1H_loc-wm_spec-lr-specialavg_ecc_hlsvd_PRaMM.control',\n",
       " '/home/orco/data/MacroMols/MRS/MacroMols_7T/derivatives/PRaMM/sub-705/mrs/sub-705_nuc-1H_loc-acc_spec-lr-specialavg_ecc_hlsvd_PRaMM.control',\n",
       " '/home/orco/data/MacroMols/MRS/MacroMols_7T/derivatives/PRaMM/sub-705/mrs/sub-705_nuc-1H_loc-wm_spec-lr-specialavg_ecc_hlsvd_PRaMM.control',\n",
       " '/home/orco/data/MacroMols/MRS/MacroMols_7T/derivatives/PRaMM/sub-705/mrs/sub-705_nuc-1H_loc-pcc_spec-lr-specialavg_ecc_hlsvd_PRaMM.control']"
      ]
     },
     "execution_count": 18,
     "metadata": {},
     "output_type": "execute_result"
    }
   ],
   "source": [
    "spec_ctrls"
   ]
  },
  {
   "cell_type": "code",
   "execution_count": 19,
   "id": "86c90afd-0fd4-494b-bc47-010658f90112",
   "metadata": {},
   "outputs": [
    {
     "data": {
      "text/plain": [
       "14"
      ]
     },
     "execution_count": 19,
     "metadata": {},
     "output_type": "execute_result"
    }
   ],
   "source": [
    "len(spec_ctrls)"
   ]
  },
  {
   "cell_type": "code",
   "execution_count": 20,
   "id": "a392d9c9-7bc4-488b-92cf-5a3bec5f1865",
   "metadata": {},
   "outputs": [
    {
     "data": {
      "text/plain": [
       "'/home/orco/data/MacroMols/MRS/MacroMols_7T/code'"
      ]
     },
     "execution_count": 20,
     "metadata": {},
     "output_type": "execute_result"
    }
   ],
   "source": [
    "curr_dir = os.getcwd()\n",
    "curr_dir"
   ]
  },
  {
   "cell_type": "code",
   "execution_count": 21,
   "id": "50d57929-9dae-4193-b866-279b70fde30a",
   "metadata": {},
   "outputs": [
    {
     "data": {
      "text/plain": [
       "[None,\n",
       " None,\n",
       " None,\n",
       " None,\n",
       " None,\n",
       " None,\n",
       " None,\n",
       " None,\n",
       " None,\n",
       " None,\n",
       " None,\n",
       " None,\n",
       " None,\n",
       " None]"
      ]
     },
     "execution_count": 21,
     "metadata": {},
     "output_type": "execute_result"
    }
   ],
   "source": [
    "from joblib import Parallel, delayed\n",
    "\n",
    "def lcm(i):\n",
    "    print(i)\n",
    "    dirname = os.path.dirname(i)\n",
    "    print(dirname)\n",
    "    os.chdir(dirname)\n",
    "    #print(os.getcwd())\n",
    "    os.makedirs(i.replace('_PRaMM.control',''), exist_ok=True)\n",
    "    print(i.replace('_PRaMM.control',''))\n",
    "    proc = subprocess.run('/home/orco/.lcmodel/bin/lcmodel < {filename}'.format(filename=os.path.basename(i)), shell=True, check=True, capture_output=True)\n",
    "    print(proc)\n",
    "    \n",
    "\n",
    "\n",
    "Parallel(n_jobs=32)(delayed(lcm)(i) for i in spec_ctrls)"
   ]
  },
  {
   "cell_type": "code",
   "execution_count": 22,
   "id": "e481f242-f75a-4a29-a4d0-50a9576be66b",
   "metadata": {
    "tags": []
   },
   "outputs": [],
   "source": [
    "# for i in spec_ctrls:\n",
    "#     print(i)\n",
    "#     dirname = os.path.dirname(i)\n",
    "#     print(dirname)\n",
    "#     os.chdir(dirname)\n",
    "#     #print(os.getcwd())\n",
    "#     os.makedirs(i.replace('_PRaMM.control',''), exist_ok=True)\n",
    "#     print(i.replace('_PRaMM.control',''))\n",
    "#     proc = subprocess.run('/home/orco/.lcmodel/bin/lcmodel < {filename}'.format(filename=os.path.basename(i)), shell=True, check=True, capture_output=True)\n",
    "#     print(proc)\n",
    "    \n"
   ]
  },
  {
   "cell_type": "code",
   "execution_count": 102,
   "id": "3943e596-7dd6-4582-baf4-fb2d5ace0394",
   "metadata": {},
   "outputs": [
    {
     "data": {
      "text/plain": [
       "<module 'mrspype.utils.utils' from '/home/orco/data/MacroMols/MRS/MRSpype/mrspype/utils/utils.py'>"
      ]
     },
     "execution_count": 102,
     "metadata": {},
     "output_type": "execute_result"
    }
   ],
   "source": [
    "import importlib\n",
    "importlib.reload(utils)"
   ]
  },
  {
   "cell_type": "code",
   "execution_count": 103,
   "id": "bb33add4-db91-4a05-95a1-3ad32b9a51a1",
   "metadata": {},
   "outputs": [
    {
     "name": "stdout",
     "output_type": "stream",
     "text": [
      "Help on module mrspype.utils.utils in mrspype.utils:\n",
      "\n",
      "NAME\n",
      "    mrspype.utils.utils\n",
      "\n",
      "FUNCTIONS\n",
      "    read_lcmodel_raw(f)\n",
      "    \n",
      "    read_raw(raw_file)\n",
      "    \n",
      "    sidecar_json(in_nii)\n",
      "    \n",
      "    spectrum(s)\n",
      "        # Credits: https://github.com/openmrslab/suspect\n",
      "        Returns\n",
      "        -------\n",
      "        MRSSpectrum\n",
      "            The Fourier-transformed and shifted data, represented as a spectrum\n",
      "\n",
      "FILE\n",
      "    /home/orco/data/MacroMols/MRS/MRSpype/mrspype/utils/utils.py\n",
      "\n",
      "\n"
     ]
    }
   ],
   "source": [
    "help(utils)"
   ]
  },
  {
   "cell_type": "code",
   "execution_count": 104,
   "id": "9123e22c-adf6-481e-8a5e-c7b1c36596cc",
   "metadata": {},
   "outputs": [],
   "source": [
    "from matplotlib import pyplot as plt"
   ]
  },
  {
   "cell_type": "code",
   "execution_count": 105,
   "id": "34dbbe95-8d70-43a6-9191-1466e370b8e1",
   "metadata": {
    "tags": []
   },
   "outputs": [
    {
     "data": {
      "text/plain": [
       "['/home/orco/data/MacroMols/MRS/MacroMols_7T/derivatives/suspect_preprocessing/sub-703/mrs/sub-703_nuc-1H_loc-wm_spec-lr-specialavg_ecc_hlsvd.raw',\n",
       " '/home/orco/data/MacroMols/MRS/MacroMols_7T/derivatives/suspect_preprocessing/sub-703/mrs/sub-703_nuc-1H_loc-pcc_spec-lr-specialavg_ecc_hlsvd.raw',\n",
       " '/home/orco/data/MacroMols/MRS/MacroMols_7T/derivatives/suspect_preprocessing/sub-703/mrs/sub-703_nuc-1H_loc-acc_spec-lr-specialavg_ecc_hlsvd.raw',\n",
       " '/home/orco/data/MacroMols/MRS/MacroMols_7T/derivatives/suspect_preprocessing/sub-706/mrs/sub-706_nuc-1H_loc-pcc_spec-lr-specialavg_ecc_hlsvd.raw',\n",
       " '/home/orco/data/MacroMols/MRS/MacroMols_7T/derivatives/suspect_preprocessing/sub-706/mrs/sub-706_nuc-1H_loc-wm_spec-lr-specialavg_ecc_hlsvd.raw',\n",
       " '/home/orco/data/MacroMols/MRS/MacroMols_7T/derivatives/suspect_preprocessing/sub-706/mrs/sub-706_nuc-1H_loc-acc_spec-lr-specialavg_ecc_hlsvd.raw',\n",
       " '/home/orco/data/MacroMols/MRS/MacroMols_7T/derivatives/suspect_preprocessing/sub-702/mrs/sub-702_nuc-1H_loc-pcc_spec-lr-specialavg_ecc_hlsvd.raw',\n",
       " '/home/orco/data/MacroMols/MRS/MacroMols_7T/derivatives/suspect_preprocessing/sub-702/mrs/sub-702_nuc-1H_loc-wm_spec-lr-specialavg_ecc_hlsvd.raw',\n",
       " '/home/orco/data/MacroMols/MRS/MacroMols_7T/derivatives/suspect_preprocessing/sub-702/mrs/sub-702_nuc-1H_loc-acc_spec-lr-specialavg_ecc_hlsvd.raw',\n",
       " '/home/orco/data/MacroMols/MRS/MacroMols_7T/derivatives/suspect_preprocessing/sub-701/mrs/sub-701_nuc-1H_loc-pcc_spec-lr-specialavg_ecc_hlsvd.raw',\n",
       " '/home/orco/data/MacroMols/MRS/MacroMols_7T/derivatives/suspect_preprocessing/sub-704/mrs/sub-704_nuc-1H_loc-wm_spec-lr-specialavg_ecc_hlsvd.raw',\n",
       " '/home/orco/data/MacroMols/MRS/MacroMols_7T/derivatives/suspect_preprocessing/sub-705/mrs/sub-705_nuc-1H_loc-acc_spec-lr-specialavg_ecc_hlsvd.raw',\n",
       " '/home/orco/data/MacroMols/MRS/MacroMols_7T/derivatives/suspect_preprocessing/sub-705/mrs/sub-705_nuc-1H_loc-wm_spec-lr-specialavg_ecc_hlsvd.raw',\n",
       " '/home/orco/data/MacroMols/MRS/MacroMols_7T/derivatives/suspect_preprocessing/sub-705/mrs/sub-705_nuc-1H_loc-pcc_spec-lr-specialavg_ecc_hlsvd.raw']"
      ]
     },
     "execution_count": 105,
     "metadata": {},
     "output_type": "execute_result"
    }
   ],
   "source": [
    "fullspecs"
   ]
  },
  {
   "cell_type": "code",
   "execution_count": 106,
   "id": "0a28dfcf-518e-4c95-a72f-856640a8556e",
   "metadata": {},
   "outputs": [],
   "source": [
    "fullspecs = [i.replace('derivatives/LC_Model', 'derivatives/PRaMM') for i in fullspecs]"
   ]
  },
  {
   "cell_type": "code",
   "execution_count": 107,
   "id": "de5ea056-e84e-4078-89b8-a373b17d645f",
   "metadata": {},
   "outputs": [],
   "source": [
    "coords_pramm = glob.glob('/home/orco/data/MacroMols/MRS/MacroMols_7T/derivatives/PRaMM/sub-*/mrs/sub-*_nuc-1H_loc-*_spec-lr-special*hlsvd/*.coord')"
   ]
  },
  {
   "cell_type": "code",
   "execution_count": 108,
   "id": "060f9e2f-574d-4409-85de-c66167ee34c9",
   "metadata": {
    "tags": []
   },
   "outputs": [
    {
     "data": {
      "text/plain": [
       "['/home/orco/data/MacroMols/MRS/MacroMols_7T/derivatives/PRaMM/sub-703/mrs/sub-703_nuc-1H_loc-acc_spec-lr-specialavg_ecc_hlsvd/sub-703_nuc-1H_loc-acc_spec-lr-specialavg_ecc_hlsvd.coord',\n",
       " '/home/orco/data/MacroMols/MRS/MacroMols_7T/derivatives/PRaMM/sub-703/mrs/sub-703_nuc-1H_loc-wm_spec-lr-specialavg_ecc_hlsvd/sub-703_nuc-1H_loc-wm_spec-lr-specialavg_ecc_hlsvd.coord',\n",
       " '/home/orco/data/MacroMols/MRS/MacroMols_7T/derivatives/PRaMM/sub-703/mrs/sub-703_nuc-1H_loc-pcc_spec-lr-specialavg_ecc_hlsvd/sub-703_nuc-1H_loc-pcc_spec-lr-specialavg_ecc_hlsvd.coord',\n",
       " '/home/orco/data/MacroMols/MRS/MacroMols_7T/derivatives/PRaMM/sub-706/mrs/sub-706_nuc-1H_loc-acc_spec-lr-specialavg_ecc_hlsvd/sub-706_nuc-1H_loc-acc_spec-lr-specialavg_ecc_hlsvd.coord',\n",
       " '/home/orco/data/MacroMols/MRS/MacroMols_7T/derivatives/PRaMM/sub-706/mrs/sub-706_nuc-1H_loc-wm_spec-lr-specialavg_ecc_hlsvd/sub-706_nuc-1H_loc-wm_spec-lr-specialavg_ecc_hlsvd.coord',\n",
       " '/home/orco/data/MacroMols/MRS/MacroMols_7T/derivatives/PRaMM/sub-706/mrs/sub-706_nuc-1H_loc-pcc_spec-lr-specialavg_ecc_hlsvd/sub-706_nuc-1H_loc-pcc_spec-lr-specialavg_ecc_hlsvd.coord',\n",
       " '/home/orco/data/MacroMols/MRS/MacroMols_7T/derivatives/PRaMM/sub-702/mrs/sub-702_nuc-1H_loc-acc_spec-lr-specialavg_ecc_hlsvd/sub-702_nuc-1H_loc-acc_spec-lr-specialavg_ecc_hlsvd.coord',\n",
       " '/home/orco/data/MacroMols/MRS/MacroMols_7T/derivatives/PRaMM/sub-702/mrs/sub-702_nuc-1H_loc-wm_spec-lr-specialavg_ecc_hlsvd/sub-702_nuc-1H_loc-wm_spec-lr-specialavg_ecc_hlsvd.coord',\n",
       " '/home/orco/data/MacroMols/MRS/MacroMols_7T/derivatives/PRaMM/sub-702/mrs/sub-702_nuc-1H_loc-pcc_spec-lr-specialavg_ecc_hlsvd/sub-702_nuc-1H_loc-pcc_spec-lr-specialavg_ecc_hlsvd.coord',\n",
       " '/home/orco/data/MacroMols/MRS/MacroMols_7T/derivatives/PRaMM/sub-701/mrs/sub-701_nuc-1H_loc-pcc_spec-lr-specialavg_ecc_hlsvd/sub-701_nuc-1H_loc-pcc_spec-lr-specialavg_ecc_hlsvd.coord',\n",
       " '/home/orco/data/MacroMols/MRS/MacroMols_7T/derivatives/PRaMM/sub-704/mrs/sub-704_nuc-1H_loc-wm_spec-lr-specialavg_ecc_hlsvd/sub-704_nuc-1H_loc-wm_spec-lr-specialavg_ecc_hlsvd.coord',\n",
       " '/home/orco/data/MacroMols/MRS/MacroMols_7T/derivatives/PRaMM/sub-705/mrs/sub-705_nuc-1H_loc-pcc_spec-lr-specialavg_ecc_hlsvd/sub-705_nuc-1H_loc-pcc_spec-lr-specialavg_ecc_hlsvd.coord',\n",
       " '/home/orco/data/MacroMols/MRS/MacroMols_7T/derivatives/PRaMM/sub-705/mrs/sub-705_nuc-1H_loc-wm_spec-lr-specialavg_ecc_hlsvd/sub-705_nuc-1H_loc-wm_spec-lr-specialavg_ecc_hlsvd.coord',\n",
       " '/home/orco/data/MacroMols/MRS/MacroMols_7T/derivatives/PRaMM/sub-705/mrs/sub-705_nuc-1H_loc-acc_spec-lr-specialavg_ecc_hlsvd/sub-705_nuc-1H_loc-acc_spec-lr-specialavg_ecc_hlsvd.coord']"
      ]
     },
     "execution_count": 108,
     "metadata": {},
     "output_type": "execute_result"
    }
   ],
   "source": [
    "coords_pramm"
   ]
  },
  {
   "cell_type": "code",
   "execution_count": 109,
   "id": "0cb06934-66e5-4aba-871a-01e767bbfb69",
   "metadata": {},
   "outputs": [
    {
     "data": {
      "text/plain": [
       "14"
      ]
     },
     "execution_count": 109,
     "metadata": {},
     "output_type": "execute_result"
    }
   ],
   "source": [
    "len(coords_pramm)"
   ]
  },
  {
   "cell_type": "code",
   "execution_count": 110,
   "id": "beef661c-baba-4297-b390-b260b3133c6d",
   "metadata": {},
   "outputs": [],
   "source": [
    "coords_scm = glob.glob('/home/orco/data/MacroMols/MRS/MacroMols_7T/derivatives/SCM/sub-*/mrs/sub-*_nuc-1H_loc-*_spec-lr-special*/sub-*_nuc-1H_loc-*_spec-lr-special*hlsvd*.coord')"
   ]
  },
  {
   "cell_type": "code",
   "execution_count": 111,
   "id": "c4775493-db57-498f-b3d4-4572e90ab7d9",
   "metadata": {},
   "outputs": [
    {
     "data": {
      "text/plain": [
       "['/home/orco/data/MacroMols/MRS/MacroMols_7T/derivatives/SCM/sub-703/mrs/sub-703_nuc-1H_loc-acc_spec-lr-specialavg_ecc_hlsvd/sub-703_nuc-1H_loc-acc_spec-lr-specialavg_ecc_hlsvd.coord',\n",
       " '/home/orco/data/MacroMols/MRS/MacroMols_7T/derivatives/SCM/sub-703/mrs/sub-703_nuc-1H_loc-wm_spec-lr-specialavg_ecc_hlsvd/sub-703_nuc-1H_loc-wm_spec-lr-specialavg_ecc_hlsvd.coord',\n",
       " '/home/orco/data/MacroMols/MRS/MacroMols_7T/derivatives/SCM/sub-703/mrs/sub-703_nuc-1H_loc-pcc_spec-lr-specialavg_ecc_hlsvd/sub-703_nuc-1H_loc-pcc_spec-lr-specialavg_ecc_hlsvd.coord',\n",
       " '/home/orco/data/MacroMols/MRS/MacroMols_7T/derivatives/SCM/sub-706/mrs/sub-706_nuc-1H_loc-acc_spec-lr-specialavg_ecc_hlsvd/sub-706_nuc-1H_loc-acc_spec-lr-specialavg_ecc_hlsvd.coord',\n",
       " '/home/orco/data/MacroMols/MRS/MacroMols_7T/derivatives/SCM/sub-706/mrs/sub-706_nuc-1H_loc-wm_spec-lr-specialavg_ecc_hlsvd/sub-706_nuc-1H_loc-wm_spec-lr-specialavg_ecc_hlsvd.coord',\n",
       " '/home/orco/data/MacroMols/MRS/MacroMols_7T/derivatives/SCM/sub-706/mrs/sub-706_nuc-1H_loc-pcc_spec-lr-specialavg_ecc_hlsvd/sub-706_nuc-1H_loc-pcc_spec-lr-specialavg_ecc_hlsvd.coord',\n",
       " '/home/orco/data/MacroMols/MRS/MacroMols_7T/derivatives/SCM/sub-702/mrs/sub-702_nuc-1H_loc-acc_spec-lr-specialavg_ecc_hlsvd/sub-702_nuc-1H_loc-acc_spec-lr-specialavg_ecc_hlsvd.coord',\n",
       " '/home/orco/data/MacroMols/MRS/MacroMols_7T/derivatives/SCM/sub-702/mrs/sub-702_nuc-1H_loc-wm_spec-lr-specialavg_ecc_hlsvd/sub-702_nuc-1H_loc-wm_spec-lr-specialavg_ecc_hlsvd.coord',\n",
       " '/home/orco/data/MacroMols/MRS/MacroMols_7T/derivatives/SCM/sub-702/mrs/sub-702_nuc-1H_loc-pcc_spec-lr-specialavg_ecc_hlsvd/sub-702_nuc-1H_loc-pcc_spec-lr-specialavg_ecc_hlsvd.coord',\n",
       " '/home/orco/data/MacroMols/MRS/MacroMols_7T/derivatives/SCM/sub-701/mrs/sub-701_nuc-1H_loc-pcc_spec-lr-specialavg_ecc_hlsvd/sub-701_nuc-1H_loc-pcc_spec-lr-specialavg_ecc_hlsvd.coord',\n",
       " '/home/orco/data/MacroMols/MRS/MacroMols_7T/derivatives/SCM/sub-704/mrs/sub-704_nuc-1H_loc-wm_spec-lr-specialavg_ecc_hlsvd/sub-704_nuc-1H_loc-wm_spec-lr-specialavg_ecc_hlsvd.coord',\n",
       " '/home/orco/data/MacroMols/MRS/MacroMols_7T/derivatives/SCM/sub-705/mrs/sub-705_nuc-1H_loc-pcc_spec-lr-specialavg_ecc_hlsvd/sub-705_nuc-1H_loc-pcc_spec-lr-specialavg_ecc_hlsvd.coord',\n",
       " '/home/orco/data/MacroMols/MRS/MacroMols_7T/derivatives/SCM/sub-705/mrs/sub-705_nuc-1H_loc-wm_spec-lr-specialavg_ecc_hlsvd/sub-705_nuc-1H_loc-wm_spec-lr-specialavg_ecc_hlsvd.coord',\n",
       " '/home/orco/data/MacroMols/MRS/MacroMols_7T/derivatives/SCM/sub-705/mrs/sub-705_nuc-1H_loc-acc_spec-lr-specialavg_ecc_hlsvd/sub-705_nuc-1H_loc-acc_spec-lr-specialavg_ecc_hlsvd.coord']"
      ]
     },
     "execution_count": 111,
     "metadata": {},
     "output_type": "execute_result"
    }
   ],
   "source": [
    "coords_scm"
   ]
  },
  {
   "cell_type": "code",
   "execution_count": 112,
   "id": "87899f7a-45b6-496e-a7a3-d16a80ac2247",
   "metadata": {},
   "outputs": [
    {
     "data": {
      "text/plain": [
       "14"
      ]
     },
     "execution_count": 112,
     "metadata": {},
     "output_type": "execute_result"
    }
   ],
   "source": [
    "len(coords_scm)"
   ]
  },
  {
   "cell_type": "code",
   "execution_count": 113,
   "id": "c80f3206-0b20-48d3-b590-8f4cfda02822",
   "metadata": {},
   "outputs": [
    {
     "data": {
      "text/plain": [
       "['/home/orco/data/MacroMols/MRS/MacroMols_7T/derivatives/IMNS/sub-703/mrs/sub-703_nuc-1H_loc-pcc_spec-lr-special_subtracted/sub-703_nuc-1H_loc-pcc_spec-lr-special_subtracted.coord',\n",
       " '/home/orco/data/MacroMols/MRS/MacroMols_7T/derivatives/IMNS/sub-703/mrs/sub-703_nuc-1H_loc-wm_spec-lr-special_subtracted/sub-703_nuc-1H_loc-wm_spec-lr-special_subtracted.coord',\n",
       " '/home/orco/data/MacroMols/MRS/MacroMols_7T/derivatives/IMNS/sub-706/mrs/sub-706_nuc-1H_loc-acc_spec-lr-special_subtracted/sub-706_nuc-1H_loc-acc_spec-lr-special_subtracted.coord',\n",
       " '/home/orco/data/MacroMols/MRS/MacroMols_7T/derivatives/IMNS/sub-706/mrs/sub-706_nuc-1H_loc-wm_spec-lr-special_subtracted/sub-706_nuc-1H_loc-wm_spec-lr-special_subtracted.coord',\n",
       " '/home/orco/data/MacroMols/MRS/MacroMols_7T/derivatives/IMNS/sub-706/mrs/sub-706_nuc-1H_loc-pcc_spec-lr-special_subtracted/sub-706_nuc-1H_loc-pcc_spec-lr-special_subtracted.coord',\n",
       " '/home/orco/data/MacroMols/MRS/MacroMols_7T/derivatives/IMNS/sub-702/mrs/sub-702_nuc-1H_loc-acc_spec-lr-special_subtracted/sub-702_nuc-1H_loc-acc_spec-lr-special_subtracted.coord',\n",
       " '/home/orco/data/MacroMols/MRS/MacroMols_7T/derivatives/IMNS/sub-702/mrs/sub-702_nuc-1H_loc-wm_spec-lr-special_subtracted/sub-702_nuc-1H_loc-wm_spec-lr-special_subtracted.coord',\n",
       " '/home/orco/data/MacroMols/MRS/MacroMols_7T/derivatives/IMNS/sub-702/mrs/sub-702_nuc-1H_loc-pcc_spec-lr-special_subtracted/sub-702_nuc-1H_loc-pcc_spec-lr-special_subtracted.coord',\n",
       " '/home/orco/data/MacroMols/MRS/MacroMols_7T/derivatives/IMNS/sub-701/mrs/sub-701_nuc-1H_loc-pcc_spec-lr-special_subtracted/sub-701_nuc-1H_loc-pcc_spec-lr-special_subtracted.coord',\n",
       " '/home/orco/data/MacroMols/MRS/MacroMols_7T/derivatives/IMNS/sub-704/mrs/sub-704_nuc-1H_loc-pcc_spec-lr-special_subtracted/sub-704_nuc-1H_loc-pcc_spec-lr-special_subtracted.coord',\n",
       " '/home/orco/data/MacroMols/MRS/MacroMols_7T/derivatives/IMNS/sub-705/mrs/sub-705_nuc-1H_loc-pcc_spec-lr-special_subtracted/sub-705_nuc-1H_loc-pcc_spec-lr-special_subtracted.coord',\n",
       " '/home/orco/data/MacroMols/MRS/MacroMols_7T/derivatives/IMNS/sub-705/mrs/sub-705_nuc-1H_loc-wm_spec-lr-special_subtracted/sub-705_nuc-1H_loc-wm_spec-lr-special_subtracted.coord',\n",
       " '/home/orco/data/MacroMols/MRS/MacroMols_7T/derivatives/IMNS/sub-705/mrs/sub-705_nuc-1H_loc-acc_spec-lr-special_subtracted/sub-705_nuc-1H_loc-acc_spec-lr-special_subtracted.coord']"
      ]
     },
     "execution_count": 113,
     "metadata": {},
     "output_type": "execute_result"
    }
   ],
   "source": [
    "coords_sub = glob.glob('/home/orco/data/MacroMols/MRS/MacroMols_7T/derivatives/IMNS/sub-*/mrs/sub-*_nuc-1H_loc-*_spec-lr-special*/sub-*_nuc-1H_loc-*_spec-lr-special*.coord')\n",
    "coords_sub"
   ]
  },
  {
   "cell_type": "code",
   "execution_count": 114,
   "id": "2381fb88-689d-40ff-8245-af711c60c045",
   "metadata": {},
   "outputs": [],
   "source": [
    "coords_pramm99 = glob.glob('/home/orco/data/MacroMols/MRS/MacroMols_7T/derivatives/PRaMM99/sub-*/mrs/sub-*_nuc-1H_loc-*_spec-lr-special*hlsvd/*.coord')"
   ]
  },
  {
   "cell_type": "code",
   "execution_count": 115,
   "id": "29d0f1b3-c7f3-44ff-8606-c7c63e2d5517",
   "metadata": {},
   "outputs": [
    {
     "data": {
      "text/plain": [
       "13"
      ]
     },
     "execution_count": 115,
     "metadata": {},
     "output_type": "execute_result"
    }
   ],
   "source": [
    "len(coords_sub)"
   ]
  },
  {
   "cell_type": "code",
   "execution_count": 116,
   "id": "3811bcd0-e3f9-4381-a817-d377d54a805a",
   "metadata": {},
   "outputs": [],
   "source": [
    "import glob\n",
    "import os\n",
    "import pandas as pd\n",
    "import numpy as np\n",
    "import suspect\n",
    "import parsley\n",
    "import seaborn as sns\n",
    "import matplotlib.pyplot as plt\n",
    "#plt.rcParams['figure.figsize'] = [10, 7]"
   ]
  },
  {
   "cell_type": "code",
   "execution_count": 117,
   "id": "4ec1c8e1-33b8-4170-aa80-cb909a7803f2",
   "metadata": {},
   "outputs": [],
   "source": [
    "basis_grammar = r\"\"\"\n",
    "namelist = '$' name:n pairs:p ws -> (n, dict(p))\n",
    "pairs = (pair:first (pair)*:rest -> [first] + rest) | -> []\n",
    "pair = ws name:k ws '=' ws valuelist:v ws ','? -> (k.upper(), v)\n",
    "valuelist = ws (stringlist|numberlist|truth|falsehood):v -> v\n",
    "truth = 'T' -> True\n",
    "falsehood = 'F' -> False\n",
    "stringlist = (string:first (ws string)+:rest -> [first] + rest) | string\n",
    "string = '\\'' (~'\\'' anything)*:c '\\'' -> ''.join(c).strip()\n",
    "numberlist = (number:first (ws number)+:rest -> [first] + rest) | number\n",
    "number = ('-' | -> ''):sign (digits:ds (floatPart(sign ds) | -> int(sign + ds)))\n",
    "digits = <digit+>\n",
    "name = <letter (letter | digit | '_')*>\n",
    "floatPart :sign :ds = <('.' digits? exponent?) | exponent>:tail -> float(sign + ds + tail)\n",
    "exponent = ('e' | 'E') ('+' | '-')? digits\n",
    "\"\"\"\n",
    "\n",
    "parser = parsley.makeGrammar(basis_grammar, {})\n"
   ]
  },
  {
   "cell_type": "code",
   "execution_count": 118,
   "id": "a07ac232-cef8-4d49-bc62-da6f7c8aab74",
   "metadata": {},
   "outputs": [],
   "source": [
    "def read_svs_raw(raw_path):\n",
    "    with open(raw_path,'r') as fin:\n",
    "        data = fin.read().lstrip()\n",
    "        raw = dict()\n",
    "        while data.startswith('$'):\n",
    "            namelist_data, _, data = data.partition('$END')\n",
    "            namelist = parser(namelist_data).namelist()\n",
    "            raw[namelist[0]] = namelist[1]\n",
    "            data = data.lstrip()\n",
    "            if namelist[0].upper() == 'NMID':\n",
    "                #then is the last section and the time domain data begin\n",
    "                data = [i.lstrip().split() for i in data.split('\\n') if i]\n",
    "                iterable = (complex(float(i[0]),float(i[1])) for i in data)\n",
    "                raw['time_domain'] = np.fromiter(iterable, 'complex64', len(data))\n",
    "                #data is not anymore string\n",
    "                break\n",
    "    raw['freq_domain'] = np.fft.fftshift(np.fft.fft(raw['time_domain'], axis=-1), axes=-1)\n",
    "    \n",
    "    return raw\n",
    "\n",
    "def scale_dbn(data, baseline, fit):\n",
    "    from sklearn.preprocessing import MinMaxScaler\n",
    "    noise = np.array(data) - np.array(fit)\n",
    "    scaler = MinMaxScaler()\n",
    "    scaler.fit(np.array(data).reshape(-1,1))\n",
    "    new_data = scaler.transform(np.array(data).reshape(-1,1))[:,0]\n",
    "    new_baseline = scaler.transform(np.array(baseline).reshape(-1,1))[:,0]\n",
    "    new_noise = scaler.transform(noise.reshape(-1,1))[:,0]\n",
    "    return new_data, new_baseline, new_noise\n",
    "    \n",
    "def scale_01(data):\n",
    "    from sklearn.preprocessing import MinMaxScaler\n",
    "    scaler = MinMaxScaler()\n",
    "    scaler.fit(np.array(data).reshape(-1,1))\n",
    "    return scaler.transform(np.array(data).reshape(-1,1))[:,0]"
   ]
  },
  {
   "cell_type": "code",
   "execution_count": 119,
   "id": "97b18bdd-5b53-4288-8771-9d2df82b6581",
   "metadata": {},
   "outputs": [],
   "source": [
    "def scaled_raw_pure_noise(raw_path):\n",
    "    # Read RAW\n",
    "    # Scale the real part of frequency domain to 0 to 1\n",
    "    # Return the variance of pure noise, points between +- -1 to 0 ppm (points 2750 to 3250)\n",
    "    return scale_01(read_svs_raw(raw_path)['freq_domain'].real)[2750:3500]\n",
    "    \n",
    "def get_fit_rest(coord):\n",
    "    c = suspect.io.lcmodel.read_coord(coord)\n",
    "    _, bl, fit_noise = scale_dbn(c['data'], c['baseline'], c['fit'])\n",
    "    return bl + fit_noise\n",
    "\n",
    "def get_fit_noise(coord):\n",
    "    c = suspect.io.lcmodel.read_coord(coord)\n",
    "    _, _, fit_noise = scale_dbn(c['data'], c['baseline'], c['fit'])\n",
    "    return fit_noise\n",
    "\n",
    "\n",
    "def get_fqn(fit_rest, pure_noise):\n",
    "    return np.var(fit_rest)/np.var(pure_noise)"
   ]
  },
  {
   "cell_type": "code",
   "execution_count": 120,
   "id": "a5c7e3b9-44ad-4804-b91e-403856fc4a27",
   "metadata": {},
   "outputs": [],
   "source": [
    "full_raws = '/home/orco/data/MacroMols/MRS/MacroMols_7T/derivatives/SCM/sub-*/mrs/sub-*_nuc-1H_loc-*_spec-lr-specialavg_ecc_hlsvd.raw'\n",
    "full_raws = glob.glob(full_raws)\n",
    "#full_raws"
   ]
  },
  {
   "cell_type": "code",
   "execution_count": 121,
   "id": "9a3efc2b-5c52-4be7-86ca-bb004438fb99",
   "metadata": {},
   "outputs": [],
   "source": [
    "var_scaled_raw_pure_noise = [np.var(scaled_raw_pure_noise(i)) for i in full_raws]"
   ]
  },
  {
   "cell_type": "code",
   "execution_count": 122,
   "id": "0fcd032e-a775-4ce0-9869-94d6d9387e06",
   "metadata": {},
   "outputs": [],
   "source": [
    "def get_fit_rest(coord):\n",
    "    c = suspect.io.lcmodel.read_coord(coord)\n",
    "    _, bl, fit_noise = scale_dbn(c['data'][350:], c['baseline'][350:], c['fit'][350:])\n",
    "    return  bl #+fit_noise #bl + "
   ]
  },
  {
   "cell_type": "code",
   "execution_count": 123,
   "id": "d5d3e1e9-b63d-4522-8f19-a6f0369265f2",
   "metadata": {},
   "outputs": [],
   "source": [
    "fit_rest_1 = [np.var(get_fit_rest(i)) for i in coords_pramm]\n",
    "fit_rest_2 = [np.var(get_fit_rest(i)) for i in coords_scm]\n",
    "fit_rest_3 = [np.var(get_fit_rest(i)) for i in coords_sub]\n",
    "fit_rest_4 = [np.var(get_fit_rest(i)) for i in coords_pramm99]"
   ]
  },
  {
   "cell_type": "code",
   "execution_count": 124,
   "id": "8699dd2e-40ce-41d5-a672-71bc99ec702a",
   "metadata": {},
   "outputs": [],
   "source": [
    "fqn_1 = np.array(fit_rest_1) / np.array(var_scaled_raw_pure_noise)\n",
    "fqn_2 = np.array(fit_rest_2) / np.array(var_scaled_raw_pure_noise)\n",
    "fqn_3 = np.array(fit_rest_3) / np.array(var_scaled_raw_pure_noise[1:])\n",
    "fqn_4 = np.array(fit_rest_4) / np.array(var_scaled_raw_pure_noise)"
   ]
  },
  {
   "cell_type": "code",
   "execution_count": 125,
   "id": "0f5d3c97-8564-45b8-b680-b889ad5edf50",
   "metadata": {},
   "outputs": [],
   "source": [
    "fqn_3 = np.array([np.nan] + list(fqn_3))"
   ]
  },
  {
   "cell_type": "code",
   "execution_count": 126,
   "id": "30b47e9f-5632-418f-b7ba-5b4f9b8c8005",
   "metadata": {},
   "outputs": [],
   "source": [
    "fqn_df = pd.DataFrame.from_dict({'pramm':fqn_1,\n",
    "                                 'scm': fqn_2,\n",
    "                                'sub': fqn_3,\n",
    "                                'pramm99': fqn_4})"
   ]
  },
  {
   "cell_type": "code",
   "execution_count": 127,
   "id": "46c6e34b-6b97-4ca7-b5b9-3c0dd30d3331",
   "metadata": {},
   "outputs": [
    {
     "data": {
      "text/plain": [
       "Text(0.5, 1.0, 'FQN baseline only')"
      ]
     },
     "execution_count": 127,
     "metadata": {},
     "output_type": "execute_result"
    },
    {
     "data": {
      "image/png": "[encoded data removed]",
      "text/plain": [
       "<Figure size 432x288 with 1 Axes>"
      ]
     },
     "metadata": {
      "needs_background": "light"
     },
     "output_type": "display_data"
    }
   ],
   "source": [
    "sns.boxplot(y = 'value',x = 'variable',  data = pd.melt(fqn_df), palette = 'coolwarm').set_title('FQN baseline only')"
   ]
  },
  {
   "cell_type": "code",
   "execution_count": 128,
   "id": "11628ac3-7211-4076-b733-3325fc42680f",
   "metadata": {},
   "outputs": [],
   "source": [
    "def get_fit_restn(coord):\n",
    "    c = suspect.io.lcmodel.read_coord(coord)\n",
    "    _, bl, fit_noise = scale_dbn(c['data'][350:], c['baseline'][350:], c['fit'][350:])\n",
    "    return  fit_noise #bl + "
   ]
  },
  {
   "cell_type": "code",
   "execution_count": 129,
   "id": "530cb4d8-fdaa-456c-aa65-53e6fa92a934",
   "metadata": {},
   "outputs": [],
   "source": [
    "fit_rest_1n = [np.var(get_fit_restn(i)) for i in coords_pramm]\n",
    "fit_rest_2n = [np.var(get_fit_restn(i)) for i in coords_scm]\n",
    "fit_rest_3n = [np.var(get_fit_restn(i)) for i in coords_sub]\n",
    "fit_rest_4n = [np.var(get_fit_restn(i)) for i in coords_pramm99]"
   ]
  },
  {
   "cell_type": "code",
   "execution_count": 130,
   "id": "1f77a8c5-6e66-46b3-a9d8-822be8db4cf4",
   "metadata": {},
   "outputs": [],
   "source": [
    "fqn_1n = np.array(fit_rest_1n) / np.array(var_scaled_raw_pure_noise)\n",
    "fqn_2n = np.array(fit_rest_2n) / np.array(var_scaled_raw_pure_noise)\n",
    "fqn_3n = np.array(fit_rest_3n) / np.array(var_scaled_raw_pure_noise[1:])\n",
    "fqn_4n = np.array(fit_rest_4n) / np.array(var_scaled_raw_pure_noise)"
   ]
  },
  {
   "cell_type": "code",
   "execution_count": 131,
   "id": "a263585a-0658-4ebb-b6ab-5824f32a500c",
   "metadata": {},
   "outputs": [],
   "source": [
    "fqn_3n= np.array([np.nan] + list(fqn_3n))"
   ]
  },
  {
   "cell_type": "code",
   "execution_count": 132,
   "id": "ddfc6be8-77ff-4966-81ff-6c45a7446f48",
   "metadata": {},
   "outputs": [
    {
     "data": {
      "text/plain": [
       "Text(0.5, 1.0, 'FQN_noise_only')"
      ]
     },
     "execution_count": 132,
     "metadata": {},
     "output_type": "execute_result"
    },
    {
     "data": {
      "image/png": "[encoded data removed]",
      "text/plain": [
       "<Figure size 432x288 with 1 Axes>"
      ]
     },
     "metadata": {
      "needs_background": "light"
     },
     "output_type": "display_data"
    }
   ],
   "source": [
    "fqn_dfn = pd.DataFrame.from_dict({'pramm':fqn_1n,\n",
    "                                 'scm': fqn_2n,\n",
    "                                 'sub': fqn_3n,\n",
    "                                 'pramm99':fqn_4n})\n",
    "sns.boxplot(y = 'value',x = 'variable',  data = pd.melt(fqn_dfn), palette = 'coolwarm').set_title('FQN_noise_only')"
   ]
  },
  {
   "cell_type": "code",
   "execution_count": null,
   "id": "64cf4a40-6cc6-43b4-badf-6f394c3d3f2a",
   "metadata": {},
   "outputs": [],
   "source": [
    "from scipy import stats"
   ]
  },
  {
   "cell_type": "code",
   "execution_count": 56,
   "id": "c85239bb-cd92-4215-b2c3-a77e97d46c53",
   "metadata": {},
   "outputs": [
    {
     "data": {
      "text/plain": [
       "Ttest_relResult(statistic=-0.45770154783175504, pvalue=0.6547228668926257)"
      ]
     },
     "execution_count": 56,
     "metadata": {},
     "output_type": "execute_result"
    }
   ],
   "source": [
    "stats.ttest_rel(fqn_1, fqn_2)"
   ]
  },
  {
   "cell_type": "code",
   "execution_count": null,
   "id": "854cf2bb-1b29-4ba5-ad00-270deaf6c9d8",
   "metadata": {},
   "outputs": [],
   "source": []
  }
 ],
 "metadata": {
  "kernelspec": {
   "display_name": "Python 3 (ipykernel)",
   "language": "python",
   "name": "python3"
  },
  "language_info": {
   "codemirror_mode": {
    "name": "ipython",
    "version": 3
   },
   "file_extension": ".py",
   "mimetype": "text/x-python",
   "name": "python",
   "nbconvert_exporter": "python",
   "pygments_lexer": "ipython3",
   "version": "3.9.7"
  }
 },
 "nbformat": 4,
 "nbformat_minor": 5
}
