{
 "cells": [
  {
   "cell_type": "code",
   "execution_count": 1,
   "id": "946a2e7a-5d50-47b5-8a81-fc70d2f813e6",
   "metadata": {},
   "outputs": [],
   "source": [
    "import suspect\n",
    "import pandas as pd\n",
    "import numpy as np\n",
    "import glob\n",
    "import os"
   ]
  },
  {
   "cell_type": "code",
   "execution_count": 2,
   "id": "b20f4c82-d2c9-48de-bf80-9d2c8a25f470",
   "metadata": {},
   "outputs": [],
   "source": [
    "#basis = '/home/orco/data/MacroMols/MRS/MacroMols_7T/derivatives/LCModel_basis/7T_SE_TE9_mac.basis'\n",
    "basis = '/home/orco/data/MacroMols/MRS/MacroMols_7T/derivatives/NewBasis/7T_SPECIAL_real_TE9.basis'\n"
   ]
  },
  {
   "cell_type": "code",
   "execution_count": 3,
   "id": "c7ddd720-9fc0-46db-abce-a51eacf81339",
   "metadata": {},
   "outputs": [
    {
     "data": {
      "text/plain": [
       "['/home/orco/data/MacroMols/MRS/MacroMols_7T/derivatives/suspect_preprocessing/sub-703/mrs/sub-703_nuc-1H_loc-wm_spec-lr-specialavg_ecc_hlsvd.raw',\n",
       " '/home/orco/data/MacroMols/MRS/MacroMols_7T/derivatives/suspect_preprocessing/sub-703/mrs/sub-703_nuc-1H_loc-pcc_spec-lr-specialavg_ecc_hlsvd.raw',\n",
       " '/home/orco/data/MacroMols/MRS/MacroMols_7T/derivatives/suspect_preprocessing/sub-703/mrs/sub-703_nuc-1H_loc-acc_spec-lr-specialavg_ecc_hlsvd.raw',\n",
       " '/home/orco/data/MacroMols/MRS/MacroMols_7T/derivatives/suspect_preprocessing/sub-706/mrs/sub-706_nuc-1H_loc-pcc_spec-lr-specialavg_ecc_hlsvd.raw',\n",
       " '/home/orco/data/MacroMols/MRS/MacroMols_7T/derivatives/suspect_preprocessing/sub-706/mrs/sub-706_nuc-1H_loc-wm_spec-lr-specialavg_ecc_hlsvd.raw',\n",
       " '/home/orco/data/MacroMols/MRS/MacroMols_7T/derivatives/suspect_preprocessing/sub-706/mrs/sub-706_nuc-1H_loc-acc_spec-lr-specialavg_ecc_hlsvd.raw',\n",
       " '/home/orco/data/MacroMols/MRS/MacroMols_7T/derivatives/suspect_preprocessing/sub-702/mrs/sub-702_nuc-1H_loc-pcc_spec-lr-specialavg_ecc_hlsvd.raw',\n",
       " '/home/orco/data/MacroMols/MRS/MacroMols_7T/derivatives/suspect_preprocessing/sub-702/mrs/sub-702_nuc-1H_loc-wm_spec-lr-specialavg_ecc_hlsvd.raw',\n",
       " '/home/orco/data/MacroMols/MRS/MacroMols_7T/derivatives/suspect_preprocessing/sub-702/mrs/sub-702_nuc-1H_loc-acc_spec-lr-specialavg_ecc_hlsvd.raw',\n",
       " '/home/orco/data/MacroMols/MRS/MacroMols_7T/derivatives/suspect_preprocessing/sub-701/mrs/sub-701_nuc-1H_loc-pcc_spec-lr-specialavg_ecc_hlsvd.raw',\n",
       " '/home/orco/data/MacroMols/MRS/MacroMols_7T/derivatives/suspect_preprocessing/sub-704/mrs/sub-704_nuc-1H_loc-wm_spec-lr-specialavg_ecc_hlsvd.raw',\n",
       " '/home/orco/data/MacroMols/MRS/MacroMols_7T/derivatives/suspect_preprocessing/sub-705/mrs/sub-705_nuc-1H_loc-acc_spec-lr-specialavg_ecc_hlsvd.raw',\n",
       " '/home/orco/data/MacroMols/MRS/MacroMols_7T/derivatives/suspect_preprocessing/sub-705/mrs/sub-705_nuc-1H_loc-wm_spec-lr-specialavg_ecc_hlsvd.raw',\n",
       " '/home/orco/data/MacroMols/MRS/MacroMols_7T/derivatives/suspect_preprocessing/sub-705/mrs/sub-705_nuc-1H_loc-pcc_spec-lr-specialavg_ecc_hlsvd.raw']"
      ]
     },
     "execution_count": 3,
     "metadata": {},
     "output_type": "execute_result"
    }
   ],
   "source": [
    "fullspecs = glob.glob('/home/orco/data/MacroMols/MRS/MacroMols_7T/derivatives/suspect_preprocessing/sub-*/mrs/sub-*_nuc-1H_loc-*_spec-lr-special*hlsvd.raw')\n",
    "fullspecs"
   ]
  },
  {
   "cell_type": "code",
   "execution_count": 4,
   "id": "09e12209-4343-47ae-bab1-0e6f6cf384d7",
   "metadata": {},
   "outputs": [],
   "source": [
    "water = [i.replace('spec-lr-specialavg_ecc_hlsvd.raw', 'spec-lr-special_water_woOVSavg.raw') for i in fullspecs]"
   ]
  },
  {
   "cell_type": "code",
   "execution_count": 5,
   "id": "4d63fbeb-893a-4ce6-a21f-1e635cca3922",
   "metadata": {},
   "outputs": [
    {
     "data": {
      "text/plain": [
       "[True,\n",
       " True,\n",
       " True,\n",
       " True,\n",
       " True,\n",
       " True,\n",
       " True,\n",
       " True,\n",
       " True,\n",
       " True,\n",
       " True,\n",
       " True,\n",
       " True,\n",
       " True]"
      ]
     },
     "execution_count": 5,
     "metadata": {},
     "output_type": "execute_result"
    }
   ],
   "source": [
    "[os.path.isfile(i) for i in water]"
   ]
  },
  {
   "cell_type": "code",
   "execution_count": 6,
   "id": "0585d8f8-6194-475c-bf5d-fb28a637b88e",
   "metadata": {},
   "outputs": [],
   "source": [
    "# Copy file to derivatives Directory"
   ]
  },
  {
   "cell_type": "code",
   "execution_count": null,
   "id": "1d01902c-5948-4807-a197-897c1c19df63",
   "metadata": {},
   "outputs": [],
   "source": []
  },
  {
   "cell_type": "code",
   "execution_count": 7,
   "id": "c76dfe45-ba5a-4e93-b5e9-f7a73fbe113d",
   "metadata": {},
   "outputs": [],
   "source": [
    "import shutil"
   ]
  },
  {
   "cell_type": "code",
   "execution_count": 8,
   "id": "094d0ee2-9c97-472b-96fb-02f1e7b9b60b",
   "metadata": {},
   "outputs": [],
   "source": [
    "for i in fullspecs:\n",
    "    outname = i.replace('derivatives/suspect_preprocessing', 'derivatives/SCM')\n",
    "    os.makedirs(os.path.dirname(outname), exist_ok=True)\n",
    "    shutil.copyfile(i, outname)"
   ]
  },
  {
   "cell_type": "code",
   "execution_count": 9,
   "id": "99c6454a-c1e2-4175-bb8e-73f87c6aa382",
   "metadata": {},
   "outputs": [],
   "source": [
    "for i in water:\n",
    "    outname = i.replace('derivatives/suspect_preprocessing', 'derivatives/PRaMM')\n",
    "    os.makedirs(os.path.dirname(outname), exist_ok=True)\n",
    "    shutil.copyfile(i, outname)"
   ]
  },
  {
   "cell_type": "code",
   "execution_count": 10,
   "id": "b348561b-c1be-4f19-bd7e-5adf019ac146",
   "metadata": {},
   "outputs": [],
   "source": [
    "scm_control = '''\n",
    "$LCMODL\n",
    "title='{sub}_{roi}'\n",
    "atth2o= 0.8111\n",
    "key = 210387309\n",
    "deltat= 1.250e-04\n",
    "doecc= F\n",
    "dows= T\n",
    "hzpppm= 2.9721e+02\n",
    "neach= 999\n",
    "nunfil= 4096\n",
    "SDDEGZ = 1\n",
    "SDDEGP = 0\n",
    "shifmn = -0.05\n",
    "shifmx = 0.05\n",
    "FIXSHF = T\n",
    "ppmend= 0.2\n",
    "ppmst= 4.2\n",
    "wconc= 43432\n",
    "dkntmn= 0.25\n",
    "echot= 9\n",
    "nomit= 12\n",
    "chomit= '-CrCH2' 'Gua' 'Ser' 'Lip13a' 'Lip13b' 'Lip09' 'MM09' 'Lip20' 'MM20' 'MM12' 'MM14' 'MM17'\n",
    "NRATIO = 0\n",
    "FILBAS='{basis}'\n",
    "FILRAW='{filename}.raw'\n",
    "LTABLE=7, FILTAB='{filename}/{filename}.table'\n",
    "FILPS='{filename}.ps'\n",
    "LCSV=11, FILCSV='{filename}/{filename}.csv'\n",
    "LCOORD=9, FILCOO='{filename}/{filename}.coord'\n",
    "LPRINT=6, FILPRI='{filename}/{filename}.print'\n",
    "LCORAW=10, FILCOR='{filename}/{filename}.coraw'\n",
    "filh2o='{water}'\n",
    "$END'''"
   ]
  },
  {
   "cell_type": "code",
   "execution_count": 11,
   "id": "f198e1e1-3a66-48ce-a37d-3bf6975ef813",
   "metadata": {
    "tags": []
   },
   "outputs": [
    {
     "name": "stdout",
     "output_type": "stream",
     "text": [
      "/home/orco/data/MacroMols/MRS/MacroMols_7T/derivatives/SCM/sub-703/mrs/sub-703_nuc-1H_loc-wm_spec-lr-specialavg_ecc_hlsvd_SCM.control\n",
      "sub-703_nuc-1H_loc-wm_spec-lr-specialavg_ecc_hlsvd\n",
      "/home/orco/data/MacroMols/MRS/MacroMols_7T/derivatives/SCM/sub-703/mrs/sub-703_nuc-1H_loc-pcc_spec-lr-specialavg_ecc_hlsvd_SCM.control\n",
      "sub-703_nuc-1H_loc-pcc_spec-lr-specialavg_ecc_hlsvd\n",
      "/home/orco/data/MacroMols/MRS/MacroMols_7T/derivatives/SCM/sub-703/mrs/sub-703_nuc-1H_loc-acc_spec-lr-specialavg_ecc_hlsvd_SCM.control\n",
      "sub-703_nuc-1H_loc-acc_spec-lr-specialavg_ecc_hlsvd\n",
      "/home/orco/data/MacroMols/MRS/MacroMols_7T/derivatives/SCM/sub-706/mrs/sub-706_nuc-1H_loc-pcc_spec-lr-specialavg_ecc_hlsvd_SCM.control\n",
      "sub-706_nuc-1H_loc-pcc_spec-lr-specialavg_ecc_hlsvd\n",
      "/home/orco/data/MacroMols/MRS/MacroMols_7T/derivatives/SCM/sub-706/mrs/sub-706_nuc-1H_loc-wm_spec-lr-specialavg_ecc_hlsvd_SCM.control\n",
      "sub-706_nuc-1H_loc-wm_spec-lr-specialavg_ecc_hlsvd\n",
      "/home/orco/data/MacroMols/MRS/MacroMols_7T/derivatives/SCM/sub-706/mrs/sub-706_nuc-1H_loc-acc_spec-lr-specialavg_ecc_hlsvd_SCM.control\n",
      "sub-706_nuc-1H_loc-acc_spec-lr-specialavg_ecc_hlsvd\n",
      "/home/orco/data/MacroMols/MRS/MacroMols_7T/derivatives/SCM/sub-702/mrs/sub-702_nuc-1H_loc-pcc_spec-lr-specialavg_ecc_hlsvd_SCM.control\n",
      "sub-702_nuc-1H_loc-pcc_spec-lr-specialavg_ecc_hlsvd\n",
      "/home/orco/data/MacroMols/MRS/MacroMols_7T/derivatives/SCM/sub-702/mrs/sub-702_nuc-1H_loc-wm_spec-lr-specialavg_ecc_hlsvd_SCM.control\n",
      "sub-702_nuc-1H_loc-wm_spec-lr-specialavg_ecc_hlsvd\n",
      "/home/orco/data/MacroMols/MRS/MacroMols_7T/derivatives/SCM/sub-702/mrs/sub-702_nuc-1H_loc-acc_spec-lr-specialavg_ecc_hlsvd_SCM.control\n",
      "sub-702_nuc-1H_loc-acc_spec-lr-specialavg_ecc_hlsvd\n",
      "/home/orco/data/MacroMols/MRS/MacroMols_7T/derivatives/SCM/sub-701/mrs/sub-701_nuc-1H_loc-pcc_spec-lr-specialavg_ecc_hlsvd_SCM.control\n",
      "sub-701_nuc-1H_loc-pcc_spec-lr-specialavg_ecc_hlsvd\n",
      "/home/orco/data/MacroMols/MRS/MacroMols_7T/derivatives/SCM/sub-704/mrs/sub-704_nuc-1H_loc-wm_spec-lr-specialavg_ecc_hlsvd_SCM.control\n",
      "sub-704_nuc-1H_loc-wm_spec-lr-specialavg_ecc_hlsvd\n",
      "/home/orco/data/MacroMols/MRS/MacroMols_7T/derivatives/SCM/sub-705/mrs/sub-705_nuc-1H_loc-acc_spec-lr-specialavg_ecc_hlsvd_SCM.control\n",
      "sub-705_nuc-1H_loc-acc_spec-lr-specialavg_ecc_hlsvd\n",
      "/home/orco/data/MacroMols/MRS/MacroMols_7T/derivatives/SCM/sub-705/mrs/sub-705_nuc-1H_loc-wm_spec-lr-specialavg_ecc_hlsvd_SCM.control\n",
      "sub-705_nuc-1H_loc-wm_spec-lr-specialavg_ecc_hlsvd\n",
      "/home/orco/data/MacroMols/MRS/MacroMols_7T/derivatives/SCM/sub-705/mrs/sub-705_nuc-1H_loc-pcc_spec-lr-specialavg_ecc_hlsvd_SCM.control\n",
      "sub-705_nuc-1H_loc-pcc_spec-lr-specialavg_ecc_hlsvd\n"
     ]
    }
   ],
   "source": [
    "for n,i in enumerate(fullspecs):\n",
    "    control_name = i.replace('derivatives/suspect_preprocessing', 'derivatives/SCM').replace('.raw', '_SCM.control')\n",
    "    print(control_name)\n",
    "    file_name = os.path.basename(i).rstrip('.raw')\n",
    "    sub=file_name.split('_')[0]\n",
    "    roi=file_name.split('_')[2]\n",
    "    print(file_name)\n",
    "    with open(control_name, 'w') as ctrl:\n",
    "        ctrl.write(scm_control.format(basis=basis, \n",
    "                                      filename=file_name,\n",
    "                                     water=water[n],\n",
    "                                      sub=sub,\n",
    "                                      roi=roi))"
   ]
  },
  {
   "cell_type": "code",
   "execution_count": 12,
   "id": "5ff015f0-5f34-492a-a569-d3cc3f1e6377",
   "metadata": {},
   "outputs": [],
   "source": [
    "import subprocess"
   ]
  },
  {
   "cell_type": "code",
   "execution_count": 13,
   "id": "72c79882-bad2-43c7-bb60-d79fdbc13730",
   "metadata": {},
   "outputs": [],
   "source": [
    "import sys\n",
    "sys.path.append('/home/orco/data/MacroMols/MRS/MRSpype')\n",
    "from mrspype.utils import utils"
   ]
  },
  {
   "cell_type": "code",
   "execution_count": null,
   "id": "4f806b23-8924-40c3-b0ae-68bb5087b6a3",
   "metadata": {},
   "outputs": [],
   "source": []
  },
  {
   "cell_type": "code",
   "execution_count": null,
   "id": "cd8217ce-6aba-4072-8fa0-d728ffc98791",
   "metadata": {},
   "outputs": [],
   "source": []
  },
  {
   "cell_type": "code",
   "execution_count": 14,
   "id": "457ee532-4f5f-4ce1-91df-a0af334d6a2a",
   "metadata": {},
   "outputs": [],
   "source": [
    "spec_ctrls = '/home/orco/data/MacroMols/MRS/MacroMols_7T/derivatives/SCM/sub-*/mrs/sub-*_nuc-1H_loc-*_spec-lr-special*hlsvd*SCM.control'"
   ]
  },
  {
   "cell_type": "code",
   "execution_count": 15,
   "id": "299d70c6-b404-4a29-b983-910a9467bfa5",
   "metadata": {},
   "outputs": [],
   "source": [
    "spec_ctrls = glob.glob(spec_ctrls)"
   ]
  },
  {
   "cell_type": "code",
   "execution_count": 16,
   "id": "a28996a7-3a55-4299-88ac-0405bd0181f0",
   "metadata": {},
   "outputs": [
    {
     "data": {
      "text/plain": [
       "['/home/orco/data/MacroMols/MRS/MacroMols_7T/derivatives/SCM/sub-703/mrs/sub-703_nuc-1H_loc-acc_spec-lr-specialavg_ecc_hlsvd_SCM.control',\n",
       " '/home/orco/data/MacroMols/MRS/MacroMols_7T/derivatives/SCM/sub-703/mrs/sub-703_nuc-1H_loc-wm_spec-lr-specialavg_ecc_hlsvd_SCM.control',\n",
       " '/home/orco/data/MacroMols/MRS/MacroMols_7T/derivatives/SCM/sub-703/mrs/sub-703_nuc-1H_loc-pcc_spec-lr-specialavg_ecc_hlsvd_SCM.control',\n",
       " '/home/orco/data/MacroMols/MRS/MacroMols_7T/derivatives/SCM/sub-706/mrs/sub-706_nuc-1H_loc-acc_spec-lr-specialavg_ecc_hlsvd_SCM.control',\n",
       " '/home/orco/data/MacroMols/MRS/MacroMols_7T/derivatives/SCM/sub-706/mrs/sub-706_nuc-1H_loc-pcc_spec-lr-specialavg_ecc_hlsvd_SCM.control',\n",
       " '/home/orco/data/MacroMols/MRS/MacroMols_7T/derivatives/SCM/sub-706/mrs/sub-706_nuc-1H_loc-wm_spec-lr-specialavg_ecc_hlsvd_SCM.control',\n",
       " '/home/orco/data/MacroMols/MRS/MacroMols_7T/derivatives/SCM/sub-702/mrs/sub-702_nuc-1H_loc-wm_spec-lr-specialavg_ecc_hlsvd_SCM.control',\n",
       " '/home/orco/data/MacroMols/MRS/MacroMols_7T/derivatives/SCM/sub-702/mrs/sub-702_nuc-1H_loc-acc_spec-lr-specialavg_ecc_hlsvd_SCM.control',\n",
       " '/home/orco/data/MacroMols/MRS/MacroMols_7T/derivatives/SCM/sub-702/mrs/sub-702_nuc-1H_loc-pcc_spec-lr-specialavg_ecc_hlsvd_SCM.control',\n",
       " '/home/orco/data/MacroMols/MRS/MacroMols_7T/derivatives/SCM/sub-701/mrs/sub-701_nuc-1H_loc-pcc_spec-lr-specialavg_ecc_hlsvd_SCM.control',\n",
       " '/home/orco/data/MacroMols/MRS/MacroMols_7T/derivatives/SCM/sub-704/mrs/sub-704_nuc-1H_loc-wm_spec-lr-specialavg_ecc_hlsvd_SCM.control',\n",
       " '/home/orco/data/MacroMols/MRS/MacroMols_7T/derivatives/SCM/sub-705/mrs/sub-705_nuc-1H_loc-wm_spec-lr-specialavg_ecc_hlsvd_SCM.control',\n",
       " '/home/orco/data/MacroMols/MRS/MacroMols_7T/derivatives/SCM/sub-705/mrs/sub-705_nuc-1H_loc-acc_spec-lr-specialavg_ecc_hlsvd_SCM.control',\n",
       " '/home/orco/data/MacroMols/MRS/MacroMols_7T/derivatives/SCM/sub-705/mrs/sub-705_nuc-1H_loc-pcc_spec-lr-specialavg_ecc_hlsvd_SCM.control']"
      ]
     },
     "execution_count": 16,
     "metadata": {},
     "output_type": "execute_result"
    }
   ],
   "source": [
    "spec_ctrls"
   ]
  },
  {
   "cell_type": "code",
   "execution_count": 17,
   "id": "6a29ec4f-0770-48f8-9d5c-fd41e01925bc",
   "metadata": {},
   "outputs": [
    {
     "data": {
      "text/plain": [
       "14"
      ]
     },
     "execution_count": 17,
     "metadata": {},
     "output_type": "execute_result"
    }
   ],
   "source": [
    "len(spec_ctrls)"
   ]
  },
  {
   "cell_type": "code",
   "execution_count": 18,
   "id": "a392d9c9-7bc4-488b-92cf-5a3bec5f1865",
   "metadata": {},
   "outputs": [
    {
     "data": {
      "text/plain": [
       "'/home/orco/data/MacroMols/MRS/MacroMols_7T/code'"
      ]
     },
     "execution_count": 18,
     "metadata": {},
     "output_type": "execute_result"
    }
   ],
   "source": [
    "curr_dir = os.getcwd()\n",
    "curr_dir"
   ]
  },
  {
   "cell_type": "code",
   "execution_count": 19,
   "id": "e481f242-f75a-4a29-a4d0-50a9576be66b",
   "metadata": {},
   "outputs": [],
   "source": [
    "# for i in spec_ctrls:\n",
    "#     dirname = os.path.dirname(i)\n",
    "#     os.chdir(dirname)\n",
    "#     #print(os.getcwd())\n",
    "#     os.makedirs(i.replace('_SCM.control',''), exist_ok=True)\n",
    "#     proc = subprocess.run('/home/orco/.lcmodel/bin/lcmodel < {filename}'.format(filename=os.path.basename(i)), shell=True, check=True, capture_output=True)\n",
    "#     print(proc)"
   ]
  },
  {
   "cell_type": "code",
   "execution_count": 20,
   "id": "2f74e4f8-94de-4b13-bc3f-1582698274b4",
   "metadata": {},
   "outputs": [
    {
     "data": {
      "text/plain": [
       "[None,\n",
       " None,\n",
       " None,\n",
       " None,\n",
       " None,\n",
       " None,\n",
       " None,\n",
       " None,\n",
       " None,\n",
       " None,\n",
       " None,\n",
       " None,\n",
       " None,\n",
       " None]"
      ]
     },
     "execution_count": 20,
     "metadata": {},
     "output_type": "execute_result"
    },
    {
     "name": "stdout",
     "output_type": "stream",
     "text": [
      "CompletedProcess(args='/home/orco/.lcmodel/bin/lcmodel < sub-702_nuc-1H_loc-wm_spec-lr-specialavg_ecc_hlsvd_SCM.control', returncode=0, stdout=b'', stderr=b'')\n",
      "CompletedProcess(args='/home/orco/.lcmodel/bin/lcmodel < sub-706_nuc-1H_loc-wm_spec-lr-specialavg_ecc_hlsvd_SCM.control', returncode=0, stdout=b'', stderr=b'')\n",
      "CompletedProcess(args='/home/orco/.lcmodel/bin/lcmodel < sub-701_nuc-1H_loc-pcc_spec-lr-specialavg_ecc_hlsvd_SCM.control', returncode=0, stdout=b'', stderr=b'')\n",
      "CompletedProcess(args='/home/orco/.lcmodel/bin/lcmodel < sub-703_nuc-1H_loc-wm_spec-lr-specialavg_ecc_hlsvd_SCM.control', returncode=0, stdout=b'', stderr=b'')\n",
      "CompletedProcess(args='/home/orco/.lcmodel/bin/lcmodel < sub-706_nuc-1H_loc-acc_spec-lr-specialavg_ecc_hlsvd_SCM.control', returncode=0, stdout=b'', stderr=b'')\n",
      "CompletedProcess(args='/home/orco/.lcmodel/bin/lcmodel < sub-706_nuc-1H_loc-pcc_spec-lr-specialavg_ecc_hlsvd_SCM.control', returncode=0, stdout=b'', stderr=b'')\n",
      "CompletedProcess(args='/home/orco/.lcmodel/bin/lcmodel < sub-705_nuc-1H_loc-pcc_spec-lr-specialavg_ecc_hlsvd_SCM.control', returncode=0, stdout=b'', stderr=b'')\n",
      "CompletedProcess(args='/home/orco/.lcmodel/bin/lcmodel < sub-703_nuc-1H_loc-pcc_spec-lr-specialavg_ecc_hlsvd_SCM.control', returncode=0, stdout=b'', stderr=b'')\n",
      "CompletedProcess(args='/home/orco/.lcmodel/bin/lcmodel < sub-705_nuc-1H_loc-wm_spec-lr-specialavg_ecc_hlsvd_SCM.control', returncode=0, stdout=b'', stderr=b'')\n",
      "CompletedProcess(args='/home/orco/.lcmodel/bin/lcmodel < sub-702_nuc-1H_loc-pcc_spec-lr-specialavg_ecc_hlsvd_SCM.control', returncode=0, stdout=b'', stderr=b'')\n",
      "CompletedProcess(args='/home/orco/.lcmodel/bin/lcmodel < sub-702_nuc-1H_loc-acc_spec-lr-specialavg_ecc_hlsvd_SCM.control', returncode=0, stdout=b'', stderr=b'')\n",
      "CompletedProcess(args='/home/orco/.lcmodel/bin/lcmodel < sub-704_nuc-1H_loc-wm_spec-lr-specialavg_ecc_hlsvd_SCM.control', returncode=0, stdout=b'', stderr=b'')\n",
      "CompletedProcess(args='/home/orco/.lcmodel/bin/lcmodel < sub-705_nuc-1H_loc-acc_spec-lr-specialavg_ecc_hlsvd_SCM.control', returncode=0, stdout=b'', stderr=b'')\n",
      "CompletedProcess(args='/home/orco/.lcmodel/bin/lcmodel < sub-703_nuc-1H_loc-acc_spec-lr-specialavg_ecc_hlsvd_SCM.control', returncode=0, stdout=b'', stderr=b'')\n"
     ]
    }
   ],
   "source": [
    "from joblib import Parallel, delayed\n",
    "\n",
    "def lcm(i):\n",
    "    dirname = os.path.dirname(i)\n",
    "    os.chdir(dirname)\n",
    "    #print(os.getcwd())\n",
    "    os.makedirs(i.replace('_SCM.control',''), exist_ok=True)\n",
    "    proc = subprocess.run('/home/orco/.lcmodel/bin/lcmodel < {filename}'.format(filename=os.path.basename(i)), shell=True, check=True, capture_output=True)\n",
    "    print(proc)\n",
    "    \n",
    "Parallel(n_jobs=32)(delayed(lcm)(i) for i in spec_ctrls)"
   ]
  },
  {
   "cell_type": "code",
   "execution_count": null,
   "id": "f98fbb7a-2e5d-4972-a8d7-e7561d65f339",
   "metadata": {},
   "outputs": [],
   "source": []
  },
  {
   "cell_type": "code",
   "execution_count": null,
   "id": "f9327bd2-b4b7-46af-b79b-ade31519e7c9",
   "metadata": {},
   "outputs": [],
   "source": []
  },
  {
   "cell_type": "code",
   "execution_count": null,
   "id": "c62570c7-749e-4dda-a96a-b29208df6dca",
   "metadata": {},
   "outputs": [],
   "source": []
  },
  {
   "cell_type": "code",
   "execution_count": null,
   "id": "9acca8fd-3fc6-46a7-8def-de8dfb0f94ee",
   "metadata": {},
   "outputs": [],
   "source": []
  }
 ],
 "metadata": {
  "kernelspec": {
   "display_name": "Python 3 (ipykernel)",
   "language": "python",
   "name": "python3"
  },
  "language_info": {
   "codemirror_mode": {
    "name": "ipython",
    "version": 3
   },
   "file_extension": ".py",
   "mimetype": "text/x-python",
   "name": "python",
   "nbconvert_exporter": "python",
   "pygments_lexer": "ipython3",
   "version": "3.9.7"
  }
 },
 "nbformat": 4,
 "nbformat_minor": 5
}
