{
 "cells": [
  {
   "cell_type": "code",
   "execution_count": null,
   "metadata": {},
   "outputs": [],
   "source": [
    "import pandas as pd\n",
    "import numpy as np\n",
    "from matplotlib import pyplot as plt\n",
    "import glob\n",
    "import os\n",
    "import suspect\n",
    "import multiprocessing as mp\n",
    "plt.rcParams['figure.figsize'] = [10, 7]"
   ]
  },
  {
   "cell_type": "code",
   "execution_count": null,
   "metadata": {},
   "outputs": [],
   "source": []
  },
  {
   "cell_type": "code",
   "execution_count": null,
   "metadata": {},
   "outputs": [],
   "source": [
    "os.getcwd()"
   ]
  },
  {
   "cell_type": "code",
   "execution_count": null,
   "metadata": {},
   "outputs": [],
   "source": []
  },
  {
   "cell_type": "markdown",
   "metadata": {},
   "source": [
    "## 1. Preprocess Fullspectra"
   ]
  },
  {
   "cell_type": "code",
   "execution_count": null,
   "metadata": {},
   "outputs": [],
   "source": [
    "# Macromolecule files are the TWIX (.dat) files with ad-special"
   ]
  },
  {
   "cell_type": "code",
   "execution_count": null,
   "metadata": {},
   "outputs": [],
   "source": [
    "specs = glob.glob('/home/orco/data/MacroMols/MRS/MacroMols_7T/rawdata/sub-*/mrs/*lr-special.dat')\n",
    "#mm_dats = sorted(mm_dats, key=lambda x: x.split('.')[1].split('_')[-2])\n",
    "specs"
   ]
  },
  {
   "cell_type": "code",
   "execution_count": null,
   "metadata": {},
   "outputs": [],
   "source": [
    "#specs = [specs[-4]]\n",
    "#specs"
   ]
  },
  {
   "cell_type": "code",
   "execution_count": null,
   "metadata": {},
   "outputs": [],
   "source": [
    "water = [i.replace('lr-special.dat','lr-special_water_woOVS.dat') for i in specs]"
   ]
  },
  {
   "cell_type": "code",
   "execution_count": null,
   "metadata": {},
   "outputs": [],
   "source": [
    "water"
   ]
  },
  {
   "cell_type": "markdown",
   "metadata": {},
   "source": [
    "## 1.1 Average every two Averages\n",
    "\n",
    "\n",
    "\n",
    "    Near, Jamie & Harris, Ashley & Juchem, Christoph & Kreis, Roland & Marjańska, Małgorzata & Öz, Gülin & Slotboom, Johannes & Wilson, Martin & Gasparovic, Charles. (2020). Preprocessing, analysis and quantification in single-voxel magnetic resonance spectroscopy: experts' consensus recommendations. NMR in Biomedicine. e4257. 10.1002/nbm.4257.\n"
   ]
  },
  {
   "cell_type": "code",
   "execution_count": null,
   "metadata": {},
   "outputs": [],
   "source": [
    "%%time\n",
    "specs_data = [suspect.io.load_twix(i) for i in specs]\n"
   ]
  },
  {
   "cell_type": "code",
   "execution_count": null,
   "metadata": {},
   "outputs": [],
   "source": [
    "waters = [suspect.io.load_twix(i) for i in water]"
   ]
  },
  {
   "cell_type": "code",
   "execution_count": null,
   "metadata": {},
   "outputs": [],
   "source": [
    "plt.plot(specs_data[0][0,0].frequency_axis_ppm(), specs_data[0][0,0].spectrum().real)\n",
    "plt.plot(specs_data[0][1,0].frequency_axis_ppm(), specs_data[0][1,0].spectrum().real)\n",
    "plt.xlim([5,0])"
   ]
  },
  {
   "cell_type": "markdown",
   "metadata": {},
   "source": [
    "## 2. Average every odd with every even acquisition"
   ]
  },
  {
   "cell_type": "code",
   "execution_count": null,
   "metadata": {},
   "outputs": [],
   "source": [
    "def mean_everytwo(mm1):\n",
    "    mm1_everytwo = []\n",
    "    for i in range(0,mm1.shape[0]-1,2):\n",
    "        mm1_everytwo.append((mm1[i]+mm1[i+1])/2)\n",
    "    return mm1.inherit(np.array(mm1_everytwo))\n"
   ]
  },
  {
   "cell_type": "code",
   "execution_count": null,
   "metadata": {},
   "outputs": [],
   "source": [
    "specs_data[0].shape"
   ]
  },
  {
   "cell_type": "code",
   "execution_count": null,
   "metadata": {},
   "outputs": [],
   "source": [
    "def _avg_everytwo(arr):\n",
    "    return 0.5*(arr[0::2,:, :] + arr[1::2,:, :])"
   ]
  },
  {
   "cell_type": "code",
   "execution_count": null,
   "metadata": {},
   "outputs": [],
   "source": [
    "%%time\n",
    "#avg_everytwo_data = [mean_everytwo(i) for i in mms]\n",
    "#avg_everytwo_water = [mean_everytwo(i) for i in waters]"
   ]
  },
  {
   "cell_type": "code",
   "execution_count": null,
   "metadata": {},
   "outputs": [],
   "source": [
    "%%time\n",
    "avg_everytwo_data = [_avg_everytwo(i) for i in specs_data]\n",
    "avg_everytwo_water = [_avg_everytwo(i) for i in waters]"
   ]
  },
  {
   "cell_type": "code",
   "execution_count": null,
   "metadata": {},
   "outputs": [],
   "source": [
    "avg_everytwo_data[0].shape"
   ]
  },
  {
   "cell_type": "code",
   "execution_count": null,
   "metadata": {},
   "outputs": [],
   "source": [
    "del(specs_data)\n",
    "del(waters)"
   ]
  },
  {
   "cell_type": "code",
   "execution_count": null,
   "metadata": {},
   "outputs": [],
   "source": [
    "#[i.shape for i in avg_everytwo]"
   ]
  },
  {
   "cell_type": "markdown",
   "metadata": {},
   "source": [
    "## 1.2 Coil combination"
   ]
  },
  {
   "cell_type": "code",
   "execution_count": null,
   "metadata": {},
   "outputs": [],
   "source": [
    "def coil_combine(mrs):\n",
    "    coil_combined = []\n",
    "    for i in range(mrs.shape[0]):\n",
    "        weights = suspect.processing.channel_combination.svd_weighting(mrs[i,:,:])\n",
    "        coil_combined.append(suspect.processing.channel_combination.combine_channels(mrs[i,:,:],weights))\n",
    "    return mrs.inherit(np.array(coil_combined))"
   ]
  },
  {
   "cell_type": "code",
   "execution_count": null,
   "metadata": {},
   "outputs": [],
   "source": [
    "#Rodgers, C. T., & Robson, M. D. (2010). Receive array magnetic resonance spectroscopy: Whitened singular value decomposition (WSVD) gives optimal Bayesian solution. Magnetic Resonance in Medicine, 63(4), 881–891\n",
    "def coil_combine(data, wref, noise_points=None):\n",
    "    if not noise_points:\n",
    "        noise_points = int(data.shape[-1]/8)\n",
    "    noise = data[:,:,-noise_points:]\n",
    "    noise = np.moveaxis(noise, -2, 0).reshape((32, -1))\n",
    "    white_data = suspect.processing.channel_combination.whiten(data, noise)\n",
    "    white_wref = suspect.processing.channel_combination.whiten(wref, noise)\n",
    "    noise = white_data[:, :, -noise_points:]\n",
    "    channel_weights = suspect.processing.channel_combination.svd_weighting(np.mean(white_wref, axis=0))\n",
    "    cc_data = suspect.processing.channel_combination.combine_channels(white_data, channel_weights)\n",
    "    cc_wref = suspect.processing.channel_combination.combine_channels(white_wref, channel_weights)\n",
    "    return cc_data, cc_wref"
   ]
  },
  {
   "cell_type": "code",
   "execution_count": null,
   "metadata": {},
   "outputs": [],
   "source": [
    "%%time\n",
    "cc_data = list()\n",
    "cc_wref = list()\n",
    "for n in range(len(avg_everytwo_data)):\n",
    "    d,w = coil_combine(avg_everytwo_data[n],avg_everytwo_water[n])\n",
    "    cc_data.append(d)\n",
    "    cc_wref.append(w)"
   ]
  },
  {
   "cell_type": "code",
   "execution_count": null,
   "metadata": {},
   "outputs": [],
   "source": [
    "cc_data[0].shape"
   ]
  },
  {
   "cell_type": "code",
   "execution_count": null,
   "metadata": {},
   "outputs": [],
   "source": [
    "#cc_data = [coil_combine(i) for i in avg_everytwo]"
   ]
  },
  {
   "cell_type": "code",
   "execution_count": null,
   "metadata": {},
   "outputs": [],
   "source": [
    "spectra = cc_data[9].spectrum()\n",
    "frequency_slice = spectra.slice_ppm(4.2, 0)\n",
    "plt.imshow(spectra[:, frequency_slice].T.real, extent=[0, 32, 0, 4.2], aspect='auto')"
   ]
  },
  {
   "cell_type": "code",
   "execution_count": null,
   "metadata": {},
   "outputs": [],
   "source": [
    "type(cc_data[0])"
   ]
  },
  {
   "cell_type": "markdown",
   "metadata": {},
   "source": [
    "## 1.3 Frequency correction"
   ]
  },
  {
   "cell_type": "code",
   "execution_count": null,
   "metadata": {},
   "outputs": [],
   "source": [
    "first = cc_wref[0][1]\n",
    "plt.plot(first.frequency_axis_ppm(), first.spectrum().real)\n",
    "plt.xlim([5,0])\n",
    "plt.axvline(4.7)"
   ]
  },
  {
   "cell_type": "code",
   "execution_count": null,
   "metadata": {},
   "outputs": [],
   "source": [
    "corr = suspect.processing.frequency_correction.residual_water_alignment(first)\n",
    "first = first.adjust_frequency(-corr)\n",
    "corr"
   ]
  },
  {
   "cell_type": "code",
   "execution_count": null,
   "metadata": {},
   "outputs": [],
   "source": [
    "plt.plot(first.frequency_axis_ppm(), first.adjust_frequency(corr).spectrum().real)\n",
    "plt.plot(first.frequency_axis_ppm(), first.adjust_frequency(0).spectrum().real)\n",
    "plt.xlim([5,4])\n",
    "plt.axvline(4.7)"
   ]
  },
  {
   "cell_type": "code",
   "execution_count": null,
   "metadata": {},
   "outputs": [],
   "source": [
    "w_freq_corr  = [suspect.processing.frequency_correction.correct_frequency_and_phase(i,first) for i in cc_wref]"
   ]
  },
  {
   "cell_type": "code",
   "execution_count": null,
   "metadata": {},
   "outputs": [],
   "source": [
    "first = cc_data[9][7]\n",
    "plt.plot(first.frequency_axis_ppm(), first.adjust_phase(-0,).adjust_frequency(7).spectrum().real)\n",
    "plt.xlim([7,0])\n",
    "plt.axvline(1.99)\n",
    "plt.axvline(4.7)\n",
    "plt.axvline(3.027)\n",
    "plt.axvline(0.94)\n",
    "plt.axhline(0)"
   ]
  },
  {
   "cell_type": "code",
   "execution_count": null,
   "metadata": {},
   "outputs": [],
   "source": [
    "#first = first.adjust_phase(-3.5,)"
   ]
  },
  {
   "cell_type": "code",
   "execution_count": null,
   "metadata": {},
   "outputs": [],
   "source": [
    "first = first.adjust_frequency(7)"
   ]
  },
  {
   "cell_type": "code",
   "execution_count": null,
   "metadata": {},
   "outputs": [],
   "source": [
    "plt.plot(first.frequency_axis_ppm(), first.adjust_frequency(-12).spectrum().real)\n",
    "plt.plot(first.frequency_axis_ppm(), first.adjust_frequency(0).spectrum().real)\n",
    "plt.xlim([4,2])\n",
    "plt.axvline(3.03)"
   ]
  },
  {
   "cell_type": "code",
   "execution_count": null,
   "metadata": {},
   "outputs": [],
   "source": [
    "plt.plot(first.frequency_axis_ppm(), first.adjust_frequency(-12).spectrum().real)\n",
    "plt.plot(first.frequency_axis_ppm(), first.adjust_frequency(0).spectrum().real)\n",
    "plt.xlim([3,1])\n",
    "plt.axvline(2.08)"
   ]
  },
  {
   "cell_type": "code",
   "execution_count": null,
   "metadata": {},
   "outputs": [],
   "source": [
    "plt.plot(first.frequency_axis_ppm(), first.adjust_frequency(6).spectrum().real)\n",
    "plt.plot(first.frequency_axis_ppm(), first.adjust_frequency(0).spectrum().real)\n",
    "plt.xlim([5,4])\n",
    "plt.axvline(4.7)"
   ]
  },
  {
   "cell_type": "markdown",
   "metadata": {},
   "source": [
    "## 1.4 Frequency and Phase correction"
   ]
  },
  {
   "cell_type": "code",
   "execution_count": null,
   "metadata": {},
   "outputs": [],
   "source": [
    "freq_corr2 = [suspect.processing.frequency_correction.correct_frequency_and_phase(i,i[0]) for i in cc_data]"
   ]
  },
  {
   "cell_type": "code",
   "execution_count": null,
   "metadata": {},
   "outputs": [],
   "source": [
    "sr_spectra = freq_corr2[2].spectrum()\n",
    "frequency_slice = sr_spectra.slice_ppm(4.2, 0)\n",
    "plt.imshow(sr_spectra[:, frequency_slice].T.real, extent=[0, 32, 0, 4.2], aspect='auto')"
   ]
  },
  {
   "cell_type": "code",
   "execution_count": null,
   "metadata": {},
   "outputs": [],
   "source": [
    "2%4"
   ]
  },
  {
   "cell_type": "code",
   "execution_count": null,
   "metadata": {},
   "outputs": [],
   "source": [
    "figure, axis = plt.subplots(3,5)\n",
    "for n,i in enumerate(freq_corr2):\n",
    "    \n",
    "    spectra = i.spectrum()\n",
    "    frequency_slice = sr_spectra.slice_ppm(4.2, 0)\n",
    "    axis[int(n/5),n%5].imshow(spectra[:, frequency_slice].T.real, extent=[0, 32, 0, 4.2], aspect='auto')\n",
    "    axis[int(n/5),n%5].set_title(specs[n].split('/')[-1][4:22].replace('nuc-1H', ''))\n",
    "figure.supxlabel('Average')\n",
    "figure.supylabel('Chemical shift (ppm)')"
   ]
  },
  {
   "cell_type": "code",
   "execution_count": null,
   "metadata": {},
   "outputs": [],
   "source": [
    "def freq_corr_all(mrs, ref, method='sr'):\n",
    "    freq_corr = []\n",
    "    for i in range(mrs.shape[0]):\n",
    "        corr = suspect.processing.frequency_correction.spectral_registration(first, mrs[i,:], method=method)\n",
    "        freq_corr.append(mrs[i,:].adjust_frequency(corr[0]))\n",
    "    return mrs.inherit(np.array(freq_corr))\n"
   ]
  },
  {
   "cell_type": "markdown",
   "metadata": {},
   "source": [
    "# Average Water"
   ]
  },
  {
   "cell_type": "code",
   "execution_count": null,
   "metadata": {},
   "outputs": [],
   "source": [
    "w_avg = [np.mean(i,axis=0) for i in w_freq_corr]"
   ]
  },
  {
   "cell_type": "code",
   "execution_count": null,
   "metadata": {},
   "outputs": [],
   "source": [
    "water"
   ]
  },
  {
   "cell_type": "code",
   "execution_count": null,
   "metadata": {},
   "outputs": [],
   "source": [
    "der_path = '/home/orco/data/MacroMols/MRS/MacroMols_7T/derivatives/suspect_preprocessing'\n",
    "# Save as raw\n",
    "l = list()\n",
    "for n, i in enumerate(w_avg):\n",
    "    l = water[n].split('/')[-1].split('_')\n",
    "    filename = water[n].split('/')[-1].replace('.dat', 'avg.raw')\n",
    "    out_path = os.path.join(der_path, l[0], 'mrs')\n",
    "    os.makedirs(out_path, exist_ok=True)\n",
    "    out = os.path.join(out_path, filename)\n",
    "    print(out)\n",
    "    np.savez(out, mrsdata=i)\n",
    "    suspect.io.lcmodel.save_raw(out, i)"
   ]
  },
  {
   "cell_type": "markdown",
   "metadata": {},
   "source": [
    "## 1.5 Average"
   ]
  },
  {
   "cell_type": "code",
   "execution_count": null,
   "metadata": {},
   "outputs": [],
   "source": [
    "%%time\n",
    "averaged = [np.mean(i,axis=0) for i in freq_corr2]"
   ]
  },
  {
   "cell_type": "code",
   "execution_count": null,
   "metadata": {},
   "outputs": [],
   "source": [
    "[i.shape for i in averaged]"
   ]
  },
  {
   "cell_type": "code",
   "execution_count": null,
   "metadata": {},
   "outputs": [],
   "source": [
    "# ECC"
   ]
  },
  {
   "cell_type": "code",
   "execution_count": null,
   "metadata": {},
   "outputs": [],
   "source": [
    "def eddy_correct(spec, water):\n",
    "    eddy_current = np.unwrap(np.angle(water))\n",
    "    ec_smooth = suspect.processing.denoising.sliding_gaussian(eddy_current, 32)\n",
    "    ecc = np.exp(-1j * ec_smooth)\n",
    "    ecc_data = spec * ecc\n",
    "    return ecc_data"
   ]
  },
  {
   "cell_type": "code",
   "execution_count": null,
   "metadata": {},
   "outputs": [],
   "source": [
    "avg_ecc = list()\n",
    "for n in range(len(averaged)):\n",
    "    eddy_current = np.unwrap(np.angle(w_avg[n]))\n",
    "    ec_smooth = suspect.processing.denoising.sliding_gaussian(eddy_current, 32)\n",
    "    ecc = np.exp(-1j * ec_smooth)\n",
    "    ec_data = averaged[n] * ecc\n",
    "    avg_ecc.append(ec_data)"
   ]
  },
  {
   "cell_type": "code",
   "execution_count": null,
   "metadata": {},
   "outputs": [],
   "source": [
    "for n,i in enumerate(averaged):\n",
    "    plt.plot(i.frequency_axis_ppm(), i.spectrum().real, label=n)\n",
    "plt.xlim([5,0])\n",
    "#plt.ylim([-2e-4,5e-4])\n",
    "plt.axvline(4.7)\n",
    "plt.legend()"
   ]
  },
  {
   "cell_type": "code",
   "execution_count": null,
   "metadata": {},
   "outputs": [],
   "source": [
    "avg_ecc = [i.adjust_frequency(17) for i in avg_ecc]"
   ]
  },
  {
   "cell_type": "code",
   "execution_count": null,
   "metadata": {},
   "outputs": [],
   "source": [
    "for n,i in enumerate(avg_ecc[:]):\n",
    "    plt.plot(i.frequency_axis_ppm(), i.spectrum().real, label=n)\n",
    "plt.xlim([5,0])\n",
    "#plt.ylim([-2e-4,5e-4])\n",
    "plt.axvline(1.99)\n",
    "plt.legend()\n",
    "plt.axhline(0)"
   ]
  },
  {
   "cell_type": "code",
   "execution_count": null,
   "metadata": {},
   "outputs": [],
   "source": [
    "for n,i in enumerate(avg_ecc[:]):\n",
    "    plt.plot(i.frequency_axis_ppm(), i.spectrum().real, label=n)\n",
    "plt.xlim([9,0])\n",
    "#plt.ylim([-2e-4,5e-4])\n",
    "plt.axvline(1.99)\n",
    "plt.legend()\n",
    "plt.axhline(0)"
   ]
  },
  {
   "cell_type": "markdown",
   "metadata": {},
   "source": [
    "# Frequency adjustment"
   ]
  },
  {
   "cell_type": "code",
   "execution_count": null,
   "metadata": {},
   "outputs": [],
   "source": [
    "first = avg_ecc[2]"
   ]
  },
  {
   "cell_type": "code",
   "execution_count": null,
   "metadata": {},
   "outputs": [],
   "source": []
  },
  {
   "cell_type": "code",
   "execution_count": null,
   "metadata": {},
   "outputs": [],
   "source": [
    "plt.plot(first.frequency_axis_ppm(), first.adjust_phase(0).adjust_frequency(-8).spectrum().real)\n",
    "plt.plot(first.frequency_axis_ppm(), first.adjust_phase(0).adjust_frequency(0).spectrum().real)\n",
    "plt.xlim([4.2,0])\n",
    "#plt.ylim([-100,500])\n",
    "plt.axvline(1.99)\n",
    "plt.axvline(4.7)\n",
    "plt.axvline(3.027)\n",
    "plt.axvline(0.94)\n",
    "plt.axhline(0)"
   ]
  },
  {
   "cell_type": "code",
   "execution_count": null,
   "metadata": {},
   "outputs": [],
   "source": [
    "first= first.adjust_phase(0).adjust_frequency(-8)"
   ]
  },
  {
   "cell_type": "code",
   "execution_count": null,
   "metadata": {},
   "outputs": [],
   "source": [
    "arr_ecc = np.array(avg_ecc)\n",
    "print(arr_ecc.shape)\n",
    "arr_ecc = avg_ecc[0].inherit(arr_ecc)"
   ]
  },
  {
   "cell_type": "code",
   "execution_count": null,
   "metadata": {},
   "outputs": [],
   "source": [
    "sr_spectra = arr_ecc.spectrum()\n",
    "frequency_slice = sr_spectra.slice_ppm(4.2, 0)\n",
    "plt.imshow(sr_spectra[:, frequency_slice].T.real, extent=[0, 13, 0, 4.2], aspect='auto')"
   ]
  },
  {
   "cell_type": "code",
   "execution_count": null,
   "metadata": {},
   "outputs": [],
   "source": [
    "def freq_corr_all(mrs, ref, method='sr'):\n",
    "    freq_corr = []\n",
    "    for i in range(mrs.shape[0]):\n",
    "        corr = suspect.processing.frequency_correction.spectral_registration(first, mrs[i,:], method=method)\n",
    "        freq_corr.append(mrs[i,:].adjust_frequency(corr[0]))\n",
    "    return mrs.inherit(np.array(freq_corr))"
   ]
  },
  {
   "cell_type": "code",
   "execution_count": null,
   "metadata": {},
   "outputs": [],
   "source": [
    "avg_ecc_c = list()\n",
    "for i in avg_ecc:\n",
    "    corr = suspect.processing.frequency_correction.spectral_registration(first, i)\n",
    "    avg_ecc_c.append(i.adjust_frequency(corr[0]))"
   ]
  },
  {
   "cell_type": "code",
   "execution_count": null,
   "metadata": {},
   "outputs": [],
   "source": [
    "arr_ecc = np.array(avg_ecc_c)\n",
    "print(arr_ecc.shape)\n",
    "arr_ecc = avg_ecc_c[0].inherit(arr_ecc)\n",
    "sr_spectra = arr_ecc.spectrum()\n",
    "frequency_slice = sr_spectra.slice_ppm(4.2, 0)\n",
    "plt.imshow(sr_spectra[:, frequency_slice].T.real, extent=[0, 13, 0, 4.2], aspect='auto')"
   ]
  },
  {
   "cell_type": "code",
   "execution_count": null,
   "metadata": {},
   "outputs": [],
   "source": [
    "specs"
   ]
  },
  {
   "cell_type": "code",
   "execution_count": null,
   "metadata": {},
   "outputs": [],
   "source": [
    "for i in avg_ecc_c[:]:\n",
    "    plt.plot(i.frequency_axis_ppm(), i.adjust_phase(0).spectrum().real)\n",
    "\n",
    "plt.xlim([7,0])\n",
    "#plt.ylim([-100,500])\n",
    "plt.axvline(4.7)"
   ]
  },
  {
   "cell_type": "code",
   "execution_count": null,
   "metadata": {},
   "outputs": [],
   "source": [
    "#mm_dats.pop(0)"
   ]
  },
  {
   "cell_type": "code",
   "execution_count": null,
   "metadata": {},
   "outputs": [],
   "source": [
    "der_path = '/home/orco/data/MacroMols/MRS/MacroMols_7T/derivatives/LC_Model'"
   ]
  },
  {
   "cell_type": "code",
   "execution_count": null,
   "metadata": {},
   "outputs": [],
   "source": [
    "i = specs[0].split('/')[-1]"
   ]
  },
  {
   "cell_type": "code",
   "execution_count": null,
   "metadata": {},
   "outputs": [],
   "source": [
    "i.split('_')"
   ]
  },
  {
   "cell_type": "code",
   "execution_count": null,
   "metadata": {},
   "outputs": [],
   "source": [
    "os.makedirs"
   ]
  },
  {
   "cell_type": "code",
   "execution_count": null,
   "metadata": {},
   "outputs": [],
   "source": [
    "suspect.io.lcmodel.save_raw"
   ]
  },
  {
   "cell_type": "code",
   "execution_count": null,
   "metadata": {
    "tags": []
   },
   "outputs": [],
   "source": [
    "# Save as npz\n",
    "l = list()\n",
    "for n, i in enumerate(avg_ecc_c):\n",
    "    l = specs[n].split('/')[-1].split('_')\n",
    "    filename = specs[n].split('/')[-1].replace('.dat', 'avg_ecc.raw')\n",
    "    out_path = os.path.join(der_path, l[0], 'mrs')\n",
    "    os.makedirs(out_path, exist_ok=True)\n",
    "    out = os.path.join(out_path, filename)\n",
    "    print(out)\n",
    "    np.savez(out, mrsdata=i)\n",
    "    suspect.io.lcmodel.save_raw(out, i)"
   ]
  },
  {
   "cell_type": "code",
   "execution_count": null,
   "metadata": {},
   "outputs": [],
   "source": []
  },
  {
   "cell_type": "code",
   "execution_count": null,
   "metadata": {},
   "outputs": [],
   "source": [
    "der_path = '/home/orco/data/MacroMols/MRS/MacroMols_7T/derivatives/suspect_preprocessing'\n",
    "# Save as raw\n",
    "l = list()\n",
    "for n, i in enumerate(averaged):\n",
    "    l = specs[n].split('/')[-1].split('_')\n",
    "    filename = specs[n].split('/')[-1].replace('.dat', 'avg.raw')\n",
    "    out_path = os.path.join(der_path, l[0], 'mrs')\n",
    "    os.makedirs(out_path, exist_ok=True)\n",
    "    out = os.path.join(out_path, filename)\n",
    "    print(out)\n",
    "    np.savez(out, mrsdata=i)\n",
    "    suspect.io.lcmodel.save_raw(out, i)"
   ]
  },
  {
   "cell_type": "code",
   "execution_count": null,
   "metadata": {},
   "outputs": [],
   "source": []
  },
  {
   "cell_type": "code",
   "execution_count": null,
   "metadata": {},
   "outputs": [],
   "source": []
  },
  {
   "cell_type": "code",
   "execution_count": null,
   "metadata": {},
   "outputs": [],
   "source": []
  },
  {
   "cell_type": "code",
   "execution_count": null,
   "metadata": {},
   "outputs": [],
   "source": []
  },
  {
   "cell_type": "code",
   "execution_count": null,
   "metadata": {},
   "outputs": [],
   "source": [
    "# HLSVD"
   ]
  },
  {
   "cell_type": "code",
   "execution_count": null,
   "metadata": {},
   "outputs": [],
   "source": [
    "water_list = list()\n",
    "dry_list = list()\n",
    "for spec in avg_ecc_c:\n",
    "    components = suspect.processing.water_suppression.hsvd(spec, 30)\n",
    "    water_components = [component for component in components if component[\"frequency\"] < 45]\n",
    "    water_fid = spec.inherit(suspect.processing.water_suppression.construct_fid(water_components, spec.time_axis()))\n",
    "    dry_fid = spec - water_fid\n",
    "    water_list.append(water_fid)\n",
    "    dry_list.append(dry_fid)"
   ]
  },
  {
   "cell_type": "code",
   "execution_count": null,
   "metadata": {},
   "outputs": [],
   "source": [
    "for i in water_list:\n",
    "    plt.plot(i.frequency_axis_ppm(), \n",
    "             i.spectrum().real)\n",
    "    plt.xlim([5,0])\n",
    "    #plt.ylim([-2e-4,5e-4])\n",
    "    #plt.axvline(4.7)"
   ]
  },
  {
   "cell_type": "code",
   "execution_count": null,
   "metadata": {},
   "outputs": [],
   "source": [
    "i=0\n",
    "plt.plot(dry_list[0].frequency_axis_ppm(), dry_list[i].adjust_phase(0,0).spectrum().real)\n",
    "plt.plot(dry_list[0].frequency_axis_ppm(), avg_ecc_c[i].adjust_phase(0,0).spectrum().real)\n",
    "plt.xlim([9,0])\n",
    "#plt.ylim([-2e-4,5e-4])\n",
    "plt.axvline(4.7)"
   ]
  },
  {
   "cell_type": "code",
   "execution_count": null,
   "metadata": {},
   "outputs": [],
   "source": [
    "# Save as npz\n",
    "l = list()\n",
    "for n, i in enumerate(dry_list):\n",
    "    l = specs[n].split('/')[-1].split('_')\n",
    "    filename = specs[n].split('/')[-1].replace('.dat', 'avg_ecc_hlsvd.raw')\n",
    "    out_path = os.path.join(der_path, l[0], 'mrs')\n",
    "    os.makedirs(out_path, exist_ok=True)\n",
    "    out = os.path.join(out_path, filename)\n",
    "    print(out)\n",
    "    np.savez(out, mrsdata=i)\n",
    "    suspect.io.lcmodel.save_raw(out, i)"
   ]
  },
  {
   "cell_type": "code",
   "execution_count": null,
   "metadata": {},
   "outputs": [],
   "source": [
    "plt.plot(dry_pcc_avg.frequency_axis_ppm(), dry_pcc_avg.spectrum().real)\n",
    "plt.xlim([5,0])\n",
    "#plt.ylim([-2e-4,5e-4])\n",
    "plt.axvline(4.7)"
   ]
  },
  {
   "cell_type": "code",
   "execution_count": null,
   "metadata": {},
   "outputs": [],
   "source": [
    "dry_pcc_avg = np.array(dry_list).mean(axis=0)\n",
    "dry_pcc_avg = dry_list[0].inherit(dry_pcc_avg)\n",
    "out_file = '/home/orco/data/MacroMols/MRS/MacroMols_7T/derivatives/LCModel_averaged/MM_avg_pcc_dry.raw'\n",
    "suspect.io.lcmodel.save_raw(out_file,dry_pcc_avg)"
   ]
  },
  {
   "cell_type": "code",
   "execution_count": null,
   "metadata": {},
   "outputs": [],
   "source": [
    "plt.plot(averaged[0].frequency_axis_ppm(), averaged[3].adjust_phase(3,1.5e-3).spectrum().real)\n",
    "plt.xlim([5,0])\n",
    "plt.ylim([-2e-4,5e-4])\n",
    "plt.axvline(4.7)"
   ]
  },
  {
   "cell_type": "code",
   "execution_count": null,
   "metadata": {},
   "outputs": [],
   "source": []
  }
 ],
 "metadata": {
  "kernelspec": {
   "display_name": "Python 3 (ipykernel)",
   "language": "python",
   "name": "python3"
  },
  "language_info": {
   "codemirror_mode": {
    "name": "ipython",
    "version": 3
   },
   "file_extension": ".py",
   "mimetype": "text/x-python",
   "name": "python",
   "nbconvert_exporter": "python",
   "pygments_lexer": "ipython3",
   "version": "3.9.15"
  }
 },
 "nbformat": 4,
 "nbformat_minor": 4
}
