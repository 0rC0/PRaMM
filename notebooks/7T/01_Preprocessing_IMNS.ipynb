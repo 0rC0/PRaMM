{
 "cells": [
  {
   "cell_type": "code",
   "execution_count": null,
   "metadata": {},
   "outputs": [],
   "source": [
    "import pandas as pd\n",
    "import numpy as np\n",
    "from matplotlib import pyplot as plt\n",
    "import glob\n",
    "import os\n",
    "import suspect\n",
    "import multiprocessing as mp\n",
    "plt.rcParams['figure.figsize'] = [10, 7]"
   ]
  },
  {
   "cell_type": "code",
   "execution_count": null,
   "metadata": {},
   "outputs": [],
   "source": []
  },
  {
   "cell_type": "code",
   "execution_count": null,
   "metadata": {},
   "outputs": [],
   "source": [
    "os.getcwd()"
   ]
  },
  {
   "cell_type": "code",
   "execution_count": null,
   "metadata": {},
   "outputs": [],
   "source": []
  },
  {
   "cell_type": "markdown",
   "metadata": {},
   "source": [
    "## 1. Preprocess Subtracted"
   ]
  },
  {
   "cell_type": "code",
   "execution_count": null,
   "metadata": {},
   "outputs": [],
   "source": [
    "# Macromolecule files are the TWIX (.dat) files with ad-special"
   ]
  },
  {
   "cell_type": "code",
   "execution_count": null,
   "metadata": {},
   "outputs": [],
   "source": [
    "mm_dats = glob.glob('/home/orco/data/MacroMols/MRS/MacroMols_7T/rawdata/sub-*/mrs/*ad-special*.dat')\n",
    "#mm_dats = sorted(mm_dats, key=lambda x: x.split('.')[1].split('_')[-2])\n",
    "mm_dats"
   ]
  },
  {
   "cell_type": "code",
   "execution_count": null,
   "metadata": {},
   "outputs": [],
   "source": [
    "specs = [i.replace('spec-ad-special_TI1-800_TI2-42.dat', 'spec-lr-special.dat') for i in mm_dats]\n"
   ]
  },
  {
   "cell_type": "code",
   "execution_count": null,
   "metadata": {},
   "outputs": [],
   "source": [
    "specs.pop(-5)\n",
    "specs.pop(-5)\n",
    "specs += ['/home/orco/data/MacroMols/MRS/MacroMols_7T/rawdata/sub-701/mrs/sub-701_nuc-1H_loc-pcc_spec-lr-special.dat']"
   ]
  },
  {
   "cell_type": "code",
   "execution_count": null,
   "metadata": {},
   "outputs": [],
   "source": [
    "specs"
   ]
  },
  {
   "cell_type": "code",
   "execution_count": null,
   "metadata": {},
   "outputs": [],
   "source": [
    "mm_dats"
   ]
  },
  {
   "cell_type": "code",
   "execution_count": null,
   "metadata": {},
   "outputs": [],
   "source": [
    "[os.path.isfile(i) for i in specs] == [True]*len(specs)"
   ]
  },
  {
   "cell_type": "code",
   "execution_count": null,
   "metadata": {},
   "outputs": [],
   "source": [
    "# take the 701 and average it\n",
    "s1 = list()\n",
    "s1.append(mm_dats.pop(-5))\n",
    "s1.append(mm_dats.pop(-5))"
   ]
  },
  {
   "cell_type": "code",
   "execution_count": null,
   "metadata": {},
   "outputs": [],
   "source": [
    "s1"
   ]
  },
  {
   "cell_type": "code",
   "execution_count": null,
   "metadata": {},
   "outputs": [],
   "source": [
    "s11 = [suspect.io.load_twix(i) for i in s1]"
   ]
  },
  {
   "cell_type": "code",
   "execution_count": null,
   "metadata": {},
   "outputs": [],
   "source": [
    "len(s11)"
   ]
  },
  {
   "cell_type": "code",
   "execution_count": null,
   "metadata": {},
   "outputs": [],
   "source": [
    "s111 = np.append(s11[0], s11[1], axis=0)"
   ]
  },
  {
   "cell_type": "code",
   "execution_count": null,
   "metadata": {},
   "outputs": [],
   "source": [
    "s111.shape"
   ]
  },
  {
   "cell_type": "code",
   "execution_count": null,
   "metadata": {},
   "outputs": [],
   "source": [
    "s111 = s11[0].inherit(s111)"
   ]
  },
  {
   "cell_type": "code",
   "execution_count": null,
   "metadata": {},
   "outputs": [],
   "source": [
    "mm_dats += ['/home/orco/data/MacroMols/MRS/MacroMols_7T/rawdata/sub-701/mrs/sub-701_nuc-1H_loc-pcc_spec-ad-special_TI1-800_TI2-42.dat']"
   ]
  },
  {
   "cell_type": "code",
   "execution_count": null,
   "metadata": {},
   "outputs": [],
   "source": [
    "water = [i.replace('ad-special_TI1-800_TI2-42.dat','lr-special_water_wOVS.dat') for i in mm_dats]"
   ]
  },
  {
   "cell_type": "code",
   "execution_count": null,
   "metadata": {},
   "outputs": [],
   "source": [
    "len(specs) == len(water) == len(mm_dats)"
   ]
  },
  {
   "cell_type": "code",
   "execution_count": null,
   "metadata": {},
   "outputs": [],
   "source": []
  },
  {
   "cell_type": "code",
   "execution_count": null,
   "metadata": {},
   "outputs": [],
   "source": [
    "mm_dats"
   ]
  },
  {
   "cell_type": "markdown",
   "metadata": {},
   "source": [
    "## 1.1 Average every two Averages\n",
    "\n",
    "\n",
    "\n",
    "    Near, Jamie & Harris, Ashley & Juchem, Christoph & Kreis, Roland & Marjańska, Małgorzata & Öz, Gülin & Slotboom, Johannes & Wilson, Martin & Gasparovic, Charles. (2020). Preprocessing, analysis and quantification in single-voxel magnetic resonance spectroscopy: experts' consensus recommendations. NMR in Biomedicine. e4257. 10.1002/nbm.4257.\n"
   ]
  },
  {
   "cell_type": "code",
   "execution_count": null,
   "metadata": {
    "tags": []
   },
   "outputs": [],
   "source": [
    "%%time\n",
    "mms = [suspect.io.load_twix(i) for i in mm_dats[:-1]]\n",
    "specs_data = [suspect.io.load_twix(i) for i in specs]"
   ]
  },
  {
   "cell_type": "code",
   "execution_count": null,
   "metadata": {},
   "outputs": [],
   "source": [
    "mms += [s111]"
   ]
  },
  {
   "cell_type": "code",
   "execution_count": null,
   "metadata": {},
   "outputs": [],
   "source": [
    "len(mms)"
   ]
  },
  {
   "cell_type": "code",
   "execution_count": null,
   "metadata": {},
   "outputs": [],
   "source": [
    "#[i.shape for i in mms]"
   ]
  },
  {
   "cell_type": "code",
   "execution_count": null,
   "metadata": {},
   "outputs": [],
   "source": [
    "waters = [suspect.io.load_twix(i) for i in water]"
   ]
  },
  {
   "cell_type": "code",
   "execution_count": null,
   "metadata": {},
   "outputs": [],
   "source": [
    "len(waters) == len(mms) == len(specs_data)"
   ]
  },
  {
   "cell_type": "code",
   "execution_count": null,
   "metadata": {},
   "outputs": [],
   "source": [
    "plt.plot(specs_data[0][0,0].frequency_axis_ppm(), specs_data[0][4,0].spectrum().real)\n",
    "plt.plot(specs_data[0][1,0].frequency_axis_ppm(), specs_data[0][5,0].spectrum().real)\n",
    "plt.xlim([5,0])\n",
    "plt.axvline(1.5)\n",
    "plt.axvline(0.55)"
   ]
  },
  {
   "cell_type": "code",
   "execution_count": null,
   "metadata": {},
   "outputs": [],
   "source": [
    "plt.plot(mms[0][0,0].frequency_axis_ppm(), mms[0][4,0].spectrum().real)\n",
    "plt.plot(mms[0][1,0].frequency_axis_ppm(), mms[0][5,0].spectrum().real)\n",
    "plt.xlim([5,0])\n",
    "plt.axvline(1.5)\n",
    "plt.axvline(0.55)"
   ]
  },
  {
   "cell_type": "markdown",
   "metadata": {},
   "source": [
    "## 2. Average every odd with every even acquisition"
   ]
  },
  {
   "cell_type": "code",
   "execution_count": null,
   "metadata": {},
   "outputs": [],
   "source": [
    "def mean_everytwo(mm1):\n",
    "    mm1_everytwo = []\n",
    "    for i in range(0,mm1.shape[0]-1,2):\n",
    "        mm1_everytwo.append((mm1[i]+mm1[i+1])/2)\n",
    "    return mm1.inherit(np.array(mm1_everytwo))\n"
   ]
  },
  {
   "cell_type": "code",
   "execution_count": null,
   "metadata": {},
   "outputs": [],
   "source": [
    "def _avg_everytwo(arr):\n",
    "    return 0.5*(arr[0::2,:, :] + arr[1::2,:, :])"
   ]
  },
  {
   "cell_type": "code",
   "execution_count": null,
   "metadata": {},
   "outputs": [],
   "source": [
    "%%time\n",
    "#avg_everytwo_data = [mean_everytwo(i) for i in mms]\n",
    "#avg_everytwo_water = [mean_everytwo(i) for i in waters]"
   ]
  },
  {
   "cell_type": "code",
   "execution_count": null,
   "metadata": {},
   "outputs": [],
   "source": [
    "len(mms) == len(waters)"
   ]
  },
  {
   "cell_type": "code",
   "execution_count": null,
   "metadata": {},
   "outputs": [],
   "source": [
    "%%time\n",
    "avg_everytwo_data = [_avg_everytwo(i) for i in mms]\n",
    "avg_everytwo_water = [_avg_everytwo(i) for i in waters]\n",
    "avg_everytwo_specs = [_avg_everytwo(i) for i in specs_data]"
   ]
  },
  {
   "cell_type": "code",
   "execution_count": null,
   "metadata": {},
   "outputs": [],
   "source": [
    "avg_everytwo_data[0].shape"
   ]
  },
  {
   "cell_type": "code",
   "execution_count": null,
   "metadata": {},
   "outputs": [],
   "source": [
    "del(mms)\n",
    "del(waters)"
   ]
  },
  {
   "cell_type": "code",
   "execution_count": null,
   "metadata": {},
   "outputs": [],
   "source": [
    "plt.plot(avg_everytwo_specs[0][0,0].frequency_axis_ppm(), avg_everytwo_data[0][4,0].spectrum().real)\n",
    "plt.plot(avg_everytwo_specs[0][1,0].frequency_axis_ppm(), avg_everytwo_data[0][5,0].spectrum().real)\n",
    "plt.xlim([5,0])\n",
    "plt.axvline(1.5)\n",
    "plt.axvline(0.55)"
   ]
  },
  {
   "cell_type": "code",
   "execution_count": null,
   "metadata": {},
   "outputs": [],
   "source": [
    "#[i.shape for i in avg_everytwo]"
   ]
  },
  {
   "cell_type": "markdown",
   "metadata": {},
   "source": [
    "## 1.2 Coil combination"
   ]
  },
  {
   "cell_type": "code",
   "execution_count": null,
   "metadata": {},
   "outputs": [],
   "source": [
    "def coil_combine(mrs):\n",
    "    coil_combined = []\n",
    "    for i in range(mrs.shape[0]):\n",
    "        weights = suspect.processing.channel_combination.svd_weighting(mrs[i,:,:])\n",
    "        coil_combined.append(suspect.processing.channel_combination.combine_channels(mrs[i,:,:],weights))\n",
    "    return mrs.inherit(np.array(coil_combined))"
   ]
  },
  {
   "cell_type": "code",
   "execution_count": null,
   "metadata": {},
   "outputs": [],
   "source": [
    "#Rodgers, C. T., & Robson, M. D. (2010). Receive array magnetic resonance spectroscopy: Whitened singular value decomposition (WSVD) gives optimal Bayesian solution. Magnetic Resonance in Medicine, 63(4), 881–891\n",
    "def coil_combine(data, wref, noise_points=None):\n",
    "    if not noise_points:\n",
    "        noise_points = int(data.shape[-1]/8)\n",
    "    noise = data[:,:,-noise_points:]\n",
    "    noise = np.moveaxis(noise, -2, 0).reshape((32, -1))\n",
    "    white_data = suspect.processing.channel_combination.whiten(data, noise)\n",
    "    white_wref = suspect.processing.channel_combination.whiten(wref, noise)\n",
    "    noise = white_data[:, :, -noise_points:]\n",
    "    channel_weights = suspect.processing.channel_combination.svd_weighting(np.mean(white_wref, axis=0))\n",
    "    cc_data = suspect.processing.channel_combination.combine_channels(white_data, channel_weights)\n",
    "    cc_wref = suspect.processing.channel_combination.combine_channels(white_wref, channel_weights)\n",
    "    return cc_data, cc_wref"
   ]
  },
  {
   "cell_type": "code",
   "execution_count": null,
   "metadata": {},
   "outputs": [],
   "source": [
    "len(avg_everytwo_data)"
   ]
  },
  {
   "cell_type": "code",
   "execution_count": null,
   "metadata": {},
   "outputs": [],
   "source": [
    "len(avg_everytwo_water)"
   ]
  },
  {
   "cell_type": "code",
   "execution_count": null,
   "metadata": {},
   "outputs": [],
   "source": [
    "%%time\n",
    "cc_data = list()\n",
    "cc_wref = list()\n",
    "cc_specs = list()\n",
    "for n in range(len(avg_everytwo_data)):\n",
    "    print(n)\n",
    "    d,w = coil_combine(avg_everytwo_data[n],avg_everytwo_water[n],500)\n",
    "    s,w = coil_combine(avg_everytwo_specs[n],avg_everytwo_water[n],500)\n",
    "    cc_data.append(d)\n",
    "    cc_specs.append(s)\n",
    "    cc_wref.append(w)"
   ]
  },
  {
   "cell_type": "code",
   "execution_count": null,
   "metadata": {},
   "outputs": [],
   "source": [
    "cc_data[0].shape"
   ]
  },
  {
   "cell_type": "code",
   "execution_count": null,
   "metadata": {},
   "outputs": [],
   "source": [
    "#cc_data = [coil_combine(i) for i in avg_everytwo]"
   ]
  },
  {
   "cell_type": "code",
   "execution_count": null,
   "metadata": {},
   "outputs": [],
   "source": [
    "spectra = cc_data[2].spectrum()\n",
    "frequency_slice = spectra.slice_ppm(3.5, 0)\n",
    "plt.imshow(spectra[:, frequency_slice].T.real, extent=[0, 64, 0, 3.5], aspect='auto')"
   ]
  },
  {
   "cell_type": "code",
   "execution_count": null,
   "metadata": {},
   "outputs": [],
   "source": [
    "cc_data[2][0].shape"
   ]
  },
  {
   "cell_type": "code",
   "execution_count": null,
   "metadata": {},
   "outputs": [],
   "source": [
    "for i in cc_data[2][:]:\n",
    "    plt.plot(i.frequency_axis_ppm(), i.spectrum().real)\n",
    "    plt.xlim([4.1,0])\n",
    "    plt.axvline(4.7)\n",
    "    plt.ylim([-300,800])"
   ]
  },
  {
   "cell_type": "code",
   "execution_count": null,
   "metadata": {},
   "outputs": [],
   "source": [
    "spectra = cc_specs[2].spectrum()\n",
    "frequency_slice = spectra.slice_ppm(3.5, 0)\n",
    "plt.imshow(spectra[:, frequency_slice].T.real, extent=[0, 64, 0, 3.5], aspect='auto')"
   ]
  },
  {
   "cell_type": "code",
   "execution_count": null,
   "metadata": {},
   "outputs": [],
   "source": [
    "type(cc_data[0])"
   ]
  },
  {
   "cell_type": "code",
   "execution_count": null,
   "metadata": {},
   "outputs": [],
   "source": [
    "[i.shape for i in cc_data]"
   ]
  },
  {
   "cell_type": "code",
   "execution_count": null,
   "metadata": {},
   "outputs": [],
   "source": [
    "spectra = cc_data[0].spectrum()\n",
    "frequency_slice = spectra.slice_ppm(3.5, 0)\n",
    "plt.imshow(spectra[:, frequency_slice].T.real, extent=[0, 64, 0, 3.5], aspect='auto')"
   ]
  },
  {
   "cell_type": "code",
   "execution_count": null,
   "metadata": {},
   "outputs": [],
   "source": [
    "spectra = cc_data[0].spectrum()\n",
    "frequency_slice = spectra.slice_ppm(3.5, 0)\n",
    "plt.imshow(spectra[:, frequency_slice].T.real, extent=[0, 128, 0, 3.5], aspect='auto')"
   ]
  },
  {
   "cell_type": "markdown",
   "metadata": {},
   "source": [
    "## 1.3 Frequency correction"
   ]
  },
  {
   "cell_type": "code",
   "execution_count": null,
   "metadata": {},
   "outputs": [],
   "source": [
    "first = cc_wref[1][0]\n",
    "plt.plot(first.frequency_axis_ppm(), first.spectrum().real)\n",
    "plt.xlim([5,0])\n",
    "plt.axvline(4.7)"
   ]
  },
  {
   "cell_type": "code",
   "execution_count": null,
   "metadata": {},
   "outputs": [],
   "source": [
    "corr = suspect.processing.frequency_correction.residual_water_alignment(first)"
   ]
  },
  {
   "cell_type": "code",
   "execution_count": null,
   "metadata": {},
   "outputs": [],
   "source": [
    "plt.plot(first.frequency_axis_ppm(), first.adjust_frequency(0).spectrum().real)\n",
    "plt.plot(first.frequency_axis_ppm(), first.adjust_frequency(-corr).spectrum().real)\n",
    "plt.xlim([5,4])\n",
    "plt.axvline(4.7)"
   ]
  },
  {
   "cell_type": "code",
   "execution_count": null,
   "metadata": {},
   "outputs": [],
   "source": [
    "first = first.adjust_frequency(-corr)\n",
    "corr"
   ]
  },
  {
   "cell_type": "code",
   "execution_count": null,
   "metadata": {},
   "outputs": [],
   "source": [
    "w_freq_corr  = [suspect.processing.frequency_correction.correct_frequency_and_phase(i,first) for i in cc_wref]"
   ]
  },
  {
   "cell_type": "code",
   "execution_count": null,
   "metadata": {},
   "outputs": [],
   "source": [
    "first = cc_data[6][30]\n",
    "plt.plot(first.frequency_axis_ppm(), first.adjust_phase(-3.5).adjust_frequency(15).spectrum().real)\n",
    "plt.xlim([7,0])\n",
    "plt.axvline(4.7)\n",
    "plt.axvline(2.0)\n",
    "plt.ylim([-300,800])"
   ]
  },
  {
   "cell_type": "code",
   "execution_count": null,
   "metadata": {},
   "outputs": [],
   "source": [
    "first = first.adjust_phase(-3.5).adjust_frequency(15)"
   ]
  },
  {
   "cell_type": "code",
   "execution_count": null,
   "metadata": {},
   "outputs": [],
   "source": [
    "#corr = suspect.processing.frequency_correction.residual_water_alignment(first)\n",
    "#first = first.adjust_frequency(-corr)\n",
    "#corr"
   ]
  },
  {
   "cell_type": "markdown",
   "metadata": {},
   "source": [
    "## 1.4 Coregister to first"
   ]
  },
  {
   "cell_type": "code",
   "execution_count": null,
   "metadata": {},
   "outputs": [],
   "source": [
    "cc_data[0].shape"
   ]
  },
  {
   "cell_type": "code",
   "execution_count": null,
   "metadata": {},
   "outputs": [],
   "source": [
    "[i.shape for i in cc_data]"
   ]
  },
  {
   "cell_type": "code",
   "execution_count": null,
   "metadata": {},
   "outputs": [],
   "source": [
    "cc_data2 = cc_data.copy()"
   ]
  },
  {
   "cell_type": "code",
   "execution_count": null,
   "metadata": {},
   "outputs": [],
   "source": [
    "allcc = np.asarray([np.array(i.spectrum().real) for i in cc_data2])"
   ]
  },
  {
   "cell_type": "code",
   "execution_count": null,
   "metadata": {},
   "outputs": [],
   "source": [
    "allcc.shape"
   ]
  },
  {
   "cell_type": "code",
   "execution_count": null,
   "metadata": {},
   "outputs": [],
   "source": [
    "freq_corr2 = [suspect.processing.frequency_correction.correct_frequency_and_phase(i,first) for i in cc_data]"
   ]
  },
  {
   "cell_type": "code",
   "execution_count": null,
   "metadata": {},
   "outputs": [],
   "source": []
  },
  {
   "cell_type": "code",
   "execution_count": null,
   "metadata": {},
   "outputs": [],
   "source": [
    "first = cc_specs[9][7]\n",
    "plt.plot(first.frequency_axis_ppm(), first.adjust_phase(0,).adjust_frequency(0).spectrum().real)\n",
    "plt.xlim([7,0])\n",
    "plt.axvline(1.99)\n",
    "plt.axvline(4.7)\n",
    "plt.axvline(3.027)\n",
    "plt.axvline(0.94)\n",
    "plt.axhline(0)"
   ]
  },
  {
   "cell_type": "code",
   "execution_count": null,
   "metadata": {},
   "outputs": [],
   "source": [
    "first = first.adjust_frequency(8)"
   ]
  },
  {
   "cell_type": "code",
   "execution_count": null,
   "metadata": {},
   "outputs": [],
   "source": [
    "freq_corr_spec = [suspect.processing.frequency_correction.correct_frequency_and_phase(i,i[0]) for i in cc_specs]"
   ]
  },
  {
   "cell_type": "code",
   "execution_count": null,
   "metadata": {},
   "outputs": [],
   "source": []
  },
  {
   "cell_type": "code",
   "execution_count": null,
   "metadata": {},
   "outputs": [],
   "source": [
    "# Average Water"
   ]
  },
  {
   "cell_type": "code",
   "execution_count": null,
   "metadata": {},
   "outputs": [],
   "source": [
    "w_avg = [np.mean(i,axis=0) for i in w_freq_corr]"
   ]
  },
  {
   "cell_type": "markdown",
   "metadata": {},
   "source": [
    "## 1.5 Average"
   ]
  },
  {
   "cell_type": "code",
   "execution_count": null,
   "metadata": {},
   "outputs": [],
   "source": [
    "%%time\n",
    "averaged_mm = [np.mean(i,axis=0) for i in freq_corr2]\n",
    "averaged_spec = [np.mean(i,axis=0) for i in freq_corr_spec]"
   ]
  },
  {
   "cell_type": "code",
   "execution_count": null,
   "metadata": {},
   "outputs": [],
   "source": [
    "# ECC"
   ]
  },
  {
   "cell_type": "code",
   "execution_count": null,
   "metadata": {},
   "outputs": [],
   "source": [
    "avg_ecc_mm = list()\n",
    "for n in range(len(averaged_mm)):\n",
    "    eddy_current = np.unwrap(np.angle(w_avg[n]))\n",
    "    ec_smooth = suspect.processing.denoising.sliding_gaussian(eddy_current, 32)\n",
    "    ecc = np.exp(-1j * ec_smooth)\n",
    "    ec_data = averaged_mm[n] * ecc\n",
    "    avg_ecc_mm.append(ec_data)"
   ]
  },
  {
   "cell_type": "code",
   "execution_count": null,
   "metadata": {},
   "outputs": [],
   "source": [
    "for n,i in enumerate(averaged_mm):\n",
    "    #plt.plot(i.frequency_axis_ppm(), i.spectrum().real, label=n)\n",
    "    plt.plot(i.frequency_axis_ppm(), avg_ecc_mm[n].spectrum().real, label=n)\n",
    "plt.xlim([5,0])\n",
    "plt.ylim([-200,500])\n",
    "\n",
    "#plt.ylim([-2e-4,5e-4])\n",
    "plt.axvline(4.7)\n",
    "plt.legend()"
   ]
  },
  {
   "cell_type": "code",
   "execution_count": null,
   "metadata": {},
   "outputs": [],
   "source": [
    "len(averaged_mm)"
   ]
  },
  {
   "cell_type": "code",
   "execution_count": null,
   "metadata": {},
   "outputs": [],
   "source": [
    "avg_ecc_spec = list()\n",
    "for n in range(len(averaged_spec)):\n",
    "    eddy_current = np.unwrap(np.angle(w_avg[n]))\n",
    "    ec_smooth = suspect.processing.denoising.sliding_gaussian(eddy_current, 32)\n",
    "    ecc = np.exp(-1j * ec_smooth)\n",
    "    ec_data = averaged_spec[n] * ecc\n",
    "    avg_ecc_spec.append(ec_data)"
   ]
  },
  {
   "cell_type": "code",
   "execution_count": null,
   "metadata": {},
   "outputs": [],
   "source": [
    "for n,i in enumerate(avg_ecc_mm[0:1]):\n",
    "    plt.plot(i.frequency_axis_ppm(), i.spectrum().real, label=n)\n",
    "plt.xlim([5,0])\n",
    "plt.ylim([-200,500])\n",
    "plt.axvline(1.99)\n",
    "plt.legend()\n",
    "plt.axhline(0)"
   ]
  },
  {
   "cell_type": "code",
   "execution_count": null,
   "metadata": {},
   "outputs": [],
   "source": [
    "for n,i in enumerate(avg_ecc_spec):\n",
    "    plt.plot(i.frequency_axis_ppm(), i.spectrum().real, label=n)\n",
    "plt.xlim([5,0])\n",
    "#plt.ylim([-200,500])\n",
    "#plt.axvline(1.99)\n",
    "plt.legend()\n",
    "#plt.axhline(0)"
   ]
  },
  {
   "cell_type": "code",
   "execution_count": null,
   "metadata": {},
   "outputs": [],
   "source": []
  },
  {
   "cell_type": "code",
   "execution_count": null,
   "metadata": {},
   "outputs": [],
   "source": [
    "avg_ecc_mm.pop(0)\n",
    "avg_ecc_spec.pop(0)"
   ]
  },
  {
   "cell_type": "code",
   "execution_count": null,
   "metadata": {},
   "outputs": [],
   "source": [
    "specs.pop(0)"
   ]
  },
  {
   "cell_type": "code",
   "execution_count": null,
   "metadata": {},
   "outputs": [],
   "source": [
    "len(avg_ecc_mm)"
   ]
  },
  {
   "cell_type": "code",
   "execution_count": null,
   "metadata": {},
   "outputs": [],
   "source": [
    "len(avg_ecc_spec)"
   ]
  },
  {
   "cell_type": "code",
   "execution_count": null,
   "metadata": {},
   "outputs": [],
   "source": [
    "len(specs)"
   ]
  },
  {
   "cell_type": "code",
   "execution_count": null,
   "metadata": {},
   "outputs": [],
   "source": [
    "len(dry_list_mm)"
   ]
  },
  {
   "cell_type": "markdown",
   "metadata": {},
   "source": [
    "# HLSVD"
   ]
  },
  {
   "cell_type": "code",
   "execution_count": null,
   "metadata": {},
   "outputs": [],
   "source": [
    "water_list_mm = list()\n",
    "dry_list_mm = list()\n",
    "for spec in avg_ecc_mm:\n",
    "    components = suspect.processing.water_suppression.hsvd(spec, 30)\n",
    "    water_components = [component for component in components if component[\"frequency\"] < 60]\n",
    "    water_fid = spec.inherit(suspect.processing.water_suppression.construct_fid(water_components, spec.time_axis()))\n",
    "    dry_fid = spec - water_fid\n",
    "    water_list_mm.append(water_fid)\n",
    "    dry_list_mm.append(dry_fid)"
   ]
  },
  {
   "cell_type": "code",
   "execution_count": null,
   "metadata": {},
   "outputs": [],
   "source": [
    "for i in water_list_mm:\n",
    "    plt.plot(i.frequency_axis_ppm(), \n",
    "             i.spectrum().real)\n",
    "    plt.xlim([5,0])\n",
    "    plt.ylim([-200,500])\n",
    "    #plt.axvline(4.7)"
   ]
  },
  {
   "cell_type": "code",
   "execution_count": null,
   "metadata": {},
   "outputs": [],
   "source": [
    "for i in dry_list_mm:\n",
    "    plt.plot(i.frequency_axis_ppm(), \n",
    "             i.spectrum().real)\n",
    "    plt.xlim([5,0])\n",
    "    plt.ylim([-200,500])\n",
    "    plt.axvline(4.2)"
   ]
  },
  {
   "cell_type": "code",
   "execution_count": null,
   "metadata": {},
   "outputs": [],
   "source": [
    "water_list_spec = list()\n",
    "dry_list_spec = list()\n",
    "for spec in avg_ecc_spec:\n",
    "    components = suspect.processing.water_suppression.hsvd(spec, 30)\n",
    "    water_components = [component for component in components if component[\"frequency\"] < 60]\n",
    "    water_fid = spec.inherit(suspect.processing.water_suppression.construct_fid(water_components, spec.time_axis()))\n",
    "    dry_fid = spec - water_fid\n",
    "    water_list_spec.append(water_fid)\n",
    "    dry_list_spec.append(dry_fid)"
   ]
  },
  {
   "cell_type": "code",
   "execution_count": null,
   "metadata": {},
   "outputs": [],
   "source": [
    "for i in water_list_spec:\n",
    "    plt.plot(i.frequency_axis_ppm(), \n",
    "             i.spectrum().real)\n",
    "    plt.xlim([5,0])\n",
    "    plt.ylim([-200,500])\n",
    "    #plt.axvline(4.7)"
   ]
  },
  {
   "cell_type": "code",
   "execution_count": null,
   "metadata": {},
   "outputs": [],
   "source": [
    "for i in dry_list_spec:\n",
    "    plt.plot(i.frequency_axis_ppm(), \n",
    "             i.spectrum().real)\n",
    "    plt.xlim([5,0])\n",
    "    plt.ylim([-200,500])\n",
    "    plt.axvline(4.2)"
   ]
  },
  {
   "cell_type": "code",
   "execution_count": null,
   "metadata": {},
   "outputs": [],
   "source": [
    "len(dry_list_mm) == len(dry_list_spec)"
   ]
  },
  {
   "cell_type": "code",
   "execution_count": null,
   "metadata": {},
   "outputs": [],
   "source": [
    "der_path = '/home/orco/data/MacroMols/MRS/MacroMols_7T/derivatives/suspect_preprocessing'"
   ]
  },
  {
   "cell_type": "markdown",
   "metadata": {},
   "source": [
    "# HLSVD removing NAAG for MM and subtraction"
   ]
  },
  {
   "cell_type": "code",
   "execution_count": null,
   "metadata": {},
   "outputs": [],
   "source": [
    "i=13\n",
    "spec = dry_list_mm[i]\n",
    "components = suspect.processing.water_suppression.hsvd(spec, 45)"
   ]
  },
  {
   "cell_type": "code",
   "execution_count": null,
   "metadata": {},
   "outputs": [],
   "source": []
  },
  {
   "cell_type": "code",
   "execution_count": null,
   "metadata": {},
   "outputs": [],
   "source": [
    "fids = [spec.inherit(suspect.processing.water_suppression.construct_fid([i], spec.time_axis())) for i in components]"
   ]
  },
  {
   "cell_type": "code",
   "execution_count": null,
   "metadata": {},
   "outputs": [],
   "source": [
    "shift = 15\n",
    "for n,i in enumerate(fids):\n",
    "    plt.plot(i.frequency_axis_ppm(), i.spectrum().real-n*shift)\n",
    "    plt.xlim([6,-1])\n",
    "    #plt.ylim([-200,700])\n",
    "    #plt.axvline(4.2)\n",
    "    #plt.axvline(3.94)\n",
    "    #plt.axvline(0.7)\n",
    "    plt.axvline(0.7)\n",
    "    #plt.axhline(0)"
   ]
  },
  {
   "cell_type": "code",
   "execution_count": null,
   "metadata": {},
   "outputs": [],
   "source": [
    "artifacts = [components[13]] #+ [components[8]] #+ [components[8]] + components[16:]\n",
    "artifacts = spec.inherit(suspect.processing.water_suppression.construct_fid(artifacts, spec.time_axis()))"
   ]
  },
  {
   "cell_type": "code",
   "execution_count": null,
   "metadata": {},
   "outputs": [],
   "source": [
    "#mm_fid = components[2:8] + components[9:17]\n",
    "#mm_fid = dry_list_mm[i].inherit(suspect.processing.water_suppression.construct_fid(mm_fid, spec.time_axis()))"
   ]
  },
  {
   "cell_type": "code",
   "execution_count": null,
   "metadata": {},
   "outputs": [],
   "source": [
    "i=12\n",
    "mul_fact = 2.6\n",
    "ph=0.4\n",
    "fr = -14\n",
    "plt.plot(dry_list_spec[i].frequency_axis_ppm(), dry_list_spec[i].spectrum().real)\n",
    "plt.plot(dry_list_mm[i].frequency_axis_ppm(), ((dry_list_mm[i]-artifacts)*mul_fact).adjust_phase(ph).adjust_frequency(fr).spectrum().real)\n",
    "#plt.plot(dry_list_mm[i].frequency_axis_ppm(), (mm_fid*mul_fact).adjust_phase(ph).adjust_frequency(fr).spectrum().real)\n",
    "sub = dry_list_spec[i] - ((dry_list_mm[i]-artifacts)*mul_fact).adjust_phase(ph).adjust_frequency(fr)\n",
    "#sub = dry_list_spec[i] - (mm_fid*mul_fact).adjust_phase(ph).adjust_frequency(fr)\n",
    "plt.plot(dry_list_mm[i].frequency_axis_ppm(), sub.spectrum().real)\n",
    "plt.xlim([6,0])\n",
    "#plt.ylim([-200,700])\n",
    "plt.axvline(4.2)\n",
    "plt.axvline(3.94)\n",
    "#plt.axvline(0.7)\n",
    "plt.axhline(0)"
   ]
  },
  {
   "cell_type": "code",
   "execution_count": null,
   "metadata": {},
   "outputs": [],
   "source": [
    "plt.plot(dry_list_mm[i].frequency_axis_ppm(), sub.spectrum().real)\n",
    "plt.xlim([6,0])\n",
    "plt.axvline(4.2)\n",
    "plt.axvline(3.94)\n",
    "plt.axvline(0.94)\n",
    "plt.axhline(0)"
   ]
  },
  {
   "cell_type": "code",
   "execution_count": null,
   "metadata": {},
   "outputs": [],
   "source": [
    "# Save\n",
    "dest_name=specs[i].replace('rawdata/', 'derivatives/subtracted/').replace('.dat', '_subtracted.raw')\n",
    "os.makedirs(os.path.dirname(dest_name), exist_ok=True)\n",
    "suspect.io.lcmodel.save_raw(dest_name, sub)"
   ]
  },
  {
   "cell_type": "code",
   "execution_count": null,
   "metadata": {},
   "outputs": [],
   "source": []
  },
  {
   "cell_type": "code",
   "execution_count": null,
   "metadata": {},
   "outputs": [],
   "source": [
    "suspect.io.lcmodel.save_raw"
   ]
  },
  {
   "cell_type": "code",
   "execution_count": null,
   "metadata": {},
   "outputs": [],
   "source": [
    "specs[i]"
   ]
  },
  {
   "cell_type": "code",
   "execution_count": null,
   "metadata": {},
   "outputs": [],
   "source": [
    "mm_dats[i]"
   ]
  },
  {
   "cell_type": "code",
   "execution_count": null,
   "metadata": {},
   "outputs": [],
   "source": [
    "specs"
   ]
  },
  {
   "cell_type": "code",
   "execution_count": null,
   "metadata": {},
   "outputs": [],
   "source": [
    "mm_dats"
   ]
  },
  {
   "cell_type": "code",
   "execution_count": null,
   "metadata": {},
   "outputs": [],
   "source": []
  }
 ],
 "metadata": {
  "kernelspec": {
   "display_name": "Python 3 (ipykernel)",
   "language": "python",
   "name": "python3"
  },
  "language_info": {
   "codemirror_mode": {
    "name": "ipython",
    "version": 3
   },
   "file_extension": ".py",
   "mimetype": "text/x-python",
   "name": "python",
   "nbconvert_exporter": "python",
   "pygments_lexer": "ipython3",
   "version": "3.9.15"
  }
 },
 "nbformat": 4,
 "nbformat_minor": 4
}
