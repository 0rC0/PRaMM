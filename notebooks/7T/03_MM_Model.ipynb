{
 "cells": [
  {
   "cell_type": "code",
   "execution_count": null,
   "id": "93d584a8-9e51-4317-94a0-37676f6c5a05",
   "metadata": {},
   "outputs": [],
   "source": [
    "import suspect\n",
    "import shutil\n",
    "import glob, os\n",
    "import numpy as np\n",
    "import pandas as pd\n",
    "import seaborn as sns\n",
    "import subprocess\n",
    "import matplotlib.pyplot as plt\n",
    "plt.rcParams['figure.figsize'] = [12, 7]"
   ]
  },
  {
   "cell_type": "code",
   "execution_count": null,
   "id": "a761ae14-5e56-428d-b4ed-dd4a1f1ac93e",
   "metadata": {},
   "outputs": [],
   "source": [
    "#der_dir = '/home/orco/Documents/PTB/MRS/MacroMols_7T/derivatives/LC_Model'\n",
    "der_dir = '/home/orco/data/MacroMols/MRS/MacroMols_7T/derivatives/LC_Model'"
   ]
  },
  {
   "cell_type": "code",
   "execution_count": null,
   "id": "fb8f4440-f76a-46c3-8f6f-cc8bfaed366c",
   "metadata": {},
   "outputs": [],
   "source": [
    "mm_raws_mask = 'sub*/mrs/sub-*_nuc-1H_loc-*_spec-ad-special_TI1-800_TI2-42_avg_ecc_dry.raw'"
   ]
  },
  {
   "cell_type": "code",
   "execution_count": null,
   "id": "c6cfd65a-b129-43af-9628-994be2ff3e0d",
   "metadata": {},
   "outputs": [],
   "source": [
    "mm_raws = glob.glob(der_dir + '/' + mm_raws_mask)"
   ]
  },
  {
   "cell_type": "code",
   "execution_count": null,
   "id": "c9270175-ec2c-4718-b619-6f707a2fa926",
   "metadata": {},
   "outputs": [],
   "source": [
    "mm_raws"
   ]
  },
  {
   "cell_type": "code",
   "execution_count": null,
   "id": "e77ed14f-5019-48b2-810f-2437ce0eac95",
   "metadata": {},
   "outputs": [],
   "source": [
    "i = mm_raws[0]\n"
   ]
  },
  {
   "cell_type": "code",
   "execution_count": null,
   "id": "d3f394ed-0ed1-4b45-bde3-55219b0e23da",
   "metadata": {},
   "outputs": [],
   "source": [
    "w = i.replace('spec-ad-special_TI1-800_TI2-42_avg_ecc_dry.raw', 'spec-lr-special_water_wOVSavg.raw')"
   ]
  },
  {
   "cell_type": "code",
   "execution_count": null,
   "id": "5fbfed9b-dac2-44b8-b1f3-c57e7cbe3e42",
   "metadata": {},
   "outputs": [],
   "source": []
  },
  {
   "cell_type": "code",
   "execution_count": null,
   "id": "8b05bbee-eef1-446e-b7c2-e68e5ec619ac",
   "metadata": {},
   "outputs": [],
   "source": [
    "control = '''\n",
    "$LCMODL\n",
    "title='{sub}_{roi}_Metabolite_Nulled'\n",
    "atth2o= 0.8111\n",
    "key = 210387309\n",
    "deltat= 1.250e-04\n",
    "doecc= F\n",
    "dows= T\n",
    "hzpppm= 2.9721e+02\n",
    "neach= 999\n",
    "nunfil= 4096\n",
    "PPMREF(1,2) = 2.09\n",
    "SDDEGZ = 1\n",
    "SDDEGP = 0.\n",
    "shifmn = -0.05\n",
    "shifmx = 0.05\n",
    "FIXSHF = T\n",
    "ppmend= 0.75\n",
    "ppmst= 4.1\n",
    "wconc= 43432\n",
    "dkntmn= 99\n",
    "echot= 9\n",
    "nsimul= 18\n",
    "chsimu(18) = '-PCr @ 3.05 +- .01 FWHM= -.04 < -0.06 +- .005 AMP=-3.'\n",
    "chsimu(17) = 'MM4.04 @ 4.05 +- .05 FWHM=0.001 < 0.08 +- .005 AMP=1'\n",
    "chsimu(16) = 'CrCH2 @ 3.932 +- .001 FWHM= 0.01 < 0.03 +- .005 AMP=2.'\n",
    "chsimu(15) = 'MM3.90 @ 3.92 +- .02 FWHM=0.08 < 0.10 +- .005 AMP=1'\n",
    "chsimu(14) = 'MM3.79 @ 3.79 +- .01 FWHM=0.02 < 0.08 +- .001 AMP=1'\n",
    "chsimu(13) = 'MM3.71 @ 3.71 +- .02 FWHM=0.04 < 0.10 +- .005 AMP=1'\n",
    "chsimu(12) = 'MM3.59 @ 3.59 +- .02 FWHM=0.04 < 0.07 +- .005 AMP=1'\n",
    "chsimu(11) = 'MM3.21 @ 3.21 +- .005 FWHM= 0.14 < 0.16 +- .01 AMP=1'\n",
    "chsimu(10) = '-Cho @ 3.18 +- .005 FWHM= -.06 < -0.16 +- .005 AMP=-3.'\n",
    "chsimu(9) = 'MM3.00 @ 3.00 +- .005 FWHM= 0.10 < 0.12 +- .01 AMP=1.'\n",
    "chsimu(8) = 'MM2.74 @ 2.75 +- .01 FWHM= 0.10 < 0.13 +- .005 AMP=1.'\n",
    "chsimu(7) = 'MM2.54 @ 2.59 +- .01 FWHM= 0.11 < 0.14 +- .005 AMP=1.'\n",
    "chsimu(6) = 'MM2.27 @ 2.27  +- .005 FWHM= 0.09 < 0.15 +- .01 AMP=1.'\n",
    "chsimu(5) = 'MM2.05 @ 2.05 +- .005 FWHM= 0.15 < 0.28 +- .02 AMP=1.'\n",
    "chsimu(4) = 'MM1.70 @ 1.70 +- .01 FWHM= 0.17 < 0.19 +- .01 AMP= 1.'\n",
    "chsimu(3) = 'MM1.43 @ 1.43 +- .01 FWHM= 0.08 < 0.11 +- .01 AMP= 1.'\n",
    "chsimu(2) = 'MM1.22 @ 1.22 +- .01 FWHM= 0.07 < 0.09 +- .005 AMP= 1.'\n",
    "chsimu(1) = 'MM0.94 @ 0.94 +- .005 FWHM= 0.08 < 0.11 +- .01 AMP= 1.'\n",
    "NRATIO = 0\n",
    "nomit= 11\n",
    "chomit= 'Gua' 'Ser' 'Lip13a' 'Lip13b' 'Lip09' 'MM09' 'Lip20' 'MM20' 'MM12' 'MM14' 'MM17'\n",
    "FILBAS='/home/orco/data/MacroMols/MRS/MacroMols_7T/derivatives/LCModel_basis/7T_SE_TE9_NAAG-CH3_NAA_Glx.basis'\n",
    "FILRAW='{filename}.raw'\n",
    "LTABLE=7, FILTAB='{filename}/{filename}.table'\n",
    "FILPS='{filename}.ps'\n",
    "LCSV=11, FILCSV='{filename}/{filename}.csv'\n",
    "LCOORD=9, FILCOO='{filename}/{filename}.coord'\n",
    "LPRINT=6, FILPRI='{filename}/{filename}.print'\n",
    "LCORAW=10, FILCOR='{filename}/{filename}.coraw'\n",
    "filh2o='{water}'\n",
    "$END\n",
    "'''"
   ]
  },
  {
   "cell_type": "code",
   "execution_count": null,
   "id": "e694f467-e8eb-48bd-b9e0-c7b2e1b4f3f4",
   "metadata": {},
   "outputs": [],
   "source": [
    "for i in mm_raws:\n",
    "    w = i.replace('spec-ad-special_TI1-800_TI2-42_avg_ecc_dry.raw', 'spec-lr-special_water_wOVSavg.raw')\n",
    "    filename=os.path.basename(i).strip('.raw')\n",
    "    sub=filename.split('_')[0]\n",
    "    roi=filename.split('_')[2]\n",
    "    control_file_name = i.replace('.raw', '.control')\n",
    "    dirname = os.path.dirname(i)\n",
    "    os.makedirs(os.path.join(dirname, filename), exist_ok=True)\n",
    "    with open (control_file_name, 'w') as ctrlf:\n",
    "        ctrlf.write(control.format(filename=filename,\n",
    "                                  water=w,\n",
    "                                  sub=sub,\n",
    "                                  roi=roi))\n",
    "    "
   ]
  },
  {
   "cell_type": "code",
   "execution_count": null,
   "id": "7b94e977-a197-469c-ab9e-e932fce1d6bc",
   "metadata": {},
   "outputs": [],
   "source": [
    "for i in mm_raws:\n",
    "    dirname = os.path.dirname(i)\n",
    "    os.chdir(dirname)\n",
    "    print(os.getcwd())\n",
    "    proc = subprocess.run('/home/orco/.lcmodel/bin/lcmodel < {filename}'.format(filename=os.path.basename(i).replace('.raw', '.control')), shell=True, check=True, capture_output=True)\n",
    "    print(proc)"
   ]
  },
  {
   "cell_type": "code",
   "execution_count": null,
   "id": "4844fcb2-191b-46a2-9529-aa62af1f087f",
   "metadata": {},
   "outputs": [],
   "source": [
    "i = mm_raws[0]\n",
    "filename=os.path.basename(i).strip('.raw')\n",
    "control_file_name = i.replace('.raw', '.control')\n",
    "dirname = os.path.dirname(i)\n",
    "coord = os.path.join(dirname, filename, filename +'.coord')\n",
    "loc = filename.split('_')[2].split('-')[-1]\n",
    "sub = filename.split('_')[0].split('-')[-1]"
   ]
  },
  {
   "cell_type": "code",
   "execution_count": null,
   "id": "eeede9fd-0c12-417d-9edb-47489c081ffb",
   "metadata": {},
   "outputs": [],
   "source": [
    "c = suspect.io.lcmodel.read_coord(coord)['metabolite_fits']"
   ]
  },
  {
   "cell_type": "code",
   "execution_count": null,
   "id": "04d839cf-270a-47fc-a31a-217ad170a1b5",
   "metadata": {},
   "outputs": [],
   "source": [
    "d = dict()\n",
    "for i in mm_raws:\n",
    "    filename=os.path.basename(i).strip('.raw')\n",
    "    control_file_name = i.replace('.raw', '.control')\n",
    "    dirname = os.path.dirname(i)\n",
    "    coord = os.path.join(dirname, filename, filename +'.coord')\n",
    "    loc = filename.split('_')[2].split('-')[-1]\n",
    "    sub = filename.split('_')[0].split('-')[-1]\n",
    "    d['{}_{}'.format(sub,loc)] = suspect.io.lcmodel.read_coord(coord)['metabolite_fits']"
   ]
  },
  {
   "cell_type": "code",
   "execution_count": null,
   "id": "26b9418a-d535-4090-9ff1-668f17a5a7f3",
   "metadata": {},
   "outputs": [],
   "source": [
    "dd = dict()\n",
    "for i in d:\n",
    "    dd[i] = dict()\n",
    "    for j in d[i]:\n",
    "        dd[i][j] = d[i][j]['concentration']"
   ]
  },
  {
   "cell_type": "code",
   "execution_count": null,
   "id": "707db1c3-b6b8-4598-abb3-f487183c367b",
   "metadata": {},
   "outputs": [],
   "source": [
    "conc_df = pd.DataFrame.from_dict(dd).transpose()"
   ]
  },
  {
   "cell_type": "code",
   "execution_count": null,
   "id": "05290a22-23c7-434c-bbc0-26562d1d37be",
   "metadata": {},
   "outputs": [],
   "source": [
    "conc_df = conc_df[[i for i in conc_df.columns if i.startswith('MM')]]"
   ]
  },
  {
   "cell_type": "code",
   "execution_count": null,
   "id": "26db1ae4-397c-48b3-928d-5f2c53a21968",
   "metadata": {},
   "outputs": [],
   "source": [
    "conc_df['sub_id'] = conc_df.index"
   ]
  },
  {
   "cell_type": "code",
   "execution_count": null,
   "id": "c1b46e0f-ad0a-4a16-8b61-193f1e4f9e38",
   "metadata": {},
   "outputs": [],
   "source": [
    "conc_df['ROI'] = conc_df.sub_id.apply(lambda x: x.split('_')[-1]) \n",
    "conc_df['sub_id'] = conc_df.sub_id.apply(lambda x: x.split('_')[0]) "
   ]
  },
  {
   "cell_type": "code",
   "execution_count": null,
   "id": "53a47a84-c79e-47db-ba1f-9110f97c4000",
   "metadata": {},
   "outputs": [],
   "source": [
    "conc_df"
   ]
  },
  {
   "cell_type": "code",
   "execution_count": null,
   "id": "1ed570f2-cfdf-4a3d-81b0-aafbe682f6f6",
   "metadata": {},
   "outputs": [],
   "source": [
    "#len(conc_df['MM0.7'])"
   ]
  },
  {
   "cell_type": "code",
   "execution_count": null,
   "id": "425f4e38-4ab1-4e82-b3c6-29d89fc1554b",
   "metadata": {},
   "outputs": [],
   "source": [
    "from scipy.stats import normaltest, shapiro\n",
    "for i in [i for i in conc_df.columns if 'MM' in i]:\n",
    "    print(i)\n",
    "    print(normaltest(conc_df[i].values))\n",
    "    print(shapiro(conc_df[i].values))"
   ]
  },
  {
   "cell_type": "code",
   "execution_count": null,
   "id": "d10062b2-ab48-4747-9c07-dccaf38ff06e",
   "metadata": {},
   "outputs": [],
   "source": [
    "#conc_df = conc_df.drop('703_wm')"
   ]
  },
  {
   "cell_type": "code",
   "execution_count": null,
   "id": "345d4b0b-b99e-4ec7-8ea7-cae8f2f4378d",
   "metadata": {},
   "outputs": [],
   "source": [
    "len(conc_df)"
   ]
  },
  {
   "cell_type": "code",
   "execution_count": null,
   "id": "cc36a92d-acee-4900-b156-34bc38b4c122",
   "metadata": {},
   "outputs": [],
   "source": [
    "#conc_df.to_csv('MM_concentrations.csv')"
   ]
  },
  {
   "cell_type": "code",
   "execution_count": null,
   "id": "d5ea298a-dcf8-4e8d-86f0-235eb63e248b",
   "metadata": {},
   "outputs": [],
   "source": [
    "sns.set_theme(style=\"ticks\")\n",
    "g = sns.pairplot(conc_df,\n",
    "             hue='ROI',\n",
    "             kind='scatter',\n",
    "             diag_kind='hist',\n",
    "             corner=True, \n",
    "             plot_kws={\"s\": 100})\n",
    "g.set(ylim=(0, None),\n",
    "     xlim=(0, None))"
   ]
  },
  {
   "cell_type": "code",
   "execution_count": null,
   "id": "6406c54b-24dd-4b6d-83bf-f3efa67e9f30",
   "metadata": {},
   "outputs": [],
   "source": [
    "ax = sns.violinplot(data=conc_df)"
   ]
  },
  {
   "cell_type": "code",
   "execution_count": null,
   "id": "cffe27c0-e9bb-4abd-a4ad-aa17afee8f6a",
   "metadata": {},
   "outputs": [],
   "source": [
    "conc_df.corr()"
   ]
  },
  {
   "cell_type": "code",
   "execution_count": null,
   "id": "49a37930-8258-4366-97b0-f0847784924b",
   "metadata": {},
   "outputs": [],
   "source": [
    "corr = conc_df.corr(method='spearman')"
   ]
  },
  {
   "cell_type": "code",
   "execution_count": null,
   "id": "6f7542cc-3bbe-482b-a481-fa43a75ef037",
   "metadata": {},
   "outputs": [],
   "source": [
    "mask = np.triu(np.ones_like(corr, dtype=np.bool))\n",
    "#corr.values[corr.values > 0.7]"
   ]
  },
  {
   "cell_type": "code",
   "execution_count": null,
   "id": "ed571755-9f83-411e-b0e2-024ed0f60f54",
   "metadata": {},
   "outputs": [],
   "source": [
    "# Set up the matplotlib figure\n",
    "#plt.title('Matrix of Pearsons\\' coefficients for the integrals of MM peaks')\n",
    "# Generate a custom diverging colormap\n",
    "cmap = sns.diverging_palette(220, 10, as_cmap=True)\n",
    "#cmap = sns.diverging_palette(150, 275, s=80, l=55, n=9)\n",
    "# Draw the heatmap with the mask and correct aspect ratio\n",
    "sns.heatmap(corr, mask=mask, cmap=cmap, center=0.56, vmin=0,\n",
    "            square=True, annot=True, fmt='1.2f', linewidths=.5, cbar_kws={\"shrink\": 0.5})"
   ]
  },
  {
   "cell_type": "code",
   "execution_count": null,
   "id": "d68e6abd-e792-4557-90b7-65f681ca2f21",
   "metadata": {},
   "outputs": [],
   "source": [
    "# CRLB"
   ]
  },
  {
   "cell_type": "code",
   "execution_count": null,
   "id": "f2e715ae-33d4-4def-b617-12d716b31f46",
   "metadata": {},
   "outputs": [],
   "source": [
    "ds = dict()\n",
    "for i in d:\n",
    "    ds[i] = dict()\n",
    "    for j in d[i]:\n",
    "        ds[i][j] = d[i][j]['sd']"
   ]
  },
  {
   "cell_type": "code",
   "execution_count": null,
   "id": "5b0f72ed-f738-436b-a71e-6ace65bfd75b",
   "metadata": {},
   "outputs": [],
   "source": [
    "crlb_df = pd.DataFrame.from_dict(ds).transpose()"
   ]
  },
  {
   "cell_type": "code",
   "execution_count": null,
   "id": "41ffac89-0977-4831-91e7-dcec9577b1d8",
   "metadata": {},
   "outputs": [],
   "source": [
    "crlb_df = crlb_df[[i for i in crlb_df.columns if 'MM' in i]]"
   ]
  },
  {
   "cell_type": "code",
   "execution_count": null,
   "id": "52ad42f2-3577-47e9-bcb1-900181e9e629",
   "metadata": {},
   "outputs": [],
   "source": [
    "ax = sns.boxplot(data=crlb_df[crlb_df < 50])\n",
    "ax.tick_params(axis='x', rotation=90)"
   ]
  },
  {
   "cell_type": "code",
   "execution_count": null,
   "id": "3607d814-b75c-48be-bc63-cb04feae36a7",
   "metadata": {},
   "outputs": [],
   "source": [
    "from sklearn.linear_model import LinearRegression\n",
    "\n",
    "def reg_coef(x,y):\n",
    "    X = [np.array([i]) for i in x]\n",
    "    model = LinearRegression()\n",
    "    model.fit(X,y)\n",
    "    return model.coef_"
   ]
  },
  {
   "cell_type": "code",
   "execution_count": null,
   "id": "7399a18b-d993-42c2-aff9-4c7c4ae9fa07",
   "metadata": {},
   "outputs": [],
   "source": [
    "crlb_df"
   ]
  },
  {
   "cell_type": "code",
   "execution_count": null,
   "id": "1598680d-585c-4353-8e90-21b4f9560d69",
   "metadata": {},
   "outputs": [],
   "source": [
    "# Slopes"
   ]
  },
  {
   "cell_type": "code",
   "execution_count": null,
   "id": "4a2813cd-9ed0-42e9-b541-0bf2b5fefa2e",
   "metadata": {},
   "outputs": [],
   "source": [
    "slopes_df = conc_df.corr(method=reg_coef)"
   ]
  },
  {
   "cell_type": "code",
   "execution_count": null,
   "id": "fdfac4bc-e437-4292-91ff-6039070cfa51",
   "metadata": {},
   "outputs": [],
   "source": [
    "diagonal = mask.copy()"
   ]
  },
  {
   "cell_type": "code",
   "execution_count": null,
   "id": "40a32777-12e8-4806-b12b-75b9304d855e",
   "metadata": {},
   "outputs": [],
   "source": [
    "mask = (corr < 0.56) | (diagonal)"
   ]
  },
  {
   "cell_type": "code",
   "execution_count": null,
   "id": "c8717deb-ddee-40e5-90d2-f72918874ff6",
   "metadata": {},
   "outputs": [],
   "source": [
    "# Set up the matplotlib figure\n",
    "f, ax = plt.subplots(figsize=(11, 9))\n",
    "#plt.title('Matrix of Pearsons\\' coefficients for the integrals of MM peaks')\n",
    "# Generate a custom diverging colormap\n",
    "cmap = sns.diverging_palette(220, 10, as_cmap=True)\n",
    "#cmap = sns.diverging_palette(150, 275, s=80, l=55, n=9)\n",
    "# Draw the heatmap with the mask and correct aspect ratio\n",
    "sns.heatmap(slopes_df, mask=mask, cmap=cmap, center=0.70, vmin=0,\n",
    "            square=True, annot=True, fmt='1.2f', linewidths=.5, cbar_kws={\"shrink\": 0.5})"
   ]
  },
  {
   "cell_type": "code",
   "execution_count": null,
   "id": "97848c95-4895-488f-807e-29f70451bca6",
   "metadata": {},
   "outputs": [],
   "source": [
    "#Ref: https://stackoverflow.com/questions/52741236/how-to-calculate-p-values-for-pairwise-correlation-of-columns-in-pandas\n",
    "from scipy.stats import pearsonr, spearmanr\n",
    "\n",
    "def pearsonr_pval(x,y):\n",
    "    return pearsonr(x,y)[1]\n",
    "\n",
    "def spearmanr_pval(x,y):\n",
    "    return spearmanr(x,y)[1]"
   ]
  },
  {
   "cell_type": "code",
   "execution_count": null,
   "id": "70a052a0-d7d7-4481-ad11-a6babd5174f0",
   "metadata": {},
   "outputs": [],
   "source": [
    "pvalues_df = conc_df.corr(method=pearsonr_pval)"
   ]
  },
  {
   "cell_type": "code",
   "execution_count": null,
   "id": "b3d74d26-1984-41c1-99a7-f1ae05339df4",
   "metadata": {},
   "outputs": [],
   "source": [
    "mask = (pvalues_df > 0.05) #| (diagonal)\n",
    "# Set up the matplotlib figure\n",
    "f, ax = plt.subplots(figsize=(11, 9))\n",
    "#plt.title('Matrix of Pearsons\\' coefficients for the integrals of MM peaks')\n",
    "# Generate a custom diverging colormap\n",
    "cmap = sns.diverging_palette(220, 10, as_cmap=True)\n",
    "#cmap = sns.diverging_palette(150, 275, s=80, l=55, n=9)\n",
    "# Draw the heatmap with the mask and correct aspect ratio\n",
    "sns.heatmap(pvalues_df, mask=mask, cmap=cmap, center=0.70, vmin=0,\n",
    "            square=True, annot=True, fmt='1.2f', linewidths=.5, cbar_kws={\"shrink\": 0.5})"
   ]
  },
  {
   "cell_type": "code",
   "execution_count": null,
   "id": "1522da50-86f8-4615-9946-c2c4d7b3ac74",
   "metadata": {},
   "outputs": [],
   "source": [
    "mask = (pvalues_df >= 0.01) | (diagonal)\n",
    "# Set up the matplotlib figure\n",
    "f, ax = plt.subplots(figsize=(11, 9))\n",
    "#plt.title('Matrix of Pearsons\\' coefficients for the integrals of MM peaks')\n",
    "# Generate a custom diverging colormap\n",
    "cmap = sns.diverging_palette(220, 10, as_cmap=True)\n",
    "#cmap = sns.diverging_palette(150, 275, s=80, l=55, n=9)\n",
    "# Draw the heatmap with the mask and correct aspect ratio\n",
    "sns.heatmap(slopes_df, mask=mask, cmap=cmap, center=0.70, vmin=0,\n",
    "            square=True, annot=True, fmt='1.2f', linewidths=.5, cbar_kws={\"shrink\": 0.5})"
   ]
  },
  {
   "cell_type": "code",
   "execution_count": null,
   "id": "958334ca-37a1-45b6-96b1-15661eab0363",
   "metadata": {},
   "outputs": [],
   "source": [
    "pvalues_df"
   ]
  },
  {
   "cell_type": "code",
   "execution_count": null,
   "id": "eb90c7f5-3fb8-47df-95d1-894e95df57ca",
   "metadata": {},
   "outputs": [],
   "source": []
  },
  {
   "cell_type": "code",
   "execution_count": null,
   "id": "7c91bfa1-a29e-4565-88d8-b64163592c8a",
   "metadata": {},
   "outputs": [],
   "source": []
  }
 ],
 "metadata": {
  "kernelspec": {
   "display_name": "Python 3 (ipykernel)",
   "language": "python",
   "name": "python3"
  },
  "language_info": {
   "codemirror_mode": {
    "name": "ipython",
    "version": 3
   },
   "file_extension": ".py",
   "mimetype": "text/x-python",
   "name": "python",
   "nbconvert_exporter": "python",
   "pygments_lexer": "ipython3",
   "version": "3.9.15"
  }
 },
 "nbformat": 4,
 "nbformat_minor": 5
}
