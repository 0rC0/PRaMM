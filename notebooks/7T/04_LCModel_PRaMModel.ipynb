{
 "cells": [
  {
   "cell_type": "code",
   "execution_count": null,
   "id": "946a2e7a-5d50-47b5-8a81-fc70d2f813e6",
   "metadata": {},
   "outputs": [],
   "source": [
    "import suspect\n",
    "import pandas as pd\n",
    "import numpy as np\n",
    "import glob\n",
    "import os\n",
    "import json\n",
    "import shutil"
   ]
  },
  {
   "cell_type": "code",
   "execution_count": null,
   "id": "b20f4c82-d2c9-48de-bf80-9d2c8a25f470",
   "metadata": {},
   "outputs": [],
   "source": [
    "#basis = '/home/orco/data/MacroMols/MRS/MacroMols_7T/derivatives/LCModel_basis/7T_SE_TE9_NoMM.basis'\n",
    "#basis = '/home/orco/data/MacroMols/MRS/MacroMols_7T/derivatives/NewBasis/7T_SPECIAL_real_TE9.basis'\n",
    "basis = '/home/orco/data/MacroMols/MRS/MacroMols_7T/derivatives/NewBasis/7T_SPECIAL_real_TE9_NoMM.basis'"
   ]
  },
  {
   "cell_type": "code",
   "execution_count": null,
   "id": "c7ddd720-9fc0-46db-abce-a51eacf81339",
   "metadata": {},
   "outputs": [],
   "source": [
    "fullspecs = glob.glob('/home/orco/data/MacroMols/MRS/MacroMols_7T/derivatives/suspect_preprocessing/sub-*/mrs/sub-*_nuc-1H_loc-*_spec-lr-special*hlsvd.raw')\n",
    "fullspecs"
   ]
  },
  {
   "cell_type": "code",
   "execution_count": null,
   "id": "c88d5f07-47c5-43b2-8987-f97a9ce602ac",
   "metadata": {},
   "outputs": [],
   "source": [
    "water = [i.replace('spec-lr-specialavg_ecc_hlsvd.raw', 'spec-lr-special_water_wOVSavg.raw') for i in fullspecs]"
   ]
  },
  {
   "cell_type": "code",
   "execution_count": null,
   "id": "3f0cef37-d618-4032-a45e-8c66848e7380",
   "metadata": {},
   "outputs": [],
   "source": [
    "water"
   ]
  },
  {
   "cell_type": "code",
   "execution_count": null,
   "id": "67571f94-a1a8-4efc-8529-f74d3e4ad1ec",
   "metadata": {},
   "outputs": [],
   "source": [
    "[os.path.isfile(i) for i in water]"
   ]
  },
  {
   "cell_type": "code",
   "execution_count": null,
   "id": "940ccfc0-2c0f-4358-9060-6d0be3b32e13",
   "metadata": {},
   "outputs": [],
   "source": [
    "te=9\n",
    "tr=6500\n",
    "R_GM = np.exp(-te/50)*(1-np.exp(-tr/2050))\n",
    "R_WM = np.exp(-te/55)*(1-np.exp(-tr/1210))\n",
    "R_CSF = np.exp(-te/1050)*(1-np.exp(-tr/4430))\n",
    "# Water sds:\n",
    "frac_jsons = glob.glob('/home/orco/data/MacroMols/MRS/MacroMols_7T/derivatives/tissue_frac/sub-*/mrs/sub-*_nuc-1H_loc-*_spec-lr-special_segmentation.json')\n",
    "fracs = dict()\n",
    "for i in frac_jsons:\n",
    "    sid = i.split('/')[-3]\n",
    "    loc = i.split('_')[-3].split('-')[1]\n",
    "    with open(i,'r') as fin:\n",
    "        frac = json.load(fin)\n",
    "    if not sid in fracs.keys():\n",
    "        fracs[sid]=dict()\n",
    "    fracs[sid][loc] = frac\n",
    "for sid in fracs.keys():\n",
    "    for roi in fracs[sid].keys():\n",
    "        #fracs[sid][roi]['H2O'] = 55126 * (fracs[sid][roi]['WM'] * 0.65 + fracs[sid][roi]['GM'] * 0.78 + fracs[sid][roi]['CSF'] * 0.97)\n",
    "        fracs[sid][roi]['H2O'] = 55126 * (fracs[sid][roi]['WM'] * 0.65 * R_WM + fracs[sid][roi]['GM'] * 0.78 *R_GM + fracs[sid][roi]['CSF'] * 0.97 * R_CSF)\n",
    "        fracs[sid][roi]['atth2o'] = 1 # np.exp(-9/55)*fracs[sid][roi]['WM'] + np.exp(-9/50) *fracs[sid][roi]['GM'] + np.exp(-9/1050)*fracs[sid][roi]['CSF']"
   ]
  },
  {
   "cell_type": "code",
   "execution_count": null,
   "id": "0585d8f8-6194-475c-bf5d-fb28a637b88e",
   "metadata": {},
   "outputs": [],
   "source": [
    "# Copy file to derivatives Directory"
   ]
  },
  {
   "cell_type": "code",
   "execution_count": null,
   "id": "c76dfe45-ba5a-4e93-b5e9-f7a73fbe113d",
   "metadata": {},
   "outputs": [],
   "source": []
  },
  {
   "cell_type": "code",
   "execution_count": null,
   "id": "094d0ee2-9c97-472b-96fb-02f1e7b9b60b",
   "metadata": {},
   "outputs": [],
   "source": [
    "for i in fullspecs:\n",
    "    outname = i.replace('derivatives/suspect_preprocessing', 'derivatives/PRaMM1_23')\n",
    "    os.makedirs(os.path.dirname(outname), exist_ok=True)\n",
    "    shutil.copyfile(i, outname)"
   ]
  },
  {
   "cell_type": "code",
   "execution_count": null,
   "id": "be6d6f63-8532-4a7b-a6a1-e1939794fb40",
   "metadata": {},
   "outputs": [],
   "source": [
    "for i in water:\n",
    "    outname = i.replace('derivatives/suspect_preprocessing', 'derivatives/PRaMM1_23')\n",
    "    os.makedirs(os.path.dirname(outname), exist_ok=True)\n",
    "    shutil.copyfile(i, outname)"
   ]
  },
  {
   "cell_type": "code",
   "execution_count": null,
   "id": "e8182232-6f4a-47bc-8273-b06edb4e239f",
   "metadata": {},
   "outputs": [],
   "source": [
    "#Dev 20.05-99\n",
    "pramm_control = '''\n",
    "$LCMODL\n",
    "title='PRaMM_{sub}_{roi}'\n",
    "atth2o= {atth2o}\n",
    "wconc= {h2oconc}\n",
    "key = 210387309\n",
    "deltat= 1.250e-04\n",
    "doecc= F\n",
    "dows= T\n",
    "hzpppm= 2.9721e+02\n",
    "neach= 999\n",
    "nunfil= 4096\n",
    "SDDEGZ = 1\n",
    "SDDEGP = 0\n",
    "shifmn = -0.05\n",
    "shifmx = 0.05\n",
    "FIXSHF = T\n",
    "ppmend= 0.2\n",
    "ppmst= 4.2\n",
    "dkntmn= 99\n",
    "echot= 9\n",
    "nsimul= 15\n",
    "chsimu(15) = 'M4.04 @ 4.05 +- .05 FWHM=0.001 < 0.08 +- .005 AMP=1'\n",
    "chsimu(14) = 'M3.90 @ 3.92 +- .02 FWHM=0.08 < 0.10 +- .005 AMP=1'\n",
    "chsimu(13) = 'M3.79 @ 3.79 +- .01 FWHM=0.02 < 0.08 +- .001 AMP=1'\n",
    "chsimu(12) = 'M3.71 @ 3.71 +- .02 FWHM=0.04 < 0.10 +- .005 AMP=1'\n",
    "chsimu(11) = 'M3.59 @ 3.59 +- .02 FWHM=0.04 < 0.07 +- .005 AMP=1'\n",
    "chsimu(10) = 'M3.21 @ 3.21 +- .005 FWHM= 0.14 < 0.16 +- .01 AMP=1'\n",
    "chsimu(9) = 'M3.00 @ 3.00 +- .005 FWHM= 0.10 < 0.12 +- .01 AMP=1.'\n",
    "chsimu(8) = 'M2.74 @ 2.75 +- .01 FWHM= 0.10 < 0.13 +- .005 AMP=1.'\n",
    "chsimu(7) = 'M2.54 @ 2.59 +- .01 FWHM= 0.11 < 0.14 +- .005 AMP=1.'\n",
    "chsimu(6) = 'M2.27 @ 2.27  +- .005 FWHM= 0.09 < 0.15 +- .01 AMP=1.'\n",
    "chsimu(5) = 'M2.05 @ 2.05 +- .005 FWHM= 0.15 < 0.28 +- .02 AMP=1.'\n",
    "chsimu(4) = 'M1.70 @ 1.70 +- .01 FWHM= 0.17 < 0.19 +- .01 AMP= 1.'\n",
    "chsimu(3) = 'M1.43 @ 1.43 +- .01 FWHM= 0.08 < 0.11 +- .01 AMP= 1.'\n",
    "chsimu(2) = 'M1.22 @ 1.22 +- .01 FWHM= 0.07 < 0.09 +- .005 AMP= 1.'\n",
    "chsimu(1) = 'M0.94 @ 0.94 +- .005 FWHM= 0.08 < 0.11 +- .01 AMP= 1.'\n",
    "nratio = 14\n",
    "chrato(1) = 'M1.70/M0.94 = 2.02 +- 0.04'\n",
    "chrato(2) = 'M2.05/M1.43 = 2.47 +- 0.24'\n",
    "chrato(3) = 'M2.74/M2.54 = 0.81 +- 0.08'\n",
    "chrato(4) = 'M3.00/M0.94 = 2.13 +- 0.21'\n",
    "chrato(5) = 'M3.00/M1.70 = 0.97 +- 0.09'\n",
    "chrato(6) = 'M3.00/M2.74 = 3.53 +- 0.35'\n",
    "chrato(7) = 'M3.21/M1.70 = 0.83 +- 0.08'\n",
    "chrato(8) = 'M3.21/M2.74 = 3.78 +- 0.38'\n",
    "chrato(9) = 'M3.21/M3.00 = 0.96 +- 0.10'\n",
    "chrato(10) = 'M3.59/M3.21 = 0.08 +- 0.008'\n",
    "chrato(11) = 'M3.71/M3.59 = 1.34 +- 0.13'\n",
    "chrato(12) = 'M3.79/M3.59 = 1.05 +- 0.10'\n",
    "chrato(13) = 'M3.79/M3.71 = 0.61 +- 0.06'\n",
    "chrato(14) = 'M3.90/M3.79 = 1.58 +- 0.16'\n",
    "nomit= 12\n",
    "chomit= '-CrCH2' 'Gua' 'Ser' 'Lip13a' 'Lip13b' 'Lip09' 'MM09' 'Lip20' 'MM20' 'MM12' 'MM14' 'MM17'\n",
    "chcomb= 'GPC+PCho'\n",
    "FILBAS='{basis}'\n",
    "FILRAW='{filename}.raw'\n",
    "LTABLE=7, FILTAB='{filename}/{filename}.table'\n",
    "FILPS='{filename}.ps'\n",
    "LCSV=11, FILCSV='{filename}/{filename}.csv'\n",
    "LCOORD=9, FILCOO='{filename}/{filename}.coord'\n",
    "LPRINT=6, FILPRI='{filename}/{filename}.print'\n",
    "LCORAW=10, FILCOR='{filename}/{filename}.coraw'\n",
    "filh2o='{water}'\n",
    "$END'''"
   ]
  },
  {
   "cell_type": "code",
   "execution_count": null,
   "id": "6c88f907-17c3-4b09-a90e-d9b13a1fda49",
   "metadata": {},
   "outputs": [],
   "source": [
    "os.makedirs"
   ]
  },
  {
   "cell_type": "code",
   "execution_count": null,
   "id": "f198e1e1-3a66-48ce-a37d-3bf6975ef813",
   "metadata": {
    "tags": []
   },
   "outputs": [],
   "source": [
    "for n,i in enumerate(fullspecs):\n",
    "    control_name = i.replace('derivatives/suspect_preprocessing', 'derivatives/PRaMM1_23').replace('.raw', '_PRaMM1.control')\n",
    "    print(control_name)\n",
    "    file_name = os.path.basename(i).rstrip('.raw')\n",
    "    sub=file_name.split('_')[0]\n",
    "    roi=file_name.split('_')[2]\n",
    "    #print(file_name)\n",
    "    print(control_name.replace('_PRaMM1.control',''))\n",
    "    with open(control_name, 'w') as ctrl:\n",
    "        ctrl.write(pramm_control.format(basis=basis, \n",
    "                                        filename=file_name,\n",
    "                                        water=os.path.basename(water[n]),\n",
    "                                        sub=sub,\n",
    "                                        roi=roi,\n",
    "                                       atth2o=fracs[sub][roi.split('-')[-1]]['atth2o'],\n",
    "                                       h2oconc=fracs[sub][roi.split('-')[-1]]['H2O']))"
   ]
  },
  {
   "cell_type": "code",
   "execution_count": null,
   "id": "5ff015f0-5f34-492a-a569-d3cc3f1e6377",
   "metadata": {},
   "outputs": [],
   "source": [
    "import subprocess"
   ]
  },
  {
   "cell_type": "code",
   "execution_count": null,
   "id": "72c79882-bad2-43c7-bb60-d79fdbc13730",
   "metadata": {},
   "outputs": [],
   "source": [
    "import sys\n",
    "sys.path.append('/home/orco/data/MacroMols/MRS/MRSpype')\n",
    "from mrspype.utils import utils"
   ]
  },
  {
   "cell_type": "code",
   "execution_count": null,
   "id": "4f806b23-8924-40c3-b0ae-68bb5087b6a3",
   "metadata": {},
   "outputs": [],
   "source": []
  },
  {
   "cell_type": "code",
   "execution_count": null,
   "id": "cd8217ce-6aba-4072-8fa0-d728ffc98791",
   "metadata": {},
   "outputs": [],
   "source": []
  },
  {
   "cell_type": "code",
   "execution_count": null,
   "id": "457ee532-4f5f-4ce1-91df-a0af334d6a2a",
   "metadata": {},
   "outputs": [],
   "source": [
    "spec_ctrls = '/home/orco/data/MacroMols/MRS/MacroMols_7T/derivatives/PRaMM1_23/sub-*/mrs/sub-*_nuc-1H_loc-*_spec-lr-special*hlsvd*_PRaMM1.control'"
   ]
  },
  {
   "cell_type": "code",
   "execution_count": null,
   "id": "299d70c6-b404-4a29-b983-910a9467bfa5",
   "metadata": {},
   "outputs": [],
   "source": [
    "spec_ctrls = glob.glob(spec_ctrls)"
   ]
  },
  {
   "cell_type": "code",
   "execution_count": null,
   "id": "a28996a7-3a55-4299-88ac-0405bd0181f0",
   "metadata": {},
   "outputs": [],
   "source": [
    "spec_ctrls"
   ]
  },
  {
   "cell_type": "code",
   "execution_count": null,
   "id": "86c90afd-0fd4-494b-bc47-010658f90112",
   "metadata": {},
   "outputs": [],
   "source": [
    "len(spec_ctrls)"
   ]
  },
  {
   "cell_type": "code",
   "execution_count": null,
   "id": "a392d9c9-7bc4-488b-92cf-5a3bec5f1865",
   "metadata": {},
   "outputs": [],
   "source": [
    "curr_dir = os.getcwd()\n",
    "curr_dir"
   ]
  },
  {
   "cell_type": "code",
   "execution_count": null,
   "id": "50d57929-9dae-4193-b866-279b70fde30a",
   "metadata": {},
   "outputs": [],
   "source": [
    "from joblib import Parallel, delayed\n",
    "\n",
    "def lcm(i):\n",
    "    print(i)\n",
    "    dirname = os.path.dirname(i)\n",
    "    print(dirname)\n",
    "    os.chdir(dirname)\n",
    "    #print(os.getcwd())\n",
    "    os.makedirs(i.replace('_PRaMM1.control',''), exist_ok=True)\n",
    "    print(i.replace('_PRaMM1.control',''))\n",
    "    proc = subprocess.run('/home/orco/.lcmodel/bin/lcmodel < {filename}'.format(filename=os.path.basename(i)), shell=True, check=True, capture_output=True)\n",
    "    print(proc)\n",
    "    \n",
    "\n",
    "\n",
    "Parallel(n_jobs=32)(delayed(lcm)(i) for i in spec_ctrls)"
   ]
  },
  {
   "cell_type": "code",
   "execution_count": null,
   "id": "e481f242-f75a-4a29-a4d0-50a9576be66b",
   "metadata": {
    "tags": []
   },
   "outputs": [],
   "source": [
    "# for i in spec_ctrls:\n",
    "#     print(i)\n",
    "#     dirname = os.path.dirname(i)\n",
    "#     print(dirname)\n",
    "#     os.chdir(dirname)\n",
    "#     #print(os.getcwd())\n",
    "#     os.makedirs(i.replace('_PRaMM.control',''), exist_ok=True)\n",
    "#     print(i.replace('_PRaMM.control',''))\n",
    "#     proc = subprocess.run('/home/orco/.lcmodel/bin/lcmodel < {filename}'.format(filename=os.path.basename(i)), shell=True, check=True, capture_output=True)\n",
    "#     print(proc)\n",
    "    \n"
   ]
  },
  {
   "cell_type": "code",
   "execution_count": null,
   "id": "3943e596-7dd6-4582-baf4-fb2d5ace0394",
   "metadata": {},
   "outputs": [],
   "source": [
    "import importlib\n",
    "importlib.reload(utils)"
   ]
  },
  {
   "cell_type": "code",
   "execution_count": null,
   "id": "bb33add4-db91-4a05-95a1-3ad32b9a51a1",
   "metadata": {},
   "outputs": [],
   "source": [
    "help(utils)"
   ]
  },
  {
   "cell_type": "code",
   "execution_count": null,
   "id": "9123e22c-adf6-481e-8a5e-c7b1c36596cc",
   "metadata": {},
   "outputs": [],
   "source": [
    "from matplotlib import pyplot as plt"
   ]
  },
  {
   "cell_type": "code",
   "execution_count": null,
   "id": "34dbbe95-8d70-43a6-9191-1466e370b8e1",
   "metadata": {
    "tags": []
   },
   "outputs": [],
   "source": [
    "fullspecs"
   ]
  },
  {
   "cell_type": "code",
   "execution_count": null,
   "id": "0a28dfcf-518e-4c95-a72f-856640a8556e",
   "metadata": {},
   "outputs": [],
   "source": [
    "fullspecs = [i.replace('derivatives/LC_Model', 'derivatives/PRaMM1_23') for i in fullspecs]"
   ]
  },
  {
   "cell_type": "code",
   "execution_count": null,
   "id": "81cd5f6d-2b92-489d-991b-46aade03bff9",
   "metadata": {},
   "outputs": [],
   "source": []
  },
  {
   "cell_type": "code",
   "execution_count": null,
   "id": "de5ea056-e84e-4078-89b8-a373b17d645f",
   "metadata": {},
   "outputs": [],
   "source": [
    "coords_pramm = glob.glob('/home/orco/data/MacroMols/MRS/MacroMols_7T/derivatives/PRaMM1_23/sub-*/mrs/sub-*_nuc-1H_loc-*_spec-lr-special*hlsvd/*.coord')"
   ]
  },
  {
   "cell_type": "code",
   "execution_count": null,
   "id": "060f9e2f-574d-4409-85de-c66167ee34c9",
   "metadata": {
    "tags": []
   },
   "outputs": [],
   "source": [
    "coords_pramm"
   ]
  },
  {
   "cell_type": "code",
   "execution_count": null,
   "id": "42c5d177-1e17-45c3-bb55-5f8c704eba58",
   "metadata": {},
   "outputs": [],
   "source": []
  },
  {
   "cell_type": "code",
   "execution_count": null,
   "id": "0cb06934-66e5-4aba-871a-01e767bbfb69",
   "metadata": {},
   "outputs": [],
   "source": [
    "len(coords_pramm)"
   ]
  },
  {
   "cell_type": "code",
   "execution_count": null,
   "id": "beef661c-baba-4297-b390-b260b3133c6d",
   "metadata": {},
   "outputs": [],
   "source": [
    "coords_scm = glob.glob('/home/orco/data/MacroMols/MRS/MacroMols_7T/derivatives/SCM/sub-*/mrs/sub-*_nuc-1H_loc-*_spec-lr-special*/sub-*_nuc-1H_loc-*_spec-lr-special*hlsvd*.coord')"
   ]
  },
  {
   "cell_type": "code",
   "execution_count": null,
   "id": "c4775493-db57-498f-b3d4-4572e90ab7d9",
   "metadata": {},
   "outputs": [],
   "source": [
    "coords_scm"
   ]
  },
  {
   "cell_type": "code",
   "execution_count": null,
   "id": "87899f7a-45b6-496e-a7a3-d16a80ac2247",
   "metadata": {},
   "outputs": [],
   "source": [
    "len(coords_scm)"
   ]
  },
  {
   "cell_type": "code",
   "execution_count": null,
   "id": "c80f3206-0b20-48d3-b590-8f4cfda02822",
   "metadata": {},
   "outputs": [],
   "source": [
    "#coords_sub = glob.glob('/home/orco/data/MacroMols/MRS/MacroMols_7T/derivatives/IMNS/sub-*/mrs/sub-*_nuc-1H_loc-*_spec-lr-special*/sub-*_nuc-1H_loc-*_spec-lr-special*.coord')\n",
    "coords_sub = [i.replace('SCM','IMNS').replace('lr-specialavg_ecc_hlsvd','lr-special_subtracted') for i in coords_scm]"
   ]
  },
  {
   "cell_type": "code",
   "execution_count": null,
   "id": "29d0f1b3-c7f3-44ff-8606-c7c63e2d5517",
   "metadata": {},
   "outputs": [],
   "source": [
    "len(coords_sub)"
   ]
  },
  {
   "cell_type": "code",
   "execution_count": null,
   "id": "3811bcd0-e3f9-4381-a817-d377d54a805a",
   "metadata": {},
   "outputs": [],
   "source": [
    "import glob\n",
    "import os\n",
    "import pandas as pd\n",
    "import numpy as np\n",
    "import suspect\n",
    "import parsley\n",
    "import seaborn as sns\n",
    "import matplotlib.pyplot as plt\n",
    "#plt.rcParams['figure.figsize'] = [10, 7]"
   ]
  },
  {
   "cell_type": "code",
   "execution_count": null,
   "id": "4ec1c8e1-33b8-4170-aa80-cb909a7803f2",
   "metadata": {},
   "outputs": [],
   "source": [
    "basis_grammar = r\"\"\"\n",
    "namelist = '$' name:n pairs:p ws -> (n, dict(p))\n",
    "pairs = (pair:first (pair)*:rest -> [first] + rest) | -> []\n",
    "pair = ws name:k ws '=' ws valuelist:v ws ','? -> (k.upper(), v)\n",
    "valuelist = ws (stringlist|numberlist|truth|falsehood):v -> v\n",
    "truth = 'T' -> True\n",
    "falsehood = 'F' -> False\n",
    "stringlist = (string:first (ws string)+:rest -> [first] + rest) | string\n",
    "string = '\\'' (~'\\'' anything)*:c '\\'' -> ''.join(c).strip()\n",
    "numberlist = (number:first (ws number)+:rest -> [first] + rest) | number\n",
    "number = ('-' | -> ''):sign (digits:ds (floatPart(sign ds) | -> int(sign + ds)))\n",
    "digits = <digit+>\n",
    "name = <letter (letter | digit | '_')*>\n",
    "floatPart :sign :ds = <('.' digits? exponent?) | exponent>:tail -> float(sign + ds + tail)\n",
    "exponent = ('e' | 'E') ('+' | '-')? digits\n",
    "\"\"\"\n",
    "\n",
    "parser = parsley.makeGrammar(basis_grammar, {})\n"
   ]
  },
  {
   "cell_type": "code",
   "execution_count": null,
   "id": "a07ac232-cef8-4d49-bc62-da6f7c8aab74",
   "metadata": {},
   "outputs": [],
   "source": [
    "def read_svs_raw(raw_path):\n",
    "    with open(raw_path,'r') as fin:\n",
    "        data = fin.read().lstrip()\n",
    "        raw = dict()\n",
    "        while data.startswith('$'):\n",
    "            namelist_data, _, data = data.partition('$END')\n",
    "            namelist = parser(namelist_data).namelist()\n",
    "            raw[namelist[0]] = namelist[1]\n",
    "            data = data.lstrip()\n",
    "            if namelist[0].upper() == 'NMID':\n",
    "                #then is the last section and the time domain data begin\n",
    "                data = [i.lstrip().split() for i in data.split('\\n') if i]\n",
    "                iterable = (complex(float(i[0]),float(i[1])) for i in data)\n",
    "                raw['time_domain'] = np.fromiter(iterable, 'complex64', len(data))\n",
    "                #data is not anymore string\n",
    "                break\n",
    "    raw['freq_domain'] = np.fft.fftshift(np.fft.fft(raw['time_domain'], axis=-1), axes=-1)\n",
    "    \n",
    "    return raw\n",
    "\n",
    "def scale_dbn(data, baseline, fit):\n",
    "    from sklearn.preprocessing import MinMaxScaler\n",
    "    noise = np.array(data) - np.array(fit)\n",
    "    scaler = MinMaxScaler()\n",
    "    scaler.fit(np.array(data).reshape(-1,1))\n",
    "    new_data = scaler.transform(np.array(data).reshape(-1,1))[:,0]\n",
    "    new_baseline = scaler.transform(np.array(baseline).reshape(-1,1))[:,0]\n",
    "    new_noise = scaler.transform(noise.reshape(-1,1))[:,0]\n",
    "    return new_data, new_baseline, new_noise\n",
    "    \n",
    "def scale_01(data):\n",
    "    from sklearn.preprocessing import MinMaxScaler\n",
    "    scaler = MinMaxScaler()\n",
    "    scaler.fit(np.array(data).reshape(-1,1))\n",
    "    return scaler.transform(np.array(data).reshape(-1,1))[:,0]"
   ]
  },
  {
   "cell_type": "code",
   "execution_count": null,
   "id": "97b18bdd-5b53-4288-8771-9d2df82b6581",
   "metadata": {},
   "outputs": [],
   "source": [
    "def scaled_raw_pure_noise(raw_path):\n",
    "    # Read RAW\n",
    "    # Scale the real part of frequency domain to 0 to 1\n",
    "    # Return the variance of pure noise, points between +- -1 to 0 ppm (points 2750 to 3250)\n",
    "    return scale_01(read_svs_raw(raw_path)['freq_domain'].real)[2750:3500]\n",
    "    \n",
    "def get_fit_rest(coord):\n",
    "    c = suspect.io.lcmodel.read_coord(coord)\n",
    "    _, bl, fit_noise = scale_dbn(c['data'], c['baseline'], c['fit'])\n",
    "    return bl + fit_noise\n",
    "\n",
    "def get_fit_noise(coord):\n",
    "    c = suspect.io.lcmodel.read_coord(coord)\n",
    "    _, _, fit_noise = scale_dbn(c['data'], c['baseline'], c['fit'])\n",
    "    return fit_noise\n",
    "\n",
    "\n",
    "def get_fqn(fit_rest, pure_noise):\n",
    "    return np.var(fit_rest)/np.var(pure_noise)"
   ]
  },
  {
   "cell_type": "code",
   "execution_count": null,
   "id": "a5c7e3b9-44ad-4804-b91e-403856fc4a27",
   "metadata": {},
   "outputs": [],
   "source": [
    "full_raws = '/home/orco/data/MacroMols/MRS/MacroMols_7T/derivatives/SCM/sub-*/mrs/sub-*_nuc-1H_loc-*_spec-lr-specialavg_ecc_hlsvd.raw'\n",
    "full_raws = glob.glob(full_raws)\n",
    "#full_raws"
   ]
  },
  {
   "cell_type": "code",
   "execution_count": null,
   "id": "9a3efc2b-5c52-4be7-86ca-bb004438fb99",
   "metadata": {},
   "outputs": [],
   "source": [
    "var_scaled_raw_pure_noise = [np.var(scaled_raw_pure_noise(i)) for i in full_raws]"
   ]
  },
  {
   "cell_type": "code",
   "execution_count": null,
   "id": "0fcd032e-a775-4ce0-9869-94d6d9387e06",
   "metadata": {},
   "outputs": [],
   "source": [
    "def get_fit_rest(coord):\n",
    "    c = suspect.io.lcmodel.read_coord(coord)\n",
    "    _, bl, fit_noise = scale_dbn(c['data'][350:], c['baseline'][350:], c['fit'][350:])\n",
    "    return  bl #+fit_noise #bl + "
   ]
  },
  {
   "cell_type": "code",
   "execution_count": null,
   "id": "21b798f8-b626-42d8-8c4f-cb1e29ce2f71",
   "metadata": {},
   "outputs": [],
   "source": []
  },
  {
   "cell_type": "code",
   "execution_count": null,
   "id": "14911399-1495-4698-b0f2-14108d32a28f",
   "metadata": {},
   "outputs": [],
   "source": [
    "#fit_rest_1 = [np.var(get_fit_rest(i)) for i in coords_pramm]\n",
    "#fit_rest_125 = [np.var(get_fit_rest(i)) for i in coords_pramm025]\n",
    "#fit_rest_2 = [np.var(get_fit_rest(i)) for i in coords_scm]\n",
    "#fit_rest_3 = [np.var(get_fit_rest(i)) for i in coords_sub]"
   ]
  },
  {
   "cell_type": "code",
   "execution_count": null,
   "id": "3989e444-bd6f-412b-8d03-9eaf09e1fc7f",
   "metadata": {},
   "outputs": [],
   "source": [
    "len(coords_scm)"
   ]
  },
  {
   "cell_type": "code",
   "execution_count": null,
   "id": "ec1b8e9f-66c8-48a4-a85d-e52c1ae82bab",
   "metadata": {
    "tags": []
   },
   "outputs": [],
   "source": [
    "fit_rest_3 = list()\n",
    "for i in coords_sub:\n",
    "    #print(i)\n",
    "    try:\n",
    "        r = np.var(get_fit_rest(i))\n",
    "    except:\n",
    "        print(i)\n",
    "        r = np.nan\n",
    "    fit_rest_3.append(r)"
   ]
  },
  {
   "cell_type": "code",
   "execution_count": null,
   "id": "3a9bf8bd-263a-4ff6-88bd-28b153d541ad",
   "metadata": {},
   "outputs": [],
   "source": [
    "fit_rest_3"
   ]
  },
  {
   "cell_type": "code",
   "execution_count": null,
   "id": "deb0c3a3-ea78-49dc-a13b-d330ad7780ed",
   "metadata": {},
   "outputs": [],
   "source": [
    "fit_rest_1 = list()\n",
    "for i in coords_pramm:\n",
    "    try:\n",
    "        r = np.var(get_fit_rest(i))\n",
    "    except:\n",
    "        r = np.nan\n",
    "        print(i)\n",
    "    fit_rest_1.append(r)"
   ]
  },
  {
   "cell_type": "code",
   "execution_count": null,
   "id": "f504bd33-0418-4098-98dd-028f3acc68f9",
   "metadata": {},
   "outputs": [],
   "source": [
    "fit_rest_2 = list()\n",
    "for i in coords_scm:\n",
    "    try:\n",
    "        r = np.var(get_fit_rest(i))\n",
    "    except Exception as e:\n",
    "        r = np.nan\n",
    "        print(i, e)\n",
    "    fit_rest_2.append(r)"
   ]
  },
  {
   "cell_type": "code",
   "execution_count": null,
   "id": "54d1c299-77e5-4253-8a7b-fa0c111377d4",
   "metadata": {},
   "outputs": [],
   "source": [
    "# fit_rest_125 = list()\n",
    "# for i in coords_pramm025:\n",
    "#     try:\n",
    "#         r = np.var(get_fit_rest(i))\n",
    "#     except:\n",
    "#         r = np.nan\n",
    "#         print(i)\n",
    "#     fit_rest_125.append(r)"
   ]
  },
  {
   "cell_type": "code",
   "execution_count": null,
   "id": "4fef9758-b127-4c9d-ab79-21e424c891fe",
   "metadata": {},
   "outputs": [],
   "source": [
    "np.array(fit_rest_2)"
   ]
  },
  {
   "cell_type": "code",
   "execution_count": null,
   "id": "8699dd2e-40ce-41d5-a672-71bc99ec702a",
   "metadata": {},
   "outputs": [],
   "source": [
    "fqn_1 = np.array(fit_rest_1) / np.array(var_scaled_raw_pure_noise)\n",
    "fqn_2 = np.array(fit_rest_2) / np.array(var_scaled_raw_pure_noise)\n",
    "fqn_3 = np.array(fit_rest_3) / np.array(var_scaled_raw_pure_noise)"
   ]
  },
  {
   "cell_type": "code",
   "execution_count": null,
   "id": "30b47e9f-5632-418f-b7ba-5b4f9b8c8005",
   "metadata": {},
   "outputs": [],
   "source": [
    "fqn_df = pd.DataFrame.from_dict({'pramm':fqn_1,\n",
    "                                 'scm': fqn_2,\n",
    "                                'imns': fqn_3})"
   ]
  },
  {
   "cell_type": "code",
   "execution_count": null,
   "id": "46c6e34b-6b97-4ca7-b5b9-3c0dd30d3331",
   "metadata": {},
   "outputs": [],
   "source": [
    "sns.boxplot(y = 'value',x = 'variable',  data = pd.melt(fqn_df), palette = 'coolwarm').set_title('FQN baseline + noise')"
   ]
  },
  {
   "cell_type": "code",
   "execution_count": null,
   "id": "11628ac3-7211-4076-b733-3325fc42680f",
   "metadata": {},
   "outputs": [],
   "source": [
    "def get_fit_restn(coord):\n",
    "    c = suspect.io.lcmodel.read_coord(coord)\n",
    "    _, bl, fit_noise = scale_dbn(c['data'][350:], c['baseline'][350:], c['fit'][350:])\n",
    "    return  fit_noise #bl + "
   ]
  },
  {
   "cell_type": "code",
   "execution_count": null,
   "id": "530cb4d8-fdaa-456c-aa65-53e6fa92a934",
   "metadata": {
    "tags": []
   },
   "outputs": [],
   "source": [
    "# fit_rest_1n = [np.var(get_fit_restn(i)) for i in coords_pramm]\n",
    "# fit_rest_125n = [np.var(get_fit_restn(i)) for i in coords_pramm025]\n",
    "# fit_rest_2n = [np.var(get_fit_restn(i)) for i in coords_scm]\n",
    "# fit_rest_3n = [np.var(get_fit_restn(i)) for i in coords_sub]"
   ]
  },
  {
   "cell_type": "code",
   "execution_count": null,
   "id": "099eb1b6-c6f7-4bbd-b4a8-22bcec200665",
   "metadata": {},
   "outputs": [],
   "source": [
    "fit_rest_1n = list()\n",
    "for i in coords_pramm:\n",
    "    try:\n",
    "        r = np.var(get_fit_restn(i))\n",
    "    except:\n",
    "        r = np.nan\n",
    "        print(i)\n",
    "    fit_rest_1n.append(r)"
   ]
  },
  {
   "cell_type": "code",
   "execution_count": null,
   "id": "61ae9c0c-3d06-4326-9646-01fb1a7a7424",
   "metadata": {},
   "outputs": [],
   "source": [
    "# fit_rest_125n = list()\n",
    "# for i in coords_pramm025:\n",
    "#     try:\n",
    "#         r = np.var(get_fit_restn(i))\n",
    "#     except:\n",
    "#         r = np.nan\n",
    "#         print(i)\n",
    "#     fit_rest_125n.append(r)"
   ]
  },
  {
   "cell_type": "code",
   "execution_count": null,
   "id": "cc18801f-9c0e-41a8-ba49-ef3028c973be",
   "metadata": {},
   "outputs": [],
   "source": [
    "fit_rest_2n = list()\n",
    "for i in coords_scm:\n",
    "    try:\n",
    "        r = np.var(get_fit_restn(i))\n",
    "    except:\n",
    "        r = np.nan\n",
    "        print(i)\n",
    "    fit_rest_2n.append(r)"
   ]
  },
  {
   "cell_type": "code",
   "execution_count": null,
   "id": "e5dd9438-0d95-40be-a97f-68be0fa51a2f",
   "metadata": {},
   "outputs": [],
   "source": [
    "fit_rest_3n = list()\n",
    "for i in coords_sub:\n",
    "    try:\n",
    "        r = np.var(get_fit_restn(i))\n",
    "    except:\n",
    "        r = np.nan\n",
    "        print(i)\n",
    "    fit_rest_3n.append(r)"
   ]
  },
  {
   "cell_type": "code",
   "execution_count": null,
   "id": "1f77a8c5-6e66-46b3-a9d8-822be8db4cf4",
   "metadata": {
    "tags": []
   },
   "outputs": [],
   "source": [
    "fqn_1n = np.array(fit_rest_1n) / np.array(var_scaled_raw_pure_noise)\n",
    "fqn_2n = np.array(fit_rest_2n) / np.array(var_scaled_raw_pure_noise)\n",
    "fqn_3n = np.array(fit_rest_3n) / np.array(var_scaled_raw_pure_noise)"
   ]
  },
  {
   "cell_type": "code",
   "execution_count": null,
   "id": "a263585a-0658-4ebb-b6ab-5824f32a500c",
   "metadata": {},
   "outputs": [],
   "source": []
  },
  {
   "cell_type": "code",
   "execution_count": null,
   "id": "ddfc6be8-77ff-4966-81ff-6c45a7446f48",
   "metadata": {},
   "outputs": [],
   "source": [
    "fqn_dfn = pd.DataFrame.from_dict({'pramm':fqn_1n,\n",
    "                                 'scm': fqn_2n,\n",
    "                                 'imns': fqn_3n})\n",
    "sns.boxplot(y = 'value',x = 'variable',  data = pd.melt(fqn_dfn), palette = 'coolwarm').set_title('FQN_noise_only')"
   ]
  },
  {
   "cell_type": "code",
   "execution_count": null,
   "id": "c6565a35-7d96-4d79-a2f3-17bcc48abf26",
   "metadata": {},
   "outputs": [],
   "source": [
    "coords_pramm[0]"
   ]
  },
  {
   "cell_type": "code",
   "execution_count": null,
   "id": "2ffb879a-5594-4c36-9803-204cb8bac044",
   "metadata": {},
   "outputs": [],
   "source": [
    "sids = [i.split('/')[-4] for i in coords_pramm]\n",
    "sids"
   ]
  },
  {
   "cell_type": "code",
   "execution_count": null,
   "id": "ef13c9c2-5840-490f-8a74-f457b604d811",
   "metadata": {},
   "outputs": [],
   "source": [
    "locs = [i.split('_')[-4].split('-')[1] for i in coords_pramm]\n",
    "locs"
   ]
  },
  {
   "cell_type": "code",
   "execution_count": null,
   "id": "64cf4a40-6cc6-43b4-badf-6f394c3d3f2a",
   "metadata": {},
   "outputs": [],
   "source": []
  },
  {
   "cell_type": "code",
   "execution_count": null,
   "id": "c85239bb-cd92-4215-b2c3-a77e97d46c53",
   "metadata": {},
   "outputs": [],
   "source": [
    "stats.ttest_rel(fqn_1, fqn_2)"
   ]
  },
  {
   "cell_type": "code",
   "execution_count": null,
   "id": "12b5898c-330d-4893-9572-16c358e44020",
   "metadata": {},
   "outputs": [],
   "source": [
    "stats.ttest_rel(fqn_1, fqn_2)"
   ]
  },
  {
   "cell_type": "code",
   "execution_count": null,
   "id": "854cf2bb-1b29-4ba5-ad00-270deaf6c9d8",
   "metadata": {},
   "outputs": [],
   "source": [
    "fqn_df\n",
    "fqn_df['sids'] = sids"
   ]
  },
  {
   "cell_type": "code",
   "execution_count": null,
   "id": "5e781d8f-987c-4a1e-9ff4-de7eeb29f55e",
   "metadata": {},
   "outputs": [],
   "source": [
    "fqn_df"
   ]
  },
  {
   "cell_type": "code",
   "execution_count": null,
   "id": "ecb1e7fd-5c3f-4d24-a092-e8ebc281a369",
   "metadata": {},
   "outputs": [],
   "source": [
    "#fqn_df['sub'] = list(fqn_df['sub'].iloc[1:3]) + [np.nan] + list(fqn_df['sub'].iloc[3:])\n"
   ]
  },
  {
   "cell_type": "code",
   "execution_count": null,
   "id": "2e98e47a-ab16-4e0d-8d67-e0a8de503105",
   "metadata": {},
   "outputs": [],
   "source": [
    "fqn_df['metric'] = 'FQN_noise_and_BL'\n",
    "fqn_df['location'] = locs\n",
    "fqn_df"
   ]
  },
  {
   "cell_type": "code",
   "execution_count": null,
   "id": "44ca2454-5314-4a28-b40f-162897100dcf",
   "metadata": {},
   "outputs": [],
   "source": [
    "#fqn_dfn['sub'] = list(fqn_dfn['sub'].iloc[1:3]) + [np.nan] + list(fqn_dfn['sub'].iloc[3:])\n",
    "fqn_dfn['metric'] = 'FQN_noise'\n",
    "fqn_dfn['location'] = locs\n",
    "fqn_dfn"
   ]
  },
  {
   "cell_type": "code",
   "execution_count": null,
   "id": "85d5b58d-49bd-4db8-8a77-c9c0df99cbe4",
   "metadata": {},
   "outputs": [],
   "source": [
    "fqn_dfn\n",
    "fqn_dfn['sids'] = sids"
   ]
  },
  {
   "cell_type": "code",
   "execution_count": null,
   "id": "02f429f4-48e8-4064-bf70-1d278587af77",
   "metadata": {
    "tags": []
   },
   "outputs": [],
   "source": [
    "df = pd.concat([fqn_dfn, fqn_df])\n",
    "df"
   ]
  },
  {
   "cell_type": "code",
   "execution_count": null,
   "id": "253d26f4-436d-443c-94ce-ded912372424",
   "metadata": {},
   "outputs": [],
   "source": [
    "len(sids)"
   ]
  },
  {
   "cell_type": "code",
   "execution_count": null,
   "id": "f11c8e02-7ff2-4692-ab67-4c474b4a2203",
   "metadata": {},
   "outputs": [],
   "source": [
    "def fwhm(i):\n",
    "    try:\n",
    "        return suspect.io.lcmodel.read_coord(i)['misc_output']['fwhm']\n",
    "    except:\n",
    "        return np.nan\n",
    "    \n",
    "fwhm_df = pd.DataFrame.from_dict({'pramm':[fwhm(i) for i in coords_pramm],\n",
    "                                 'scm': [fwhm(i) for i in coords_scm],\n",
    "                                 'imns': [fwhm(i) for i in coords_sub]})\n",
    "sns.boxplot(y = 'value',x = 'variable',  data = pd.melt(fwhm_df), palette = 'coolwarm').set_title('fwhm')"
   ]
  },
  {
   "cell_type": "code",
   "execution_count": null,
   "id": "181ae026-8db7-4cfd-b611-e94a5d1d15e5",
   "metadata": {},
   "outputs": [],
   "source": [
    "def snr(i):\n",
    "    try:\n",
    "        return suspect.io.lcmodel.read_coord(i)['misc_output']['snr']\n",
    "    except:\n",
    "        return np.nan\n",
    "snr_df = pd.DataFrame.from_dict({'pramm':[snr(i) for i in coords_pramm],\n",
    "                                 'scm': [snr(i) for i in coords_scm],\n",
    "                                 'imns': [snr(i) for i in coords_sub]})\n",
    "sns.boxplot(y = 'value',x = 'variable',  data = pd.melt(snr_df), palette = 'coolwarm').set_title('snr')\n"
   ]
  },
  {
   "cell_type": "code",
   "execution_count": null,
   "id": "f0edcd63-3bb9-48f4-9f24-1c80a816c205",
   "metadata": {},
   "outputs": [],
   "source": [
    "snr_df"
   ]
  },
  {
   "cell_type": "code",
   "execution_count": null,
   "id": "a58bdb44-ea24-400d-b74b-a7645ad7d0f0",
   "metadata": {
    "tags": []
   },
   "outputs": [],
   "source": [
    "#snr_df['sub'] = list(snr_df['sub'].iloc[1:3]) + [np.nan] + list(snr_df['sub'].iloc[3:])\n",
    "snr_df['metric'] = 'SNR'\n",
    "snr_df['sids'] = sids\n",
    "snr_df['location'] = locs\n",
    "snr_df"
   ]
  },
  {
   "cell_type": "code",
   "execution_count": null,
   "id": "739eebd2-6564-440b-91f4-583066b8877c",
   "metadata": {},
   "outputs": [],
   "source": [
    "df = pd.concat([df, snr_df])\n",
    "df"
   ]
  },
  {
   "cell_type": "code",
   "execution_count": null,
   "id": "d207cfea-c929-4bdc-8b3a-63b9e8af11a9",
   "metadata": {},
   "outputs": [],
   "source": [
    "df2 = df.copy()"
   ]
  },
  {
   "cell_type": "code",
   "execution_count": null,
   "id": "3ccbd208-6f78-4fff-af5b-042367a468d9",
   "metadata": {},
   "outputs": [],
   "source": [
    "#df = df2.copy()"
   ]
  },
  {
   "cell_type": "code",
   "execution_count": null,
   "id": "bf17a16a-66f5-42f9-a378-370b92b87886",
   "metadata": {},
   "outputs": [],
   "source": [
    "coords_pramm[1]"
   ]
  },
  {
   "cell_type": "code",
   "execution_count": null,
   "id": "840e2d57-8e36-4598-b07c-f459a0432038",
   "metadata": {
    "tags": []
   },
   "outputs": [],
   "source": [
    "suspect.io.lcmodel.read_coord(coords_pramm[1])['metabolite_fits']"
   ]
  },
  {
   "cell_type": "code",
   "execution_count": null,
   "id": "0fa2c4b8-48c7-4b5e-b44a-92c528b5f237",
   "metadata": {
    "tags": []
   },
   "outputs": [],
   "source": [
    "met_mm = list(suspect.io.lcmodel.read_coord(coords_pramm[1])['metabolite_fits'].keys())\n",
    "met_mm = [i.lstrip('+').lstrip('-') for i in met_mm]\n",
    "met_mm"
   ]
  },
  {
   "cell_type": "code",
   "execution_count": null,
   "id": "dc71b4c7-fb2a-4349-8dc3-acb06fdbc126",
   "metadata": {},
   "outputs": [],
   "source": [
    "df = df2.copy()\n",
    "#df"
   ]
  },
  {
   "cell_type": "code",
   "execution_count": null,
   "id": "fe7de3a5-6ee4-44f5-aa97-2762cabc0940",
   "metadata": {
    "tags": []
   },
   "outputs": [],
   "source": [
    "met_mm"
   ]
  },
  {
   "cell_type": "code",
   "execution_count": null,
   "id": "bfc4fd0e-69b6-49f3-8fbf-f3a1a1484bba",
   "metadata": {
    "tags": []
   },
   "outputs": [],
   "source": [
    "for j in met_mm:\n",
    "    p = []\n",
    "    p025 = []\n",
    "    s = []\n",
    "    im = []\n",
    "    try:\n",
    "        if j[0] == 'M':\n",
    "            p=list()\n",
    "            for i in coords_pramm:\n",
    "                try:\n",
    "                    m = suspect.io.lcmodel.read_coord(i)['metabolite_fits'][j]['concentration']\n",
    "                except:\n",
    "                    try:\n",
    "                        m=suspect.io.lcmodel.read_coord(i)['metabolite_fits']['+{}'.format(j)]['concentration']\n",
    "                    except:\n",
    "                        try:\n",
    "                            m=suspect.io.lcmodel.read_coord(i)['metabolite_fits']['-{}'.format(j)]['concentration']\n",
    "                        except:\n",
    "                            m=np.nan\n",
    "                p.append(m)\n",
    "        else:\n",
    "            for i in coords_pramm:\n",
    "                try:\n",
    "                    m=suspect.io.lcmodel.read_coord(i)['metabolite_fits'][j]['concentration']\n",
    "                except:\n",
    "                    m=np.nan\n",
    "                p.append(m)\n",
    "    except Exception as e:\n",
    "        print(e)\n",
    "        p = [np.nan] * len(sids)\n",
    "    try:\n",
    "        if j[0] == 'M':\n",
    "            p025=list()\n",
    "            for i in coords_pramm025:\n",
    "                try:\n",
    "                    m025 = suspect.io.lcmodel.read_coord(i)['metabolite_fits'][j]['concentration']\n",
    "                except:\n",
    "                    try:\n",
    "                        m025=suspect.io.lcmodel.read_coord(i)['metabolite_fits']['+{}'.format(j)]['concentration']\n",
    "                    except:\n",
    "                        try:\n",
    "                            m025=suspect.io.lcmodel.read_coord(i)['metabolite_fits']['-{}'.format(j)]['concentration']\n",
    "                        except:\n",
    "                            m025=np.nan\n",
    "                p025.append(m025)\n",
    "        else:\n",
    "            for i in coords_pramm025:\n",
    "                try:\n",
    "                    m=suspect.io.lcmodel.read_coord(i)['metabolite_fits'][j]['concentration']\n",
    "                except:\n",
    "                    m=np.nan\n",
    "                p025.append(m)\n",
    "    except:\n",
    "        p025 = [np.nan] * len(sids)\n",
    "    try:\n",
    "        for i in coords_scm:\n",
    "            try:\n",
    "                m=suspect.io.lcmodel.read_coord(i)['metabolite_fits'][j]['concentration']\n",
    "            except:\n",
    "                m=np.nan\n",
    "            s.append(m)\n",
    "    except:\n",
    "        s = [np.nan] * len(sids)\n",
    "    try:\n",
    "        for i in coords_sub:\n",
    "            try:\n",
    "                m=suspect.io.lcmodel.read_coord(i)['metabolite_fits'][j]['concentration']\n",
    "            except:\n",
    "                m=np.nan\n",
    "            im.append(m)\n",
    "    except:\n",
    "        im = [np.nan] * len(sids)\n",
    "    tmp_df = pd.DataFrame.from_dict({'pramm':p,\n",
    "                                     'scm': s,\n",
    "                                     'imns': im})\n",
    "    #tmp_df['sub'] = list(tmp_df['sub'].iloc[1:3]) + [np.nan] + list(tmp_df['sub'].iloc[3:])\n",
    "    tmp_df['metric'] = 'conc_{}'.format(j)\n",
    "    tmp_df['sids'] = sids\n",
    "    tmp_df['location'] = locs\n",
    "    #print(tmp_df)\n",
    "\n",
    "    df = pd.concat([df, tmp_df])"
   ]
  },
  {
   "cell_type": "code",
   "execution_count": null,
   "id": "cf63497c-254e-432f-8c34-170ca4b33615",
   "metadata": {},
   "outputs": [],
   "source": [
    "df"
   ]
  },
  {
   "cell_type": "code",
   "execution_count": null,
   "id": "22e5724c-3d7a-4ba6-9fac-29f53aa29473",
   "metadata": {},
   "outputs": [],
   "source": [
    "df[(df.metric == 'conc_Cr')]"
   ]
  },
  {
   "cell_type": "code",
   "execution_count": null,
   "id": "daeb7a14-2105-4aba-853b-65dc34346b35",
   "metadata": {
    "tags": []
   },
   "outputs": [],
   "source": [
    "for j in met_mm:\n",
    "    p = []\n",
    "    p025 = []\n",
    "    s = []\n",
    "    im = []\n",
    "    try:\n",
    "        if j[0] == 'M':\n",
    "            p=list()\n",
    "            for i in coords_pramm:\n",
    "                try:\n",
    "                    m = suspect.io.lcmodel.read_coord(i)['metabolite_fits'][j]['sd']\n",
    "                except:\n",
    "                    try:\n",
    "                        m=suspect.io.lcmodel.read_coord(i)['metabolite_fits']['+{}'.format(j)]['sd']\n",
    "                    except:\n",
    "                        try:\n",
    "                            m=suspect.io.lcmodel.read_coord(i)['metabolite_fits']['-{}'.format(j)]['sd']\n",
    "                        except:\n",
    "                            m=np.nan\n",
    "                p.append(m)\n",
    "        else:\n",
    "            for i in coords_pramm:\n",
    "                try:\n",
    "                    m=suspect.io.lcmodel.read_coord(i)['metabolite_fits'][j]['sd']\n",
    "                except:\n",
    "                    m=np.nan\n",
    "                p.append(m)\n",
    "    except Exception as e:\n",
    "        print(e)\n",
    "        p = [np.nan] * len(sids)\n",
    "    try:\n",
    "        if j[0] == 'M':\n",
    "            p025=list()\n",
    "            for i in coords_pramm025:\n",
    "                try:\n",
    "                    m025 = suspect.io.lcmodel.read_coord(i)['metabolite_fits'][j]['sd']\n",
    "                except:\n",
    "                    try:\n",
    "                        m025=suspect.io.lcmodel.read_coord(i)['metabolite_fits']['+{}'.format(j)]['sd']\n",
    "                    except:\n",
    "                        try:\n",
    "                            m025=suspect.io.lcmodel.read_coord(i)['metabolite_fits']['-{}'.format(j)]['sd']\n",
    "                        except:\n",
    "                            m025=np.nan\n",
    "                p025.append(m025)\n",
    "        else:\n",
    "            for i in coords_pramm025:\n",
    "                try:\n",
    "                    m=suspect.io.lcmodel.read_coord(i)['metabolite_fits'][j]['sd']\n",
    "                except:\n",
    "                    m=np.nan\n",
    "                p025.append(m)\n",
    "    except:\n",
    "        p025 = [np.nan] * len(sids)\n",
    "    try:\n",
    "        for i in coords_scm:\n",
    "            try:\n",
    "                m=suspect.io.lcmodel.read_coord(i)['metabolite_fits'][j]['sd']\n",
    "            except:\n",
    "                m=np.nan\n",
    "            s.append(m)\n",
    "    except:\n",
    "        s = [np.nan] * len(sids)\n",
    "    try:\n",
    "        for i in coords_sub:\n",
    "            try:\n",
    "                m=suspect.io.lcmodel.read_coord(i)['metabolite_fits'][j]['sd']\n",
    "            except:\n",
    "                m=np.nan\n",
    "            im.append(m)\n",
    "    except:\n",
    "        im = [np.nan] * len(sids)\n",
    "    tmp_df = pd.DataFrame.from_dict({'pramm':p,\n",
    "                                     'scm': s,\n",
    "                                     'imns': im})\n",
    "    #tmp_df['sub'] = list(tmp_df['sub'].iloc[1:3]) + [np.nan] + list(tmp_df['sub'].iloc[3:])\n",
    "    tmp_df['metric'] = 'CRLB_{}'.format(j)\n",
    "    tmp_df['sids'] = sids\n",
    "    tmp_df['location'] = locs\n",
    "    #print(tmp_df)\n",
    "\n",
    "    df = pd.concat([df, tmp_df])"
   ]
  },
  {
   "cell_type": "code",
   "execution_count": null,
   "id": "95194a9c-6b7d-43f7-9ae2-dcdc1bb2db69",
   "metadata": {},
   "outputs": [],
   "source": [
    "df"
   ]
  },
  {
   "cell_type": "code",
   "execution_count": null,
   "id": "70e35616-331b-4b88-aa27-bf430497807a",
   "metadata": {},
   "outputs": [],
   "source": [
    "df.metric.unique()"
   ]
  },
  {
   "cell_type": "code",
   "execution_count": null,
   "id": "aab34153-3d81-44de-8a8f-5ebf26980a20",
   "metadata": {},
   "outputs": [],
   "source": [
    "df.to_csv('./23_all_metrics_water.csv')"
   ]
  },
  {
   "cell_type": "code",
   "execution_count": null,
   "id": "9bbab78d-55cf-4ec2-8d4b-754a79e417dd",
   "metadata": {},
   "outputs": [],
   "source": [
    "a=\"\"\"relax.Asc   = [1530, 1484, 127, 128]; % This is the average from tNAA, tCr, tCho, Glx, and mI\n",
    "        relax.Asp   = [1530, 1484, 127, 128]; % This is the average from tNAA, tCr, tCho, Glx, and mI\n",
    "        relax.Cr    = [1740, 1780, 107, 107]; % Taken from tCr\n",
    "        relax.GABA  = [1334, 1334, 87, 87]; % Andreychenko et al. (2012) 10.1002/nbm.2997\n",
    "        relax.Glc   = [1530, 1484, 127, 128]; % This is the average from tNAA, tCr, tCho, Glx, and mI\n",
    "        relax.Gln   = [1640, 1740, 107, 107]; %T1 from Mlynarik et al. (2012) 10.1002/mrm.24352 % T2 as Gln\n",
    "        relax.Glu   = [1610, 1750, 107, 117]; % T1 from Mlynarik et al. (2012) 10.1002/mrm.24352, T2 from https://doi.org/10.1371/journal.pone.0215210\n",
    "        relax.Gly   = [1530, 1484, 127, 128]; % This is the average from tNAA, tCr, tCho, Glx, and mI\n",
    "        relax.GPC   = [1510, 1320,  153, 153]; % Taken from tCho\n",
    "        relax.GSH   = [1140, 1060, 79, 79]; % Entire molecule; T1 from Mlynarik et al. (2012) 10.1002/mrm.24352\n",
    "        relax.Lac   = [1530, 1484, 182, 182]; % The use of MEGA-sLASER with J-refocusing echo time extension to measure the proton T2 of lactate in healthy human brain at 7 T ISMRM\n",
    "        relax.mI   = [1280, 1190, 111, 111]; %T1 from Mlynarik et al. (2012) 10.1002/mrm.24352\n",
    "        relax.NAA   = [1780, 1830, 155, 155]; % This is the 2.008 ppm acetyl signal (naa in the paper); aspartyl is naa1: [1310 1310 110 110]; T1 from Mlynarik et al. (2012) 10.1002/mrm.24352\n",
    "        relax.NAAG  = [1210, 940, 155, 155]; % This is the 2.042 ppm acetyl signal (naag in the paper); aspartyl is naag1: [1310 1310 (108+87)/2 180]; % glutamate is NAAG2: [1310 1310 (110+78)/2 157];\n",
    "        relax.PCh   = [1510, 1320,  153, 153]; % Taken from tCho\n",
    "        relax.PCr   = [1740, 1780, 107, 107]; % Taken from tCr\n",
    "        relax.PE    = [1310, 1320, 182, 182]; %T1 from Mlynarik et al. (2012) 10.1002/mrm.24352; No reference values available. T2s copied from Lac (closest match at 3T)\n",
    "        relax.sI   = [1310, 1230, 105, 105]; %T1 from Mlynarik et al. (2012) 10.1002/mrm.24352 T2 from https://onlinelibrary.wiley.com/doi/full/10.1002/mrm.24352\n",
    "        relax.Tau   = [2150, 2090, 97, 97]; %T1 from Mlynarik et al. (2012) 10.1002/mrm.24352 % T2 as Gln\n",
    "        relax.tNAA  = [1495, 1385, 155, 155]; % Mean values from NAA + NAAG\n",
    "        relax.tCr  = [1740, 1780, 107, 107]; % The singlet peak ar 3 ppm. 3.9 ppm peak values are [1240 1190 94 94] %T1 from Mlynarik et al. (2012)\n",
    "        relax.tCho  = [1510, 1320,  153, 153]; % Entire molecule; T1 from Mlynarik et al. (2012) 10.1002/mrm.24352\n",
    "        relax.Glx  = [1625, 1745, 107, 112]; % Mean values from Glu + Glx\"\"\""
   ]
  },
  {
   "cell_type": "code",
   "execution_count": null,
   "id": "43880ac3-ae69-4b88-97ee-1c5d812dae44",
   "metadata": {},
   "outputs": [],
   "source": [
    "l = a.replace('relax.','').replace('= [',',').replace('];',',').split('\\n')"
   ]
  },
  {
   "cell_type": "code",
   "execution_count": null,
   "id": "da240428-6014-4a1f-871d-9707ee82e238",
   "metadata": {},
   "outputs": [],
   "source": [
    "l = [i.split(',') for i in l]\n"
   ]
  },
  {
   "cell_type": "code",
   "execution_count": null,
   "id": "2adc70c9-2538-447b-8c43-0c70e518e13d",
   "metadata": {},
   "outputs": [],
   "source": [
    "ll=[]\n",
    "for i in l:\n",
    "    ll.append([j.rstrip().lstrip() for j in i])"
   ]
  },
  {
   "cell_type": "code",
   "execution_count": null,
   "id": "8e8aeacf-cd00-4534-a762-9c9943186cad",
   "metadata": {},
   "outputs": [],
   "source": [
    "relax_df = pd.DataFrame(ll)"
   ]
  },
  {
   "cell_type": "code",
   "execution_count": null,
   "id": "5e8cdb2f-33d6-4f19-b1f0-c227d5971344",
   "metadata": {},
   "outputs": [],
   "source": [
    "relax_df.columns = [['Metab', 'T1_GM', 'T1_WM', 'T2_GM', 'T2_WM', 'Desc','Desc','Desc','Desc','Desc',]]"
   ]
  },
  {
   "cell_type": "code",
   "execution_count": null,
   "id": "c1f85a1a-e895-44c1-8c67-2f52cc8615a2",
   "metadata": {},
   "outputs": [],
   "source": [
    "relax_df['T1_avg'] = (relax_df.T1_GM.values.reshape(23).astype(np.int64) + relax_df.T1_WM.values.reshape(23).astype(np.int64))/2\n",
    "relax_df['T2_avg'] = (relax_df.T2_GM.values.reshape(23).astype(np.int64) + relax_df.T2_WM.values.reshape(23).astype(np.int64))/2\n",
    "relax_df"
   ]
  },
  {
   "cell_type": "code",
   "execution_count": null,
   "id": "8f2edbbf-5c2a-423b-ab83-1374de153763",
   "metadata": {},
   "outputs": [],
   "source": [
    "relax_df.T1_WM.values.reshape(23).astype(np.int64)"
   ]
  },
  {
   "cell_type": "code",
   "execution_count": null,
   "id": "2b247fa5-ed3c-4ced-a594-febcbd513785",
   "metadata": {},
   "outputs": [],
   "source": []
  },
  {
   "cell_type": "code",
   "execution_count": null,
   "id": "c7f4e616-89ff-4d8b-8b88-baa2a1a6a031",
   "metadata": {
    "tags": []
   },
   "outputs": [],
   "source": [
    "relax_df.to_csv('relax_df.csv')"
   ]
  },
  {
   "cell_type": "code",
   "execution_count": null,
   "id": "4c7d6ea8-32c3-4606-a4f5-2bc8535118bc",
   "metadata": {
    "tags": []
   },
   "outputs": [],
   "source": [
    "relax_dict = pd.read_csv('relax_df.csv').set_index('Metab').to_dict(orient='index')"
   ]
  },
  {
   "cell_type": "code",
   "execution_count": null,
   "id": "74b3752b-0ff9-42d4-ae0c-3e2dc7c0f6f8",
   "metadata": {
    "tags": []
   },
   "outputs": [],
   "source": [
    "#relax_dict"
   ]
  },
  {
   "cell_type": "code",
   "execution_count": null,
   "id": "81f44386-5e53-49ed-a7ee-a72cbbe0622f",
   "metadata": {},
   "outputs": [],
   "source": []
  },
  {
   "cell_type": "code",
   "execution_count": null,
   "id": "688cb6b0-67b2-4b1f-8be2-8b4fa7531b0b",
   "metadata": {
    "tags": []
   },
   "outputs": [],
   "source": [
    "df"
   ]
  },
  {
   "cell_type": "code",
   "execution_count": null,
   "id": "61a43587-1bc2-4ab5-b97e-d36abe32666c",
   "metadata": {},
   "outputs": [],
   "source": [
    "df['CSF'] = [fracs[i][j]['CSF'] for i,j in zip(df.sids,df.location)]\n",
    "df['GM'] = [fracs[i][j]['GM'] for i,j in zip(df.sids,df.location)]\n",
    "df['WM'] = [fracs[i][j]['WM'] for i,j in zip(df.sids,df.location)]"
   ]
  },
  {
   "cell_type": "code",
   "execution_count": null,
   "id": "f7e0ff58-e3b9-48f9-bf95-105fb72a2c98",
   "metadata": {},
   "outputs": [],
   "source": [
    "df['TE']=9\n",
    "df['TR']=6500"
   ]
  },
  {
   "cell_type": "code",
   "execution_count": null,
   "id": "5425406d-8381-4c0b-a55b-32297c3812da",
   "metadata": {},
   "outputs": [],
   "source": [
    "fracs[list(df.sids)[0]][list(df.location)[1]]"
   ]
  },
  {
   "cell_type": "code",
   "execution_count": null,
   "id": "1e08ac8d-75f6-4a48-8f7b-ae523c6957a0",
   "metadata": {},
   "outputs": [],
   "source": [
    "df.metric.unique()"
   ]
  },
  {
   "cell_type": "code",
   "execution_count": null,
   "id": "0917c356-ac66-4d85-971b-18473065ba09",
   "metadata": {},
   "outputs": [],
   "source": [
    "alt_name = ['Asc', 'Asp', 'Cr', 'GABA', 'Glc', 'Gln', 'Glu', 'Gly', 'GPC', 'GSH', 'Lac', 'Ins', 'NAA', 'NAAG', 'PCho', 'PCr', 'PE', 'Scyllo', 'Tau', 'TNAA', 'TCr', 'tCho', 'Glx']"
   ]
  },
  {
   "cell_type": "code",
   "execution_count": null,
   "id": "91d5469b-5212-4266-bc30-5049daea0611",
   "metadata": {
    "tags": []
   },
   "outputs": [],
   "source": [
    "relax_dict"
   ]
  },
  {
   "cell_type": "code",
   "execution_count": null,
   "id": "3dc76e2e-955c-4bc7-9c8c-c33c9c5592bb",
   "metadata": {},
   "outputs": [],
   "source": [
    "relax_dict['TNAA']=relax_dict['tNAA']\n",
    "relax_dict['Ins']=relax_dict['mI']\n",
    "relax_dict['Scyllo']=relax_dict['sI']\n",
    "relax_dict['GPC+PCho']=relax_dict['tCho']\n",
    "relax_dict['NAA+NAAG']=relax_dict['tNAA']\n",
    "relax_dict['TCr']=relax_dict['tCr']\n",
    "relax_dict['PCho']=relax_dict['PCh']"
   ]
  },
  {
   "cell_type": "code",
   "execution_count": null,
   "id": "cc301195-99b4-4d7b-8c34-4d1e4500cd3d",
   "metadata": {
    "tags": []
   },
   "outputs": [],
   "source": [
    "relax_df = pd.DataFrame.from_dict(relax_dict, orient='index').drop(columns=['Unnamed: 0'])\n",
    "relax_df"
   ]
  },
  {
   "cell_type": "code",
   "execution_count": null,
   "id": "63d55461-3915-460c-a51b-f6bbd76cd86c",
   "metadata": {},
   "outputs": [],
   "source": [
    "#relax_df['alt_name'] = alt_name"
   ]
  },
  {
   "cell_type": "code",
   "execution_count": null,
   "id": "6a908b0b-9ae6-4d02-951c-361ce472fd8b",
   "metadata": {},
   "outputs": [],
   "source": [
    "relax_df.to_csv('relax_df.csv')"
   ]
  },
  {
   "cell_type": "code",
   "execution_count": null,
   "id": "138177d3-f8f9-447b-ab55-ed800d26123b",
   "metadata": {},
   "outputs": [],
   "source": [
    "df[(df.metric == 'conc_Asp')]"
   ]
  },
  {
   "cell_type": "code",
   "execution_count": null,
   "id": "b97be583-1bd0-4aff-a39b-f9bd65e4b645",
   "metadata": {},
   "outputs": [],
   "source": [
    "relax_df"
   ]
  },
  {
   "cell_type": "code",
   "execution_count": null,
   "id": "90eeb7a2-bbf4-47c6-a722-6554dea2030d",
   "metadata": {},
   "outputs": [],
   "source": [
    "def corr_csf(c, T1, T2, f_csf, TE, TR):\n",
    "    return c / (np.exp(-TE/T2) * (1-np.exp(-TR/T1))*(1-f_csf))"
   ]
  },
  {
   "cell_type": "code",
   "execution_count": null,
   "id": "f3f8d485-6916-4448-aee9-1b4a253b9e18",
   "metadata": {
    "tags": []
   },
   "outputs": [],
   "source": [
    "for i in [i for i in list(df.metric.unique()) if i.startswith('conc_')]:\n",
    "    alt_i = i.replace('conc_','')\n",
    "    print(i, alt_i)\n",
    "    if alt_i in relax_dict.keys():\n",
    "        print(alt_i)\n",
    "        df_tmp = df[(df.metric == i)]\n",
    "        t1=relax_dict[alt_i]['T1_avg']\n",
    "        t2=relax_dict[alt_i]['T2_avg']\n",
    "        te=9\n",
    "        tr=6500\n",
    "        pramm = df_tmp['pramm'] / (np.exp(-te/t2) * (1-np.exp(-tr/t1))*(1-df_tmp['CSF']))\n",
    "        scm = df_tmp['scm'] / (np.exp(-te/t2) * (1-np.exp(-tr/t1))*(1-df_tmp['CSF']))\n",
    "        imns = df_tmp['imns'] / (np.exp(-te/t2) * (1-np.exp(-tr/t1))*(1-df_tmp['CSF']))\n",
    "        df_tmp = df_tmp.drop(columns = ['pramm', 'scm', 'imns', 'metric'])\n",
    "        df_tmp['pramm'] = pramm\n",
    "        df_tmp['scm'] = scm\n",
    "        df_tmp['imns'] = imns\n",
    "        df_tmp['metric'] = 'abs_{}'.format(i)\n",
    "        df = pd.concat([df, df_tmp])"
   ]
  },
  {
   "cell_type": "code",
   "execution_count": null,
   "id": "a61c0e49-67cd-484d-b950-1c7ae00e9530",
   "metadata": {},
   "outputs": [],
   "source": [
    "relax_dict.keys()"
   ]
  },
  {
   "cell_type": "code",
   "execution_count": null,
   "id": "d08e887b-1132-4f27-a9b4-bf512acb45cb",
   "metadata": {},
   "outputs": [],
   "source": []
  },
  {
   "cell_type": "code",
   "execution_count": null,
   "id": "3b7121e2-d90e-4d84-8afe-ee74361acf84",
   "metadata": {},
   "outputs": [],
   "source": [
    "# for i in [i for i in list(df.metric.unique()) if i.startswith('conc_M')]:\n",
    "#     print(i)\n",
    "#     pramm = df_tmp['pramm'] / (1-df_tmp['CSF'])\n",
    "#     pramm025 = df_tmp['pramm025'] / (1-df_tmp['CSF'])\n",
    "#     scm = df_tmp['scm'] / (1-df_tmp['CSF'])\n",
    "#     imns = df_tmp['imns'] / (1-df_tmp['CSF'])\n",
    "#     df_tmp = df_tmp.drop(columns = ['pramm', 'pramm025', 'scm', 'imns', 'metric'])\n",
    "#     df_tmp['pramm']a = pramm\n",
    "#     df_tmp['pramm025'] = pramm025\n",
    "#     df_tmp['scm'] = scm\n",
    "#     df_tmp['imns'] = imns\n",
    "#     df_tmp['metric'] = 'csfcorr_{}'.format(i)\n",
    "#     df = pd.concat([df, df_tmp])"
   ]
  },
  {
   "cell_type": "code",
   "execution_count": null,
   "id": "4a0a6b4e-a5f8-4976-8cbd-38c11a62e288",
   "metadata": {},
   "outputs": [],
   "source": [
    "df.metric.unique()"
   ]
  },
  {
   "cell_type": "code",
   "execution_count": null,
   "id": "e58c15fa-4963-4fe9-9c48-2a9e43c325b0",
   "metadata": {},
   "outputs": [],
   "source": [
    "df[(df.metric=='abs_conc_PCho')]"
   ]
  },
  {
   "cell_type": "code",
   "execution_count": null,
   "id": "fc423e0e-7d83-46a4-ae23-b5ebce310ee7",
   "metadata": {},
   "outputs": [],
   "source": [
    "df[(df.metric=='abs_conc_GPC')]"
   ]
  },
  {
   "cell_type": "code",
   "execution_count": null,
   "id": "ffc4aa6a-17de-49b5-a8ff-27795cb14126",
   "metadata": {
    "tags": []
   },
   "outputs": [],
   "source": [
    "df_no = df[(df.metric!='abs_conc_GPC+PCho')].copy()"
   ]
  },
  {
   "cell_type": "code",
   "execution_count": null,
   "id": "4d38045d-eb2d-4b2e-8956-2832b234f83f",
   "metadata": {},
   "outputs": [],
   "source": [
    "df_no"
   ]
  },
  {
   "cell_type": "code",
   "execution_count": null,
   "id": "ca917b03-ac4a-407f-b061-856c555796d9",
   "metadata": {},
   "outputs": [],
   "source": [
    "df_tcho = df[(df.metric=='abs_conc_GPC+PCho')].copy()"
   ]
  },
  {
   "cell_type": "code",
   "execution_count": null,
   "id": "26c89d9e-ff52-4824-93be-96fd26b4d172",
   "metadata": {},
   "outputs": [],
   "source": [
    "df_tcho.scm = df[(df.metric=='abs_conc_PCho')].scm + df[(df.metric=='abs_conc_GPC')].scm"
   ]
  },
  {
   "cell_type": "code",
   "execution_count": null,
   "id": "00a42213-3c2f-44c9-a599-00dc3fcc4fad",
   "metadata": {},
   "outputs": [],
   "source": [
    "df_tcho.imns = df[(df.metric=='abs_conc_PCho')].imns + df[(df.metric=='abs_conc_GPC')].imns"
   ]
  },
  {
   "cell_type": "code",
   "execution_count": null,
   "id": "542667ef-ffe5-49e0-b621-adf12dfe6277",
   "metadata": {},
   "outputs": [],
   "source": [
    "df_tcho"
   ]
  },
  {
   "cell_type": "code",
   "execution_count": null,
   "id": "eb256443-d616-4b07-94d2-16ffc5721fb2",
   "metadata": {},
   "outputs": [],
   "source": [
    "df = pd.concat([df_no, df_tcho])"
   ]
  },
  {
   "cell_type": "code",
   "execution_count": null,
   "id": "d925b478-5f30-44cc-a4f5-0ca9b60701c8",
   "metadata": {},
   "outputs": [],
   "source": [
    "df.to_csv('./23_all_metrics_water_abs.csv')"
   ]
  },
  {
   "cell_type": "code",
   "execution_count": null,
   "id": "9199c0fb-f08e-4cbf-8a97-def15657128e",
   "metadata": {},
   "outputs": [],
   "source": [
    "df.head()"
   ]
  },
  {
   "cell_type": "code",
   "execution_count": null,
   "id": "0a71888f-eaa3-409d-afae-e7e41dc3d86b",
   "metadata": {},
   "outputs": [],
   "source": [
    "#df"
   ]
  },
  {
   "cell_type": "code",
   "execution_count": null,
   "id": "ea35d378-f2e2-4807-9546-9304eb69d9a5",
   "metadata": {},
   "outputs": [],
   "source": []
  },
  {
   "cell_type": "code",
   "execution_count": null,
   "id": "0d54172c-27d4-4650-a540-f87118be93a9",
   "metadata": {},
   "outputs": [],
   "source": []
  },
  {
   "cell_type": "code",
   "execution_count": null,
   "id": "74ebb7fe-89a8-41dc-ae5d-2b0cd0500a38",
   "metadata": {},
   "outputs": [],
   "source": []
  },
  {
   "cell_type": "code",
   "execution_count": null,
   "id": "ad14b7c3-ee44-4859-971b-ca87ff2b738e",
   "metadata": {},
   "outputs": [],
   "source": []
  }
 ],
 "metadata": {
  "kernelspec": {
   "display_name": "Python 3 (ipykernel)",
   "language": "python",
   "name": "python3"
  },
  "language_info": {
   "codemirror_mode": {
    "name": "ipython",
    "version": 3
   },
   "file_extension": ".py",
   "mimetype": "text/x-python",
   "name": "python",
   "nbconvert_exporter": "python",
   "pygments_lexer": "ipython3",
   "version": "3.9.15"
  }
 },
 "nbformat": 4,
 "nbformat_minor": 5
}
