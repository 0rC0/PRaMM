{
 "cells": [
  {
   "cell_type": "code",
   "execution_count": 1,
   "metadata": {},
   "outputs": [],
   "source": [
    "# some_file.py\n",
    "import sys\n",
    "# insert at 1, 0 is the script path (or '' in REPL)\n",
    "sys.path.insert(1, '/home/orco/Dokumente/PTB/MRS/MRSproc')\n"
   ]
  },
  {
   "cell_type": "code",
   "execution_count": 2,
   "metadata": {},
   "outputs": [],
   "source": [
    "from mrsproc.preprocess import *\n",
    "import pandas as pd\n",
    "import numpy as np\n",
    "from matplotlib import pyplot as plt\n",
    "import glob\n",
    "import os\n",
    "import suspect\n",
    "import multiprocessing as mp\n",
    "plt.rcParams['figure.figsize'] = [10, 7]"
   ]
  },
  {
   "cell_type": "code",
   "execution_count": 3,
   "metadata": {},
   "outputs": [],
   "source": [
    "mm_files = glob.glob('/home/orco/Dokumente/PTB/MRS/MacroMols_7T/sub-*/mrs/sub-*_nuc-1H_loc-*_spec-ad-special*.dat')"
   ]
  },
  {
   "cell_type": "code",
   "execution_count": 4,
   "metadata": {},
   "outputs": [
    {
     "data": {
      "text/plain": [
       "8"
      ]
     },
     "execution_count": 4,
     "metadata": {},
     "output_type": "execute_result"
    }
   ],
   "source": [
    "len(mm_files)"
   ]
  },
  {
   "cell_type": "code",
   "execution_count": 5,
   "metadata": {},
   "outputs": [
    {
     "data": {
      "text/plain": [
       "['/home/orco/Dokumente/PTB/MRS/MacroMols_7T/sub-702/mrs/sub-702_nuc-1H_loc-acc_spec-ad-special_TI1-800_TI2-42.dat',\n",
       " '/home/orco/Dokumente/PTB/MRS/MacroMols_7T/sub-702/mrs/sub-702_nuc-1H_loc-pcc_spec-ad-special_TI1-800_TI2-42.dat',\n",
       " '/home/orco/Dokumente/PTB/MRS/MacroMols_7T/sub-702/mrs/sub-702_nuc-1H_loc-wm_spec-ad-special_TI1-800_TI2-42.dat',\n",
       " '/home/orco/Dokumente/PTB/MRS/MacroMols_7T/sub-703/mrs/sub-703_nuc-1H_loc-acc_spec-ad-special_TI1-800_TI2-42.dat',\n",
       " '/home/orco/Dokumente/PTB/MRS/MacroMols_7T/sub-703/mrs/sub-703_nuc-1H_loc-pcc_spec-ad-special_TI1-800_TI2-42.dat',\n",
       " '/home/orco/Dokumente/PTB/MRS/MacroMols_7T/sub-703/mrs/sub-703_nuc-1H_loc-wm_spec-ad-special_TI1-800_TI2-42.dat',\n",
       " '/home/orco/Dokumente/PTB/MRS/MacroMols_7T/sub-701/mrs/sub-701_nuc-1H_loc-pcc_spec-ad-special_TI1-800_TI2-42_1.dat',\n",
       " '/home/orco/Dokumente/PTB/MRS/MacroMols_7T/sub-701/mrs/sub-701_nuc-1H_loc-pcc_spec-ad-special_TI1-800_TI2-42_2.dat']"
      ]
     },
     "execution_count": 5,
     "metadata": {},
     "output_type": "execute_result"
    }
   ],
   "source": [
    "mm_files"
   ]
  },
  {
   "cell_type": "code",
   "execution_count": 6,
   "metadata": {},
   "outputs": [],
   "source": [
    "from joblib import Parallel, delayed\n",
    "n_cpu = 4"
   ]
  },
  {
   "cell_type": "code",
   "execution_count": 9,
   "metadata": {},
   "outputs": [
    {
     "name": "stdout",
     "output_type": "stream",
     "text": [
      "CPU times: user 952 ms, sys: 2.42 s, total: 3.38 s\n",
      "Wall time: 29.2 s\n"
     ]
    }
   ],
   "source": [
    "%%time\n",
    "with Parallel(n_jobs=2) as p:\n",
    "    raw = p(delayed(suspect.io.load_twix)(i) for i in mm_files)"
   ]
  },
  {
   "cell_type": "code",
   "execution_count": 10,
   "metadata": {},
   "outputs": [
    {
     "data": {
      "text/plain": [
       "(64, 32, 4096)"
      ]
     },
     "execution_count": 10,
     "metadata": {},
     "output_type": "execute_result"
    }
   ],
   "source": [
    "raw[0].shape"
   ]
  },
  {
   "cell_type": "code",
   "execution_count": 11,
   "metadata": {},
   "outputs": [],
   "source": [
    "# The last twos are the sub.701 32 agerages each, they have to be merged\n",
    "a1 = raw.pop(-1)\n",
    "a2 = raw.pop(-1)"
   ]
  },
  {
   "cell_type": "code",
   "execution_count": 12,
   "metadata": {},
   "outputs": [],
   "source": [
    "a = np.append(a1, a2, axis=0)"
   ]
  },
  {
   "cell_type": "code",
   "execution_count": 13,
   "metadata": {},
   "outputs": [
    {
     "data": {
      "text/plain": [
       "(64, 32, 4096)"
      ]
     },
     "execution_count": 13,
     "metadata": {},
     "output_type": "execute_result"
    }
   ],
   "source": [
    "a.shape"
   ]
  },
  {
   "cell_type": "code",
   "execution_count": 14,
   "metadata": {},
   "outputs": [],
   "source": [
    "amrs = raw[0].inherit(a)"
   ]
  },
  {
   "cell_type": "code",
   "execution_count": 15,
   "metadata": {},
   "outputs": [
    {
     "data": {
      "text/plain": [
       "True"
      ]
     },
     "execution_count": 15,
     "metadata": {},
     "output_type": "execute_result"
    }
   ],
   "source": [
    "(amrs == a).all()"
   ]
  },
  {
   "cell_type": "code",
   "execution_count": 16,
   "metadata": {},
   "outputs": [],
   "source": [
    "raw = raw + [amrs]"
   ]
  },
  {
   "cell_type": "code",
   "execution_count": 17,
   "metadata": {},
   "outputs": [],
   "source": [
    "# Average every odd and even acquisition"
   ]
  },
  {
   "cell_type": "code",
   "execution_count": 18,
   "metadata": {},
   "outputs": [],
   "source": [
    "def mean_everytwo(mm1):\n",
    "    out = 0.5*(mm1[0::2] + mm1[1::2])\n",
    "    return mm1.inherit(out)"
   ]
  },
  {
   "cell_type": "code",
   "execution_count": 19,
   "metadata": {},
   "outputs": [
    {
     "name": "stdout",
     "output_type": "stream",
     "text": [
      "CPU times: user 1.36 s, sys: 3.4 s, total: 4.76 s\n",
      "Wall time: 6.08 s\n"
     ]
    }
   ],
   "source": [
    "%%time\n",
    "with Parallel(n_jobs=2) as p:\n",
    "    mm2 = p(delayed(mean_everytwo)(i) for i in raw)"
   ]
  },
  {
   "cell_type": "code",
   "execution_count": 20,
   "metadata": {},
   "outputs": [
    {
     "data": {
      "text/plain": [
       "[(32, 32, 4096),\n",
       " (32, 32, 4096),\n",
       " (32, 32, 4096),\n",
       " (32, 32, 4096),\n",
       " (32, 32, 4096),\n",
       " (32, 32, 4096),\n",
       " (32, 32, 4096)]"
      ]
     },
     "execution_count": 20,
     "metadata": {},
     "output_type": "execute_result"
    }
   ],
   "source": [
    "[i.shape for i in mm2]"
   ]
  },
  {
   "cell_type": "code",
   "execution_count": 21,
   "metadata": {},
   "outputs": [],
   "source": [
    "def coil_combine(mrs):\n",
    "    coil_combined = []\n",
    "    for i in range(mrs.shape[0]):\n",
    "        weights = suspect.processing.channel_combination.svd_weighting(mrs[i,:,:])\n",
    "        coil_combined.append(suspect.processing.channel_combination.combine_channels(mrs[i,:,:],weights))\n",
    "    return mrs.inherit(np.array(coil_combined))"
   ]
  },
  {
   "cell_type": "code",
   "execution_count": 22,
   "metadata": {},
   "outputs": [
    {
     "name": "stdout",
     "output_type": "stream",
     "text": [
      "CPU times: user 38 s, sys: 35.2 s, total: 1min 13s\n",
      "Wall time: 24.1 s\n"
     ]
    }
   ],
   "source": [
    "%%time\n",
    "coil_combined = [coil_combine(i) for i in mm2]"
   ]
  },
  {
   "cell_type": "code",
   "execution_count": 23,
   "metadata": {},
   "outputs": [
    {
     "data": {
      "text/plain": [
       "[(32, 4096),\n",
       " (32, 4096),\n",
       " (32, 4096),\n",
       " (32, 4096),\n",
       " (32, 4096),\n",
       " (32, 4096),\n",
       " (32, 4096)]"
      ]
     },
     "execution_count": 23,
     "metadata": {},
     "output_type": "execute_result"
    }
   ],
   "source": [
    "[i.shape for i in coil_combined]"
   ]
  },
  {
   "cell_type": "code",
   "execution_count": 24,
   "metadata": {},
   "outputs": [
    {
     "data": {
      "text/plain": [
       "[suspect.mrsobjects.MRSData,\n",
       " suspect.mrsobjects.MRSData,\n",
       " suspect.mrsobjects.MRSData,\n",
       " suspect.mrsobjects.MRSData,\n",
       " suspect.mrsobjects.MRSData,\n",
       " suspect.mrsobjects.MRSData,\n",
       " suspect.mrsobjects.MRSData]"
      ]
     },
     "execution_count": 24,
     "metadata": {},
     "output_type": "execute_result"
    }
   ],
   "source": [
    "[type(i) for i in coil_combined]"
   ]
  },
  {
   "cell_type": "code",
   "execution_count": 27,
   "metadata": {},
   "outputs": [
    {
     "data": {
      "text/plain": [
       "(32, 4096)"
      ]
     },
     "execution_count": 27,
     "metadata": {},
     "output_type": "execute_result"
    }
   ],
   "source": [
    "first = coil_combined[0]\n",
    "first.shape"
   ]
  },
  {
   "cell_type": "code",
   "execution_count": 28,
   "metadata": {},
   "outputs": [
    {
     "ename": "TypeError",
     "evalue": "unsupported operand type(s) for /: 'float' and 'NoneType'",
     "output_type": "error",
     "traceback": [
      "\u001b[0;31m---------------------------------------------------------------------------\u001b[0m",
      "\u001b[0;31mTypeError\u001b[0m                                 Traceback (most recent call last)",
      "\u001b[0;32m<ipython-input-28-a040de49e221>\u001b[0m in \u001b[0;36m<module>\u001b[0;34m\u001b[0m\n\u001b[0;32m----> 1\u001b[0;31m \u001b[0mfirst\u001b[0m\u001b[0;34m.\u001b[0m\u001b[0mfrequency_axis_ppm\u001b[0m\u001b[0;34m(\u001b[0m\u001b[0;34m)\u001b[0m\u001b[0;34m\u001b[0m\u001b[0;34m\u001b[0m\u001b[0m\n\u001b[0m",
      "\u001b[0;32m~/.conda/envs/mrs/lib/python3.7/site-packages/suspect/mrsobjects.py\u001b[0m in \u001b[0;36mfrequency_axis_ppm\u001b[0;34m(self)\u001b[0m\n\u001b[1;32m    183\u001b[0m \u001b[0;34m\u001b[0m\u001b[0m\n\u001b[1;32m    184\u001b[0m         \"\"\"\n\u001b[0;32m--> 185\u001b[0;31m         return numpy.linspace(self.hertz_to_ppm(-self.sw / 2.0),\n\u001b[0m\u001b[1;32m    186\u001b[0m                               \u001b[0mself\u001b[0m\u001b[0;34m.\u001b[0m\u001b[0mhertz_to_ppm\u001b[0m\u001b[0;34m(\u001b[0m\u001b[0mself\u001b[0m\u001b[0;34m.\u001b[0m\u001b[0msw\u001b[0m \u001b[0;34m/\u001b[0m \u001b[0;36m2.0\u001b[0m\u001b[0;34m)\u001b[0m\u001b[0;34m,\u001b[0m\u001b[0;34m\u001b[0m\u001b[0;34m\u001b[0m\u001b[0m\n\u001b[1;32m    187\u001b[0m                               self.np, endpoint=False)\n",
      "\u001b[0;32m~/.conda/envs/mrs/lib/python3.7/site-packages/suspect/mrsobjects.py\u001b[0m in \u001b[0;36msw\u001b[0;34m(self)\u001b[0m\n\u001b[1;32m     88\u001b[0m \u001b[0;34m\u001b[0m\u001b[0m\n\u001b[1;32m     89\u001b[0m         \"\"\"\n\u001b[0;32m---> 90\u001b[0;31m         \u001b[0;32mreturn\u001b[0m \u001b[0;36m1.0\u001b[0m \u001b[0;34m/\u001b[0m \u001b[0mself\u001b[0m\u001b[0;34m.\u001b[0m\u001b[0mdt\u001b[0m\u001b[0;34m\u001b[0m\u001b[0;34m\u001b[0m\u001b[0m\n\u001b[0m\u001b[1;32m     91\u001b[0m \u001b[0;34m\u001b[0m\u001b[0m\n\u001b[1;32m     92\u001b[0m     \u001b[0;34m@\u001b[0m\u001b[0mproperty\u001b[0m\u001b[0;34m\u001b[0m\u001b[0;34m\u001b[0m\u001b[0m\n",
      "\u001b[0;31mTypeError\u001b[0m: unsupported operand type(s) for /: 'float' and 'NoneType'"
     ]
    }
   ],
   "source": [
    "first.frequency_axis_ppm()"
   ]
  },
  {
   "cell_type": "code",
   "execution_count": null,
   "metadata": {},
   "outputs": [],
   "source": [
    "first = coil_combined[0]\n",
    "plt.plot(first.frequency_axis_ppm(), first.spectrum().real)\n",
    "plt.xlim([5,0])\n",
    "plt.axvline(4.7)"
   ]
  },
  {
   "cell_type": "code",
   "execution_count": null,
   "metadata": {},
   "outputs": [],
   "source": [
    "corr = suspect.processing.frequency_correction.residual_water_alignment(first)\n",
    "first = first.adjust_frequency(-corr)\n",
    "corr"
   ]
  },
  {
   "cell_type": "code",
   "execution_count": null,
   "metadata": {},
   "outputs": [],
   "source": []
  }
 ],
 "metadata": {
  "kernelspec": {
   "display_name": "Python 3 (ipykernel)",
   "language": "python",
   "name": "python3"
  },
  "language_info": {
   "codemirror_mode": {
    "name": "ipython",
    "version": 3
   },
   "file_extension": ".py",
   "mimetype": "text/x-python",
   "name": "python",
   "nbconvert_exporter": "python",
   "pygments_lexer": "ipython3",
   "version": "3.7.10"
  }
 },
 "nbformat": 4,
 "nbformat_minor": 4
}
